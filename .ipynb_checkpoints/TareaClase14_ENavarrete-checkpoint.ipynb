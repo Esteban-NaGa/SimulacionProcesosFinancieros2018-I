{
 "cells": [
  {
   "cell_type": "markdown",
   "metadata": {},
   "source": [
    "# <font color = blue> Tarea Clase 14\n",
    "\n",
    "## Alumno: Esteban Navarrete Garrido "
   ]
  },
  {
   "cell_type": "code",
   "execution_count": 20,
   "metadata": {
    "collapsed": true
   },
   "outputs": [],
   "source": [
    "import numpy as np\n",
    "import pandas as pd"
   ]
  },
  {
   "cell_type": "code",
   "execution_count": 21,
   "metadata": {},
   "outputs": [
    {
     "name": "stdout",
     "output_type": "stream",
     "text": [
      "La media del Montecarlo crudo:  1.17254795618\n"
     ]
    }
   ],
   "source": [
    "#Solución A\n",
    "\n",
    "np.random.seed(333)\n",
    "n = 10\n",
    "x = np.random.rand(n)\n",
    "f = (2*x + 1)**(1/3)\n",
    "mu = np.mean(f)\n",
    "print('La media del Montecarlo crudo: ',mu)"
   ]
  },
  {
   "cell_type": "code",
   "execution_count": 22,
   "metadata": {},
   "outputs": [
    {
     "name": "stdout",
     "output_type": "stream",
     "text": [
      "Las muestras son: [ 2.04046508  2.04725954  2.17519698  1.32424322  1.3209085   1.34795485\n",
      "  0.36009496  0.35623943  0.36024143  0.3605609 ]\n",
      "La media por el muestreo estratificado usando 3 estratos es de: 1.16931648834\n"
     ]
    }
   ],
   "source": [
    "#Solución B\n",
    "\n",
    "r1 = np.random.uniform(0  , 0.6, 3)\n",
    "r2 = np.random.uniform(0.6, 0.9, 3)\n",
    "r3 = np.random.uniform(0.9, 1  , 4)\n",
    "r  = [r1, r2, r3]\n",
    "m  = len(r)\n",
    "w  = [3/(10 * 0.6), 3/(10 * 0.3), 4/(10 * 0.1)]\n",
    "xi = list(map(lambda x: (2*x + 1)**(1/3), r))\n",
    "muestras = np.concatenate([xi[i]/w[i] for i in range(m)])\n",
    "print('Las muestras son:', muestras)\n",
    "print('La media por el muestreo estratificado usando 3 estratos es de:', np.mean(muestras))"
   ]
  },
  {
   "cell_type": "code",
   "execution_count": 23,
   "metadata": {},
   "outputs": [
    {
     "name": "stdout",
     "output_type": "stream",
     "text": [
      "La media por el método de números complememtarios es:  2.48811948783\n"
     ]
    }
   ],
   "source": [
    "#Solución C\n",
    "\n",
    "Xc = 1 - x\n",
    "Fc = (2*Xc + 1)**(1/3)\n",
    "Mc = np.mean(Fc)\n",
    "Mnueva = np.mean(Mc + mu)\n",
    "print(\"La media por el método de números complememtarios es: \" ,Mnueva)"
   ]
  },
  {
   "cell_type": "code",
   "execution_count": 24,
   "metadata": {},
   "outputs": [
    {
     "name": "stdout",
     "output_type": "stream",
     "text": [
      "La media de la muestra es= 1.29716773837\n"
     ]
    },
    {
     "data": {
      "text/html": [
       "<div>\n",
       "<style>\n",
       "    .dataframe thead tr:only-child th {\n",
       "        text-align: right;\n",
       "    }\n",
       "\n",
       "    .dataframe thead th {\n",
       "        text-align: left;\n",
       "    }\n",
       "\n",
       "    .dataframe tbody tr th {\n",
       "        vertical-align: top;\n",
       "    }\n",
       "</style>\n",
       "<table border=\"1\" class=\"dataframe\">\n",
       "  <thead>\n",
       "    <tr style=\"text-align: right;\">\n",
       "      <th></th>\n",
       "      <th>Observacion_generada</th>\n",
       "      <th>Numero_Aleatorio_Estrato</th>\n",
       "      <th>xi/w</th>\n",
       "    </tr>\n",
       "    <tr>\n",
       "      <th>Cantidad_terminos</th>\n",
       "      <th></th>\n",
       "      <th></th>\n",
       "      <th></th>\n",
       "    </tr>\n",
       "  </thead>\n",
       "  <tbody>\n",
       "    <tr>\n",
       "      <th>1</th>\n",
       "      <td>1.232356</td>\n",
       "      <td>0.435790</td>\n",
       "      <td>2.464712</td>\n",
       "    </tr>\n",
       "    <tr>\n",
       "      <th>2</th>\n",
       "      <td>1.164977</td>\n",
       "      <td>0.290537</td>\n",
       "      <td>2.329954</td>\n",
       "    </tr>\n",
       "    <tr>\n",
       "      <th>3</th>\n",
       "      <td>1.048367</td>\n",
       "      <td>0.076117</td>\n",
       "      <td>2.096735</td>\n",
       "    </tr>\n",
       "    <tr>\n",
       "      <th>4</th>\n",
       "      <td>1.312936</td>\n",
       "      <td>0.631621</td>\n",
       "      <td>1.312936</td>\n",
       "    </tr>\n",
       "    <tr>\n",
       "      <th>5</th>\n",
       "      <td>1.305570</td>\n",
       "      <td>0.612680</td>\n",
       "      <td>1.305570</td>\n",
       "    </tr>\n",
       "    <tr>\n",
       "      <th>6</th>\n",
       "      <td>1.328838</td>\n",
       "      <td>0.673239</td>\n",
       "      <td>1.328838</td>\n",
       "    </tr>\n",
       "    <tr>\n",
       "      <th>7</th>\n",
       "      <td>1.411856</td>\n",
       "      <td>0.907152</td>\n",
       "      <td>0.352964</td>\n",
       "    </tr>\n",
       "    <tr>\n",
       "      <th>8</th>\n",
       "      <td>1.442107</td>\n",
       "      <td>0.999557</td>\n",
       "      <td>0.360527</td>\n",
       "    </tr>\n",
       "    <tr>\n",
       "      <th>9</th>\n",
       "      <td>1.416184</td>\n",
       "      <td>0.920133</td>\n",
       "      <td>0.354046</td>\n",
       "    </tr>\n",
       "    <tr>\n",
       "      <th>10</th>\n",
       "      <td>1.438472</td>\n",
       "      <td>0.988245</td>\n",
       "      <td>0.359618</td>\n",
       "    </tr>\n",
       "  </tbody>\n",
       "</table>\n",
       "</div>"
      ],
      "text/plain": [
       "                   Observacion_generada  Numero_Aleatorio_Estrato      xi/w\n",
       "Cantidad_terminos                                                          \n",
       "1                              1.232356                  0.435790  2.464712\n",
       "2                              1.164977                  0.290537  2.329954\n",
       "3                              1.048367                  0.076117  2.096735\n",
       "4                              1.312936                  0.631621  1.312936\n",
       "5                              1.305570                  0.612680  1.305570\n",
       "6                              1.328838                  0.673239  1.328838\n",
       "7                              1.411856                  0.907152  0.352964\n",
       "8                              1.442107                  0.999557  0.360527\n",
       "9                              1.416184                  0.920133  0.354046\n",
       "10                             1.438472                  0.988245  0.359618"
      ]
     },
     "execution_count": 24,
     "metadata": {},
     "output_type": "execute_result"
    }
   ],
   "source": [
    "#Solución D\n",
    "\n",
    "r1 = np.random.uniform(0  , 0.6, 3)\n",
    "r2 = np.random.uniform(0.6, 0.9, 3)\n",
    "r3 = np.random.uniform(0.9, 1  , 4)\n",
    "r  = [r1, r2, r3]\n",
    "m  = range(len(r))\n",
    "w  = [3/(10 * 0.6), 3/(10 * 0.3), 4/(10 * 0.1)]\n",
    "xi = list(map(lambda x: (2*x + 1)**(1/3), r))\n",
    "\n",
    "muestras = np.concatenate([(xi[i]/w[i]).tolist() for i in m])\n",
    "i = [i for i in range(1,11)]\n",
    "df = pd.DataFrame(index = i,columns=['Observacion_generada',], dtype='float')\n",
    "df.index.name = \"Cantidad_terminos\"\n",
    "df.loc[i,\"Numero_Aleatorio_Estrato\"] = np.concatenate(r)\n",
    "df.loc[i,\"Observacion_generada\"] = np.concatenate(xi)\n",
    "df.loc[i,\"xi/w\"] = muestras\n",
    "m = [np.mean(xi[i]) for i in range(3)]\n",
    "m = sum(m)/len(xi)\n",
    "print('La media de la muestra es=',m)\n",
    "df"
   ]
  }
 ],
 "metadata": {
  "kernelspec": {
   "display_name": "Python 3",
   "language": "python",
   "name": "python3"
  },
  "language_info": {
   "codemirror_mode": {
    "name": "ipython",
    "version": 3
   },
   "file_extension": ".py",
   "mimetype": "text/x-python",
   "name": "python",
   "nbconvert_exporter": "python",
   "pygments_lexer": "ipython3",
   "version": "3.6.3"
  }
 },
 "nbformat": 4,
 "nbformat_minor": 2
}
