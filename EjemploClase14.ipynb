{
 "cells": [
  {
   "cell_type": "code",
   "execution_count": 1,
   "metadata": {
    "collapsed": true
   },
   "outputs": [],
   "source": [
    "import numpy as np"
   ]
  },
  {
   "cell_type": "code",
   "execution_count": 2,
   "metadata": {},
   "outputs": [
    {
     "name": "stdout",
     "output_type": "stream",
     "text": [
      "La media del Monte Carlo crudo es: 4.5123810063\n"
     ]
    }
   ],
   "source": [
    "np.random.seed(5555)\n",
    "\n",
    "#Solución A\n",
    "\n",
    "n=10\n",
    "x=np.random.rand(n)\n",
    "#Usamos el método de la transformada inversa, integrando la función de 0 a 1 (acumulada) integrando la función\n",
    "# y luego evaluando en este caso de 1 a x obteniendo así = -(1/x) +1, seguido lo igualamos a Y y despejamos X\n",
    "#obteniendo x= -1/(y-1)\n",
    "\n",
    "f = 1/(1-x)\n",
    "mu = np.mean(f)\n",
    "print('La media del Monte Carlo crudo es:', mu)"
   ]
  },
  {
   "cell_type": "code",
   "execution_count": 3,
   "metadata": {},
   "outputs": [
    {
     "name": "stdout",
     "output_type": "stream",
     "text": [
      "[ 3.38169866  2.64957297  3.73657707  9.55500984  9.06170213  5.83400615\n",
      "  9.02862912  3.0806722   4.77065669  3.51491686]\n",
      "5.46134416803\n"
     ]
    }
   ],
   "source": [
    "#Solución B\n",
    "\n",
    "r1=np.random.uniform(0,0.6,3)\n",
    "r2=np.random.uniform(0.6,0.9,3)\n",
    "r3=np.random.uniform(0.9,1,4)\n",
    "\n",
    "r=[r1,r2,r3]\n",
    "\n",
    "m=len(r)\n",
    "w=[3/(10*0.6), 3/(10*0.3), 4/(10*0.1)]\n",
    "xi=list(map(lambda x: 1/(1-x), r))\n",
    "muestras = np.concatenate([(xi[i]/w[i]) for i in range (m)]) #Se hace una compresión de listas entre corchetes\n",
    "print(muestras)\n",
    "print(np.mean(muestras))"
   ]
  },
  {
   "cell_type": "code",
   "execution_count": 6,
   "metadata": {},
   "outputs": [
    {
     "name": "stdout",
     "output_type": "stream",
     "text": [
      "La media por método de complementarios es: 6.7744717653\n"
     ]
    }
   ],
   "source": [
    "#Solución C\n",
    "\n",
    "Xc = 1 - x\n",
    "Fc = 1/(1-Xc) #Función inversa complementaria\n",
    "Mc = np.mean(Fc)\n",
    "MuNueva = np.mean(Mc+mu)\n",
    "print('La media por método de complementarios es:', MuNueva)"
   ]
  },
  {
   "cell_type": "code",
   "execution_count": null,
   "metadata": {
    "collapsed": true
   },
   "outputs": [],
   "source": [
    "#Solución D"
   ]
  }
 ],
 "metadata": {
  "kernelspec": {
   "display_name": "Python 3",
   "language": "python",
   "name": "python3"
  },
  "language_info": {
   "codemirror_mode": {
    "name": "ipython",
    "version": 3
   },
   "file_extension": ".py",
   "mimetype": "text/x-python",
   "name": "python",
   "nbconvert_exporter": "python",
   "pygments_lexer": "ipython3",
   "version": "3.6.3"
  }
 },
 "nbformat": 4,
 "nbformat_minor": 2
}
