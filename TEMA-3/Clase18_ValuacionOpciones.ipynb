{
 "cells": [
  {
   "cell_type": "markdown",
   "metadata": {},
   "source": [
<<<<<<< Updated upstream
=======
    "<img style=\"float: right; margin: 0px 0px 15px 15px;\" src=\"https://encrypted-tbn0.gstatic.com/images?q=tbn:ANd9GcSQt6eQo8JPYzYO4p6WmxLtccdtJ4X8WR6GzVVKbsMjyGvUDEn1mg\" width=\"300px\" height=\"100px\" />\n",
>>>>>>> Stashed changes
    "# Trabajando con opciones"
   ]
  },
  {
   "cell_type": "markdown",
   "metadata": {},
   "source": [
    "## 1. ¿Cómo descargar datos de opciones?"
   ]
  },
  {
   "cell_type": "code",
<<<<<<< Updated upstream
   "execution_count": 164,
   "metadata": {
    "collapsed": true
   },
=======
   "execution_count": 92,
   "metadata": {},
>>>>>>> Stashed changes
   "outputs": [],
   "source": [
    "#importar los paquetes que se van a usar\n",
    "import pandas as pd\n",
    "import pandas_datareader.data as web\n",
    "import numpy as np\n",
    "import datetime\n",
    "import matplotlib.pyplot as plt\n",
<<<<<<< Updated upstream
    "import scipy.stats as st\n",
=======
    "import scipy.stats as stats\n",
>>>>>>> Stashed changes
    "import seaborn as sns\n",
    "%matplotlib inline\n",
    "#algunas opciones para Pandas\n",
    "pd.set_option('display.notebook_repr_html', True)\n",
    "pd.set_option('display.max_columns', 6)\n",
    "pd.set_option('display.max_rows', 10)\n",
    "pd.set_option('display.width', 78)\n",
    "pd.set_option('precision', 3)"
   ]
  },
  {
   "cell_type": "markdown",
   "metadata": {},
   "source": [
    "Usando el paquete `pandas_datareader` también podemos descargar datos de opciones. Por ejemplo, descarguemos los datos de las opciones cuyo activo subyacente son las acciones de Apple"
   ]
  },
  {
   "cell_type": "code",
<<<<<<< Updated upstream
   "execution_count": 2,
=======
   "execution_count": 137,
>>>>>>> Stashed changes
   "metadata": {},
   "outputs": [
    {
     "data": {
      "text/html": [
       "<div>\n",
<<<<<<< Updated upstream
       "<style>\n",
       "    .dataframe thead tr:only-child th {\n",
       "        text-align: right;\n",
       "    }\n",
       "\n",
       "    .dataframe thead th {\n",
       "        text-align: left;\n",
       "    }\n",
       "\n",
       "    .dataframe tbody tr th {\n",
       "        vertical-align: top;\n",
       "    }\n",
       "</style>\n",
=======
>>>>>>> Stashed changes
       "<table border=\"1\" class=\"dataframe\">\n",
       "  <thead>\n",
       "    <tr style=\"text-align: right;\">\n",
       "      <th></th>\n",
       "      <th>Strike</th>\n",
<<<<<<< Updated upstream
       "      <th>Type</th>\n",
       "      <th>Symbol</th>\n",
=======
       "      <th>Expiry</th>\n",
       "      <th>Type</th>\n",
>>>>>>> Stashed changes
       "      <th>...</th>\n",
       "      <th>Quote_Time</th>\n",
       "      <th>Last_Trade_Date</th>\n",
       "      <th>JSON</th>\n",
       "    </tr>\n",
<<<<<<< Updated upstream
       "    <tr>\n",
       "      <th>Expiry</th>\n",
       "      <th></th>\n",
       "      <th></th>\n",
       "      <th></th>\n",
       "      <th></th>\n",
       "      <th></th>\n",
       "      <th></th>\n",
       "      <th></th>\n",
       "    </tr>\n",
       "  </thead>\n",
       "  <tbody>\n",
       "    <tr>\n",
       "      <th>2018-04-20</th>\n",
       "      <td>2.5</td>\n",
       "      <td>call</td>\n",
       "      <td>AAPL180420C00002500</td>\n",
       "      <td>...</td>\n",
       "      <td>2018-04-12 17:08:03</td>\n",
=======
       "  </thead>\n",
       "  <tbody>\n",
       "    <tr>\n",
       "      <th>0</th>\n",
       "      <td>2.5</td>\n",
       "      <td>2018-04-20</td>\n",
       "      <td>call</td>\n",
       "      <td>...</td>\n",
       "      <td>2018-04-09 20:00:00</td>\n",
>>>>>>> Stashed changes
       "      <td>2017-11-28 16:24:01</td>\n",
       "      <td>{'contractSymbol': 'AAPL180420C00002500', 'str...</td>\n",
       "    </tr>\n",
       "    <tr>\n",
<<<<<<< Updated upstream
       "      <th>2018-04-20</th>\n",
       "      <td>2.5</td>\n",
       "      <td>put</td>\n",
       "      <td>AAPL180420P00002500</td>\n",
       "      <td>...</td>\n",
       "      <td>2018-04-12 17:08:03</td>\n",
=======
       "      <th>1</th>\n",
       "      <td>2.5</td>\n",
       "      <td>2018-04-20</td>\n",
       "      <td>put</td>\n",
       "      <td>...</td>\n",
       "      <td>2018-04-09 20:00:00</td>\n",
>>>>>>> Stashed changes
       "      <td>2017-09-23 03:55:28</td>\n",
       "      <td>{'contractSymbol': 'AAPL180420P00002500', 'str...</td>\n",
       "    </tr>\n",
       "    <tr>\n",
<<<<<<< Updated upstream
       "      <th>2018-10-19</th>\n",
       "      <td>2.5</td>\n",
       "      <td>call</td>\n",
       "      <td>AAPL181019C00002500</td>\n",
       "      <td>...</td>\n",
       "      <td>2018-04-12 17:08:03</td>\n",
=======
       "      <th>2</th>\n",
       "      <td>2.5</td>\n",
       "      <td>2018-10-19</td>\n",
       "      <td>call</td>\n",
       "      <td>...</td>\n",
       "      <td>2018-04-09 20:00:00</td>\n",
>>>>>>> Stashed changes
       "      <td>2018-03-28 13:24:58</td>\n",
       "      <td>{'contractSymbol': 'AAPL181019C00002500', 'str...</td>\n",
       "    </tr>\n",
       "    <tr>\n",
<<<<<<< Updated upstream
       "      <th>2018-10-19</th>\n",
       "      <td>2.5</td>\n",
       "      <td>put</td>\n",
       "      <td>AAPL181019P00002500</td>\n",
       "      <td>...</td>\n",
       "      <td>2018-04-12 17:08:03</td>\n",
=======
       "      <th>3</th>\n",
       "      <td>2.5</td>\n",
       "      <td>2018-10-19</td>\n",
       "      <td>put</td>\n",
       "      <td>...</td>\n",
       "      <td>2018-04-09 20:00:00</td>\n",
>>>>>>> Stashed changes
       "      <td>2018-04-07 03:57:30</td>\n",
       "      <td>{'contractSymbol': 'AAPL181019P00002500', 'str...</td>\n",
       "    </tr>\n",
       "    <tr>\n",
<<<<<<< Updated upstream
       "      <th>2018-04-20</th>\n",
       "      <td>5.0</td>\n",
       "      <td>call</td>\n",
       "      <td>AAPL180420C00005000</td>\n",
       "      <td>...</td>\n",
       "      <td>2018-04-12 17:08:03</td>\n",
=======
       "      <th>4</th>\n",
       "      <td>5.0</td>\n",
       "      <td>2018-04-20</td>\n",
       "      <td>call</td>\n",
       "      <td>...</td>\n",
       "      <td>2018-04-09 20:00:00</td>\n",
>>>>>>> Stashed changes
       "      <td>2018-01-23 19:15:39</td>\n",
       "      <td>{'contractSymbol': 'AAPL180420C00005000', 'str...</td>\n",
       "    </tr>\n",
       "    <tr>\n",
       "      <th>...</th>\n",
       "      <td>...</td>\n",
       "      <td>...</td>\n",
       "      <td>...</td>\n",
       "      <td>...</td>\n",
       "      <td>...</td>\n",
       "      <td>...</td>\n",
       "      <td>...</td>\n",
       "    </tr>\n",
       "    <tr>\n",
<<<<<<< Updated upstream
       "      <th>2018-07-20</th>\n",
       "      <td>325.0</td>\n",
       "      <td>put</td>\n",
       "      <td>AAPL180720P00325000</td>\n",
       "      <td>...</td>\n",
       "      <td>2018-04-12 17:08:03</td>\n",
       "      <td>2018-01-13 04:45:00</td>\n",
       "      <td>{'contractSymbol': 'AAPL180720P00325000', 'str...</td>\n",
       "    </tr>\n",
       "    <tr>\n",
       "      <th>2018-10-19</th>\n",
       "      <td>335.0</td>\n",
       "      <td>call</td>\n",
       "      <td>AAPL181019C00335000</td>\n",
       "      <td>...</td>\n",
       "      <td>2018-04-12 17:08:03</td>\n",
       "      <td>2018-04-12 16:33:41</td>\n",
       "      <td>{'contractSymbol': 'AAPL181019C00335000', 'str...</td>\n",
       "    </tr>\n",
       "    <tr>\n",
       "      <th>2018-07-20</th>\n",
       "      <td>340.0</td>\n",
       "      <td>call</td>\n",
       "      <td>AAPL180720C00340000</td>\n",
       "      <td>...</td>\n",
       "      <td>2018-04-12 17:08:03</td>\n",
=======
       "      <th>1147</th>\n",
       "      <td>325.0</td>\n",
       "      <td>2018-07-20</td>\n",
       "      <td>call</td>\n",
       "      <td>...</td>\n",
       "      <td>2018-04-09 20:00:00</td>\n",
       "      <td>2018-03-30 03:55:26</td>\n",
       "      <td>{'contractSymbol': 'AAPL180720C00325000', 'str...</td>\n",
       "    </tr>\n",
       "    <tr>\n",
       "      <th>1148</th>\n",
       "      <td>325.0</td>\n",
       "      <td>2018-07-20</td>\n",
       "      <td>put</td>\n",
       "      <td>...</td>\n",
       "      <td>2018-04-09 20:00:00</td>\n",
       "      <td>2018-01-13 04:45:00</td>\n",
       "      <td>{'contractSymbol': 'AAPL180720P00325000', 'str...</td>\n",
       "    </tr>\n",
       "    <tr>\n",
       "      <th>1149</th>\n",
       "      <td>340.0</td>\n",
       "      <td>2018-07-20</td>\n",
       "      <td>call</td>\n",
       "      <td>...</td>\n",
       "      <td>2018-04-09 20:00:00</td>\n",
>>>>>>> Stashed changes
       "      <td>2018-01-26 19:12:28</td>\n",
       "      <td>{'contractSymbol': 'AAPL180720C00340000', 'str...</td>\n",
       "    </tr>\n",
       "    <tr>\n",
<<<<<<< Updated upstream
       "      <th>2018-10-19</th>\n",
       "      <td>340.0</td>\n",
       "      <td>call</td>\n",
       "      <td>AAPL181019C00340000</td>\n",
       "      <td>...</td>\n",
       "      <td>2018-04-12 17:08:03</td>\n",
=======
       "      <th>1150</th>\n",
       "      <td>340.0</td>\n",
       "      <td>2018-10-19</td>\n",
       "      <td>call</td>\n",
       "      <td>...</td>\n",
       "      <td>2018-04-09 20:00:00</td>\n",
>>>>>>> Stashed changes
       "      <td>2018-03-28 13:25:02</td>\n",
       "      <td>{'contractSymbol': 'AAPL181019C00340000', 'str...</td>\n",
       "    </tr>\n",
       "    <tr>\n",
<<<<<<< Updated upstream
       "      <th>2018-05-18</th>\n",
       "      <td>355.0</td>\n",
       "      <td>call</td>\n",
       "      <td>AAPL180518C00355000</td>\n",
       "      <td>...</td>\n",
       "      <td>2018-04-12 17:08:03</td>\n",
=======
       "      <th>1151</th>\n",
       "      <td>355.0</td>\n",
       "      <td>2018-05-18</td>\n",
       "      <td>call</td>\n",
       "      <td>...</td>\n",
       "      <td>2018-04-09 20:00:00</td>\n",
>>>>>>> Stashed changes
       "      <td>2018-03-28 13:24:33</td>\n",
       "      <td>{'contractSymbol': 'AAPL180518C00355000', 'str...</td>\n",
       "    </tr>\n",
       "  </tbody>\n",
       "</table>\n",
<<<<<<< Updated upstream
       "<p>1164 rows × 18 columns</p>\n",
       "</div>"
      ],
      "text/plain": [
       "            Strike  Type               Symbol  \\\n",
       "Expiry                                          \n",
       "2018-04-20     2.5  call  AAPL180420C00002500   \n",
       "2018-04-20     2.5   put  AAPL180420P00002500   \n",
       "2018-10-19     2.5  call  AAPL181019C00002500   \n",
       "2018-10-19     2.5   put  AAPL181019P00002500   \n",
       "2018-04-20     5.0  call  AAPL180420C00005000   \n",
       "...            ...   ...                  ...   \n",
       "2018-07-20   325.0   put  AAPL180720P00325000   \n",
       "2018-10-19   335.0  call  AAPL181019C00335000   \n",
       "2018-07-20   340.0  call  AAPL180720C00340000   \n",
       "2018-10-19   340.0  call  AAPL181019C00340000   \n",
       "2018-05-18   355.0  call  AAPL180518C00355000   \n",
       "\n",
       "                                  ...                          \\\n",
       "Expiry                            ...                           \n",
       "2018-04-20                        ...                           \n",
       "2018-04-20                        ...                           \n",
       "2018-10-19                        ...                           \n",
       "2018-10-19                        ...                           \n",
       "2018-04-20                        ...                           \n",
       "...                               ...                           \n",
       "2018-07-20                        ...                           \n",
       "2018-10-19                        ...                           \n",
       "2018-07-20                        ...                           \n",
       "2018-10-19                        ...                           \n",
       "2018-05-18                        ...                           \n",
       "\n",
       "                    Quote_Time     Last_Trade_Date  \\\n",
       "Expiry                                               \n",
       "2018-04-20 2018-04-12 17:08:03 2017-11-28 16:24:01   \n",
       "2018-04-20 2018-04-12 17:08:03 2017-09-23 03:55:28   \n",
       "2018-10-19 2018-04-12 17:08:03 2018-03-28 13:24:58   \n",
       "2018-10-19 2018-04-12 17:08:03 2018-04-07 03:57:30   \n",
       "2018-04-20 2018-04-12 17:08:03 2018-01-23 19:15:39   \n",
       "...                        ...                 ...   \n",
       "2018-07-20 2018-04-12 17:08:03 2018-01-13 04:45:00   \n",
       "2018-10-19 2018-04-12 17:08:03 2018-04-12 16:33:41   \n",
       "2018-07-20 2018-04-12 17:08:03 2018-01-26 19:12:28   \n",
       "2018-10-19 2018-04-12 17:08:03 2018-03-28 13:25:02   \n",
       "2018-05-18 2018-04-12 17:08:03 2018-03-28 13:24:33   \n",
       "\n",
       "                                                         JSON  \n",
       "Expiry                                                         \n",
       "2018-04-20  {'contractSymbol': 'AAPL180420C00002500', 'str...  \n",
       "2018-04-20  {'contractSymbol': 'AAPL180420P00002500', 'str...  \n",
       "2018-10-19  {'contractSymbol': 'AAPL181019C00002500', 'str...  \n",
       "2018-10-19  {'contractSymbol': 'AAPL181019P00002500', 'str...  \n",
       "2018-04-20  {'contractSymbol': 'AAPL180420C00005000', 'str...  \n",
       "...                                                       ...  \n",
       "2018-07-20  {'contractSymbol': 'AAPL180720P00325000', 'str...  \n",
       "2018-10-19  {'contractSymbol': 'AAPL181019C00335000', 'str...  \n",
       "2018-07-20  {'contractSymbol': 'AAPL180720C00340000', 'str...  \n",
       "2018-10-19  {'contractSymbol': 'AAPL181019C00340000', 'str...  \n",
       "2018-05-18  {'contractSymbol': 'AAPL180518C00355000', 'str...  \n",
       "\n",
       "[1164 rows x 18 columns]"
      ]
     },
     "execution_count": 2,
=======
       "<p>1152 rows × 19 columns</p>\n",
       "</div>"
      ],
      "text/plain": [
       "      Strike     Expiry  Type  \\\n",
       "0        2.5 2018-04-20  call   \n",
       "1        2.5 2018-04-20   put   \n",
       "2        2.5 2018-10-19  call   \n",
       "3        2.5 2018-10-19   put   \n",
       "4        5.0 2018-04-20  call   \n",
       "...      ...        ...   ...   \n",
       "1147   325.0 2018-07-20  call   \n",
       "1148   325.0 2018-07-20   put   \n",
       "1149   340.0 2018-07-20  call   \n",
       "1150   340.0 2018-10-19  call   \n",
       "1151   355.0 2018-05-18  call   \n",
       "\n",
       "                            ...                                  Quote_Time  \\\n",
       "0                           ...                         2018-04-09 20:00:00   \n",
       "1                           ...                         2018-04-09 20:00:00   \n",
       "2                           ...                         2018-04-09 20:00:00   \n",
       "3                           ...                         2018-04-09 20:00:00   \n",
       "4                           ...                         2018-04-09 20:00:00   \n",
       "...                         ...                                         ...   \n",
       "1147                        ...                         2018-04-09 20:00:00   \n",
       "1148                        ...                         2018-04-09 20:00:00   \n",
       "1149                        ...                         2018-04-09 20:00:00   \n",
       "1150                        ...                         2018-04-09 20:00:00   \n",
       "1151                        ...                         2018-04-09 20:00:00   \n",
       "\n",
       "         Last_Trade_Date                                               JSON  \n",
       "0    2017-11-28 16:24:01  {'contractSymbol': 'AAPL180420C00002500', 'str...  \n",
       "1    2017-09-23 03:55:28  {'contractSymbol': 'AAPL180420P00002500', 'str...  \n",
       "2    2018-03-28 13:24:58  {'contractSymbol': 'AAPL181019C00002500', 'str...  \n",
       "3    2018-04-07 03:57:30  {'contractSymbol': 'AAPL181019P00002500', 'str...  \n",
       "4    2018-01-23 19:15:39  {'contractSymbol': 'AAPL180420C00005000', 'str...  \n",
       "...                  ...                                                ...  \n",
       "1147 2018-03-30 03:55:26  {'contractSymbol': 'AAPL180720C00325000', 'str...  \n",
       "1148 2018-01-13 04:45:00  {'contractSymbol': 'AAPL180720P00325000', 'str...  \n",
       "1149 2018-01-26 19:12:28  {'contractSymbol': 'AAPL180720C00340000', 'str...  \n",
       "1150 2018-03-28 13:25:02  {'contractSymbol': 'AAPL181019C00340000', 'str...  \n",
       "1151 2018-03-28 13:24:33  {'contractSymbol': 'AAPL180518C00355000', 'str...  \n",
       "\n",
       "[1152 rows x 19 columns]"
      ]
     },
     "execution_count": 137,
>>>>>>> Stashed changes
     "metadata": {},
     "output_type": "execute_result"
    }
   ],
   "source": [
<<<<<<< Updated upstream
    "aapl = web.YahooOptions('AAPL')\n",
    "aapl_opt = aapl.get_all_data().reset_index()\n",
    "aapl_opt.set_index('Expiry')\n",
    "\n",
    "# closes = web.YahooDailyReader(ticker, start_date, end_date).read().sort_index('major_axis')"
=======
    "start_date = datetime.datetime(2010, 1, 1)\n",
    "end_date = datetime.datetime(2013, 1, 27)\n",
    "\n",
    "aapl_opt = web.YahooOptions('AAPL').get_all_data().reset_index()\n",
    "aapl_opt"
>>>>>>> Stashed changes
   ]
  },
  {
   "cell_type": "code",
<<<<<<< Updated upstream
   "execution_count": 3,
   "metadata": {},
=======
   "execution_count": 141,
   "metadata": {
    "scrolled": true
   },
>>>>>>> Stashed changes
   "outputs": [
    {
     "data": {
      "text/plain": [
       "{'ask': 167.5,\n",
       " 'bid': 166.5,\n",
       " 'change': -1.0,\n",
       " 'contractSize': 'REGULAR',\n",
       " 'contractSymbol': 'AAPL180420C00002500',\n",
       " 'currency': 'USD',\n",
       " 'expiration': 1524182400,\n",
       " 'impliedVolatility': 1.0000000000000003e-05,\n",
       " 'inTheMoney': True,\n",
       " 'lastPrice': 170.95,\n",
       " 'lastTradeDate': 1511886241,\n",
       " 'openInterest': 5,\n",
       " 'percentChange': -0.5815644,\n",
       " 'strike': 2.5,\n",
       " 'volume': 5}"
      ]
     },
<<<<<<< Updated upstream
     "execution_count": 3,
=======
     "execution_count": 141,
>>>>>>> Stashed changes
     "metadata": {},
     "output_type": "execute_result"
    }
   ],
   "source": [
<<<<<<< Updated upstream
    "# aapl_opt.loc[0, 'JSON']\n",
    "aapl_opt.loc[0, 'JSON']"
=======
    "aapl_opt.iloc[0]['JSON']\n",
    "# aapl_opt.loc[0, 'JSON']"
>>>>>>> Stashed changes
   ]
  },
  {
   "cell_type": "markdown",
   "metadata": {},
   "source": [
    "Una vez tenemos la información, podemos consultar de qué tipo son las opciones"
   ]
  },
  {
   "cell_type": "code",
<<<<<<< Updated upstream
   "execution_count": 4,
=======
   "execution_count": 143,
>>>>>>> Stashed changes
   "metadata": {},
   "outputs": [
    {
     "data": {
<<<<<<< Updated upstream
      "text/plain": [
       "0       call\n",
       "1        put\n",
       "2       call\n",
       "3        put\n",
       "4       call\n",
       "        ... \n",
       "1159     put\n",
       "1160    call\n",
       "1161    call\n",
       "1162    call\n",
       "1163    call\n",
       "Name: Type, Length: 1164, dtype: object"
      ]
     },
     "execution_count": 4,
=======
      "text/html": [
       "<div>\n",
       "<table border=\"1\" class=\"dataframe\">\n",
       "  <thead>\n",
       "    <tr style=\"text-align: right;\">\n",
       "      <th></th>\n",
       "      <th>Type</th>\n",
       "      <th>Expiry</th>\n",
       "    </tr>\n",
       "  </thead>\n",
       "  <tbody>\n",
       "    <tr>\n",
       "      <th>0</th>\n",
       "      <td>call</td>\n",
       "      <td>2018-04-20</td>\n",
       "    </tr>\n",
       "    <tr>\n",
       "      <th>1</th>\n",
       "      <td>put</td>\n",
       "      <td>2018-04-20</td>\n",
       "    </tr>\n",
       "    <tr>\n",
       "      <th>2</th>\n",
       "      <td>call</td>\n",
       "      <td>2018-10-19</td>\n",
       "    </tr>\n",
       "    <tr>\n",
       "      <th>3</th>\n",
       "      <td>put</td>\n",
       "      <td>2018-10-19</td>\n",
       "    </tr>\n",
       "    <tr>\n",
       "      <th>4</th>\n",
       "      <td>call</td>\n",
       "      <td>2018-04-20</td>\n",
       "    </tr>\n",
       "    <tr>\n",
       "      <th>...</th>\n",
       "      <td>...</td>\n",
       "      <td>...</td>\n",
       "    </tr>\n",
       "    <tr>\n",
       "      <th>1147</th>\n",
       "      <td>call</td>\n",
       "      <td>2018-07-20</td>\n",
       "    </tr>\n",
       "    <tr>\n",
       "      <th>1148</th>\n",
       "      <td>put</td>\n",
       "      <td>2018-07-20</td>\n",
       "    </tr>\n",
       "    <tr>\n",
       "      <th>1149</th>\n",
       "      <td>call</td>\n",
       "      <td>2018-07-20</td>\n",
       "    </tr>\n",
       "    <tr>\n",
       "      <th>1150</th>\n",
       "      <td>call</td>\n",
       "      <td>2018-10-19</td>\n",
       "    </tr>\n",
       "    <tr>\n",
       "      <th>1151</th>\n",
       "      <td>call</td>\n",
       "      <td>2018-05-18</td>\n",
       "    </tr>\n",
       "  </tbody>\n",
       "</table>\n",
       "<p>1152 rows × 2 columns</p>\n",
       "</div>"
      ],
      "text/plain": [
       "      Type     Expiry\n",
       "0     call 2018-04-20\n",
       "1      put 2018-04-20\n",
       "2     call 2018-10-19\n",
       "3      put 2018-10-19\n",
       "4     call 2018-04-20\n",
       "...    ...        ...\n",
       "1147  call 2018-07-20\n",
       "1148   put 2018-07-20\n",
       "1149  call 2018-07-20\n",
       "1150  call 2018-10-19\n",
       "1151  call 2018-05-18\n",
       "\n",
       "[1152 rows x 2 columns]"
      ]
     },
     "execution_count": 143,
>>>>>>> Stashed changes
     "metadata": {},
     "output_type": "execute_result"
    }
   ],
   "source": [
<<<<<<< Updated upstream
    "aapl_opt.loc[:, 'Type']"
=======
    "aapl_opt.loc[:, ['Type','Expiry']]"
>>>>>>> Stashed changes
   ]
  },
  {
   "cell_type": "markdown",
   "metadata": {},
   "source": [
    "o en que fecha expiran"
   ]
  },
  {
   "cell_type": "code",
<<<<<<< Updated upstream
   "execution_count": 5,
=======
   "execution_count": 153,
>>>>>>> Stashed changes
   "metadata": {},
   "outputs": [
    {
     "data": {
      "text/plain": [
       "0      2018-04-20\n",
       "1      2018-04-20\n",
       "2      2018-10-19\n",
       "3      2018-10-19\n",
       "4      2018-04-20\n",
       "          ...    \n",
<<<<<<< Updated upstream
       "1159   2018-07-20\n",
       "1160   2018-10-19\n",
       "1161   2018-07-20\n",
       "1162   2018-10-19\n",
       "1163   2018-05-18\n",
       "Name: Expiry, Length: 1164, dtype: datetime64[ns]"
      ]
     },
     "execution_count": 5,
=======
       "1147   2018-07-20\n",
       "1148   2018-07-20\n",
       "1149   2018-07-20\n",
       "1150   2018-10-19\n",
       "1151   2018-05-18\n",
       "Name: Expiry, dtype: datetime64[ns]"
      ]
     },
     "execution_count": 153,
>>>>>>> Stashed changes
     "metadata": {},
     "output_type": "execute_result"
    }
   ],
   "source": [
    "aapl_opt.loc[:, 'Expiry']"
   ]
  },
  {
   "cell_type": "markdown",
   "metadata": {},
   "source": [
    "Por otra parte, podríamos querer consultar todas las opciones de compra (call) que expiran en cierta fecha (2018-06-15)"
   ]
  },
  {
   "cell_type": "code",
<<<<<<< Updated upstream
   "execution_count": 6,
=======
   "execution_count": 151,
>>>>>>> Stashed changes
   "metadata": {},
   "outputs": [
    {
     "data": {
      "text/html": [
       "<div>\n",
<<<<<<< Updated upstream
       "<style>\n",
       "    .dataframe thead tr:only-child th {\n",
       "        text-align: right;\n",
       "    }\n",
       "\n",
       "    .dataframe thead th {\n",
       "        text-align: left;\n",
       "    }\n",
       "\n",
       "    .dataframe tbody tr th {\n",
       "        vertical-align: top;\n",
       "    }\n",
       "</style>\n",
=======
>>>>>>> Stashed changes
       "<table border=\"1\" class=\"dataframe\">\n",
       "  <thead>\n",
       "    <tr style=\"text-align: right;\">\n",
       "      <th></th>\n",
       "      <th>Strike</th>\n",
       "      <th>Expiry</th>\n",
       "      <th>Type</th>\n",
       "      <th>...</th>\n",
       "      <th>Quote_Time</th>\n",
       "      <th>Last_Trade_Date</th>\n",
       "      <th>JSON</th>\n",
       "    </tr>\n",
       "  </thead>\n",
       "  <tbody>\n",
       "    <tr>\n",
       "      <th>42</th>\n",
       "      <td>70.0</td>\n",
       "      <td>2018-06-15</td>\n",
       "      <td>call</td>\n",
       "      <td>...</td>\n",
<<<<<<< Updated upstream
       "      <td>2018-04-12 17:08:03</td>\n",
=======
       "      <td>2018-04-09 20:00:00</td>\n",
>>>>>>> Stashed changes
       "      <td>2018-02-08 19:45:18</td>\n",
       "      <td>{'contractSymbol': 'AAPL180615C00070000', 'str...</td>\n",
       "    </tr>\n",
       "    <tr>\n",
       "      <th>50</th>\n",
       "      <td>75.0</td>\n",
       "      <td>2018-06-15</td>\n",
       "      <td>call</td>\n",
       "      <td>...</td>\n",
<<<<<<< Updated upstream
       "      <td>2018-04-12 17:08:03</td>\n",
=======
       "      <td>2018-04-09 20:00:00</td>\n",
>>>>>>> Stashed changes
       "      <td>2018-02-08 19:46:56</td>\n",
       "      <td>{'contractSymbol': 'AAPL180615C00075000', 'str...</td>\n",
       "    </tr>\n",
       "    <tr>\n",
       "      <th>62</th>\n",
       "      <td>80.0</td>\n",
       "      <td>2018-06-15</td>\n",
       "      <td>call</td>\n",
       "      <td>...</td>\n",
<<<<<<< Updated upstream
       "      <td>2018-04-12 17:08:03</td>\n",
=======
       "      <td>2018-04-09 20:00:00</td>\n",
>>>>>>> Stashed changes
       "      <td>2018-02-08 19:45:49</td>\n",
       "      <td>{'contractSymbol': 'AAPL180615C00080000', 'str...</td>\n",
       "    </tr>\n",
       "    <tr>\n",
       "      <th>75</th>\n",
       "      <td>85.0</td>\n",
       "      <td>2018-06-15</td>\n",
       "      <td>call</td>\n",
       "      <td>...</td>\n",
<<<<<<< Updated upstream
       "      <td>2018-04-12 17:08:03</td>\n",
=======
       "      <td>2018-04-09 20:00:00</td>\n",
>>>>>>> Stashed changes
       "      <td>2018-02-23 20:40:16</td>\n",
       "      <td>{'contractSymbol': 'AAPL180615C00085000', 'str...</td>\n",
       "    </tr>\n",
       "    <tr>\n",
       "      <th>91</th>\n",
       "      <td>90.0</td>\n",
       "      <td>2018-06-15</td>\n",
       "      <td>call</td>\n",
       "      <td>...</td>\n",
<<<<<<< Updated upstream
       "      <td>2018-04-12 17:08:03</td>\n",
=======
       "      <td>2018-04-09 20:00:00</td>\n",
>>>>>>> Stashed changes
       "      <td>2018-04-06 14:04:01</td>\n",
       "      <td>{'contractSymbol': 'AAPL180615C00090000', 'str...</td>\n",
       "    </tr>\n",
       "    <tr>\n",
       "      <th>...</th>\n",
       "      <td>...</td>\n",
       "      <td>...</td>\n",
       "      <td>...</td>\n",
       "      <td>...</td>\n",
       "      <td>...</td>\n",
       "      <td>...</td>\n",
       "      <td>...</td>\n",
       "    </tr>\n",
       "    <tr>\n",
<<<<<<< Updated upstream
       "      <th>1023</th>\n",
=======
       "      <th>1012</th>\n",
>>>>>>> Stashed changes
       "      <td>235.0</td>\n",
       "      <td>2018-06-15</td>\n",
       "      <td>call</td>\n",
       "      <td>...</td>\n",
<<<<<<< Updated upstream
       "      <td>2018-04-12 17:08:03</td>\n",
=======
       "      <td>2018-04-09 20:00:00</td>\n",
>>>>>>> Stashed changes
       "      <td>2018-03-21 14:53:42</td>\n",
       "      <td>{'contractSymbol': 'AAPL180615C00235000', 'str...</td>\n",
       "    </tr>\n",
       "    <tr>\n",
<<<<<<< Updated upstream
       "      <th>1037</th>\n",
=======
       "      <th>1026</th>\n",
>>>>>>> Stashed changes
       "      <td>240.0</td>\n",
       "      <td>2018-06-15</td>\n",
       "      <td>call</td>\n",
       "      <td>...</td>\n",
<<<<<<< Updated upstream
       "      <td>2018-04-12 17:08:03</td>\n",
=======
       "      <td>2018-04-09 20:00:00</td>\n",
>>>>>>> Stashed changes
       "      <td>2018-04-05 19:38:40</td>\n",
       "      <td>{'contractSymbol': 'AAPL180615C00240000', 'str...</td>\n",
       "    </tr>\n",
       "    <tr>\n",
<<<<<<< Updated upstream
       "      <th>1055</th>\n",
=======
       "      <th>1044</th>\n",
>>>>>>> Stashed changes
       "      <td>245.0</td>\n",
       "      <td>2018-06-15</td>\n",
       "      <td>call</td>\n",
       "      <td>...</td>\n",
<<<<<<< Updated upstream
       "      <td>2018-04-12 17:08:03</td>\n",
=======
       "      <td>2018-04-09 20:00:00</td>\n",
>>>>>>> Stashed changes
       "      <td>2018-03-19 19:36:32</td>\n",
       "      <td>{'contractSymbol': 'AAPL180615C00245000', 'str...</td>\n",
       "    </tr>\n",
       "    <tr>\n",
<<<<<<< Updated upstream
       "      <th>1069</th>\n",
=======
       "      <th>1058</th>\n",
>>>>>>> Stashed changes
       "      <td>250.0</td>\n",
       "      <td>2018-06-15</td>\n",
       "      <td>call</td>\n",
       "      <td>...</td>\n",
<<<<<<< Updated upstream
       "      <td>2018-04-12 17:08:03</td>\n",
       "      <td>2018-04-11 13:30:10</td>\n",
       "      <td>{'contractSymbol': 'AAPL180615C00250000', 'str...</td>\n",
       "    </tr>\n",
       "    <tr>\n",
       "      <th>1093</th>\n",
=======
       "      <td>2018-04-09 20:00:00</td>\n",
       "      <td>2018-04-05 14:35:36</td>\n",
       "      <td>{'contractSymbol': 'AAPL180615C00250000', 'str...</td>\n",
       "    </tr>\n",
       "    <tr>\n",
       "      <th>1082</th>\n",
>>>>>>> Stashed changes
       "      <td>260.0</td>\n",
       "      <td>2018-06-15</td>\n",
       "      <td>call</td>\n",
       "      <td>...</td>\n",
<<<<<<< Updated upstream
       "      <td>2018-04-12 17:08:03</td>\n",
=======
       "      <td>2018-04-09 20:00:00</td>\n",
>>>>>>> Stashed changes
       "      <td>2018-04-05 13:31:30</td>\n",
       "      <td>{'contractSymbol': 'AAPL180615C00260000', 'str...</td>\n",
       "    </tr>\n",
       "  </tbody>\n",
       "</table>\n",
       "<p>38 rows × 19 columns</p>\n",
       "</div>"
      ],
      "text/plain": [
       "      Strike     Expiry  Type  \\\n",
       "42      70.0 2018-06-15  call   \n",
       "50      75.0 2018-06-15  call   \n",
       "62      80.0 2018-06-15  call   \n",
       "75      85.0 2018-06-15  call   \n",
       "91      90.0 2018-06-15  call   \n",
       "...      ...        ...   ...   \n",
<<<<<<< Updated upstream
       "1023   235.0 2018-06-15  call   \n",
       "1037   240.0 2018-06-15  call   \n",
       "1055   245.0 2018-06-15  call   \n",
       "1069   250.0 2018-06-15  call   \n",
       "1093   260.0 2018-06-15  call   \n",
       "\n",
       "                            ...                                  Quote_Time  \\\n",
       "42                          ...                         2018-04-12 17:08:03   \n",
       "50                          ...                         2018-04-12 17:08:03   \n",
       "62                          ...                         2018-04-12 17:08:03   \n",
       "75                          ...                         2018-04-12 17:08:03   \n",
       "91                          ...                         2018-04-12 17:08:03   \n",
       "...                         ...                                         ...   \n",
       "1023                        ...                         2018-04-12 17:08:03   \n",
       "1037                        ...                         2018-04-12 17:08:03   \n",
       "1055                        ...                         2018-04-12 17:08:03   \n",
       "1069                        ...                         2018-04-12 17:08:03   \n",
       "1093                        ...                         2018-04-12 17:08:03   \n",
=======
       "1012   235.0 2018-06-15  call   \n",
       "1026   240.0 2018-06-15  call   \n",
       "1044   245.0 2018-06-15  call   \n",
       "1058   250.0 2018-06-15  call   \n",
       "1082   260.0 2018-06-15  call   \n",
       "\n",
       "                            ...                                  Quote_Time  \\\n",
       "42                          ...                         2018-04-09 20:00:00   \n",
       "50                          ...                         2018-04-09 20:00:00   \n",
       "62                          ...                         2018-04-09 20:00:00   \n",
       "75                          ...                         2018-04-09 20:00:00   \n",
       "91                          ...                         2018-04-09 20:00:00   \n",
       "...                         ...                                         ...   \n",
       "1012                        ...                         2018-04-09 20:00:00   \n",
       "1026                        ...                         2018-04-09 20:00:00   \n",
       "1044                        ...                         2018-04-09 20:00:00   \n",
       "1058                        ...                         2018-04-09 20:00:00   \n",
       "1082                        ...                         2018-04-09 20:00:00   \n",
>>>>>>> Stashed changes
       "\n",
       "         Last_Trade_Date                                               JSON  \n",
       "42   2018-02-08 19:45:18  {'contractSymbol': 'AAPL180615C00070000', 'str...  \n",
       "50   2018-02-08 19:46:56  {'contractSymbol': 'AAPL180615C00075000', 'str...  \n",
       "62   2018-02-08 19:45:49  {'contractSymbol': 'AAPL180615C00080000', 'str...  \n",
       "75   2018-02-23 20:40:16  {'contractSymbol': 'AAPL180615C00085000', 'str...  \n",
       "91   2018-04-06 14:04:01  {'contractSymbol': 'AAPL180615C00090000', 'str...  \n",
       "...                  ...                                                ...  \n",
<<<<<<< Updated upstream
       "1023 2018-03-21 14:53:42  {'contractSymbol': 'AAPL180615C00235000', 'str...  \n",
       "1037 2018-04-05 19:38:40  {'contractSymbol': 'AAPL180615C00240000', 'str...  \n",
       "1055 2018-03-19 19:36:32  {'contractSymbol': 'AAPL180615C00245000', 'str...  \n",
       "1069 2018-04-11 13:30:10  {'contractSymbol': 'AAPL180615C00250000', 'str...  \n",
       "1093 2018-04-05 13:31:30  {'contractSymbol': 'AAPL180615C00260000', 'str...  \n",
=======
       "1012 2018-03-21 14:53:42  {'contractSymbol': 'AAPL180615C00235000', 'str...  \n",
       "1026 2018-04-05 19:38:40  {'contractSymbol': 'AAPL180615C00240000', 'str...  \n",
       "1044 2018-03-19 19:36:32  {'contractSymbol': 'AAPL180615C00245000', 'str...  \n",
       "1058 2018-04-05 14:35:36  {'contractSymbol': 'AAPL180615C00250000', 'str...  \n",
       "1082 2018-04-05 13:31:30  {'contractSymbol': 'AAPL180615C00260000', 'str...  \n",
>>>>>>> Stashed changes
       "\n",
       "[38 rows x 19 columns]"
      ]
     },
<<<<<<< Updated upstream
     "execution_count": 6,
=======
     "execution_count": 151,
>>>>>>> Stashed changes
     "metadata": {},
     "output_type": "execute_result"
    }
   ],
   "source": [
    "call06 = aapl_opt.loc[(aapl_opt.Expiry=='2018-06-15') & (aapl_opt.Type=='call')]\n",
    "call06"
   ]
  },
  {
   "cell_type": "markdown",
   "metadata": {},
   "source": [
    "## 2. ¿Qué es la volatilidad implícita?"
   ]
  },
  {
   "cell_type": "markdown",
   "metadata": {},
   "source": [
    "**Volatilidad:** desviación estándar de los rendimientos.\n",
    "- ¿Cómo se calcula?\n",
    "- ¿Para qué calcular la volatilidad?"
   ]
  },
  {
<<<<<<< Updated upstream
   "attachments": {
    "imagen.png": {
     "image/png": "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"
    }
   },
=======
>>>>>>> Stashed changes
   "cell_type": "markdown",
   "metadata": {},
   "source": [
    "- **Para valuar derivados**, por ejemplo **opciones**.\n",
    "- Método de valuación de riesgo neutral (se supone que el precio del activo $S_t$ no se ve afectado por el riesgo de mercado).\n",
    "\n",
    "Recorderis de cuantitativas:\n",
    "1. Ecuación de Black-Scholes\n",
<<<<<<< Updated upstream
    "$$ dS(t) = \\mu S(t) + \\sigma S(t)dW_t$$\n",
    "2. Solución de la ecuación\n",
    "\n",
    "El valor de una opción Europea de vainilla $V_t$ puede obtenerse por:\n",
    "$$V_t = F(t,S_t)$$ donde\n",
    "![imagen.png](attachment:imagen.png)\n",
=======
    "2. Solución de la ecuación\n",
>>>>>>> Stashed changes
    "3. Opción de compra europea, suponiendo que los precios del activo son lognormales\n",
    "4. Opción de venta europea, suponiendo que los precios del activo son lognormales"
   ]
  },
  {
   "cell_type": "markdown",
   "metadata": {},
   "source": [
<<<<<<< Updated upstream
    "Entonces, ¿qué es la **volatilidad implícita**?\n",
    "\n",
    "La volatilidad es una medida de la incertidumbre sobre el comportamiento futuro de un activo, que se mide habitualmente como la desviación típica de la rentabilidad de dicho activo. "
=======
    "**Tarea (para el lunes):** deducción de lo anterior usando latex en markdown. Deben nombrar Tarea4_ApellidoNombre.\n",
    "\n",
    "$$\\int_{-\\infty}^{\\infty}\\exp(-x)dx$$"
   ]
  },
  {
   "cell_type": "markdown",
   "metadata": {},
   "source": [
    "Entonces, ¿qué es la **volatilidad implícita**?"
   ]
  },
  {
   "cell_type": "code",
   "execution_count": 160,
   "metadata": {},
   "outputs": [
    {
     "data": {
      "text/plain": [
       "42      1.000e-05\n",
       "50      1.000e-05\n",
       "62      1.000e-05\n",
       "75      1.000e-05\n",
       "91      8.892e-01\n",
       "          ...    \n",
       "1012    3.623e-01\n",
       "1026    3.506e-01\n",
       "1044    3.980e-01\n",
       "1058    3.672e-01\n",
       "1082    3.857e-01\n",
       "Name: IV, dtype: float64"
      ]
     },
     "execution_count": 160,
     "metadata": {},
     "output_type": "execute_result"
    }
   ],
   "source": [
    "call06.loc[:,'IV']"
   ]
  },
  {
   "cell_type": "code",
   "execution_count": 157,
   "metadata": {},
   "outputs": [],
   "source": [
    "# call06.set_index('Strike')\n",
    "call06.Underlying_Price"
>>>>>>> Stashed changes
   ]
  },
  {
   "cell_type": "code",
<<<<<<< Updated upstream
   "execution_count": 7,
=======
   "execution_count": 158,
>>>>>>> Stashed changes
   "metadata": {},
   "outputs": [
    {
     "data": {
<<<<<<< Updated upstream
      "image/png": "iVBORw0KGgoAAAANSUhEUgAAAecAAAF3CAYAAACfa4MXAAAABHNCSVQICAgIfAhkiAAAAAlwSFlz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\n",
      "text/plain": [
       "<matplotlib.figure.Figure at 0x202987a0f60>"
=======
      "image/png": "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\n",
      "text/plain": [
       "<matplotlib.figure.Figure at 0x1c9baa06cf8>"
>>>>>>> Stashed changes
      ]
     },
     "metadata": {},
     "output_type": "display_data"
    }
   ],
   "source": [
    "ax = call06.set_index('Strike').loc[:, 'IV'].plot(figsize=(8,6))\n",
    "ax.axvline(call06.Underlying_Price.iloc[0], color='g');"
   ]
  },
  {
   "cell_type": "code",
<<<<<<< Updated upstream
   "execution_count": 8,
=======
   "execution_count": 163,
>>>>>>> Stashed changes
   "metadata": {},
   "outputs": [
    {
     "data": {
      "text/html": [
       "<div>\n",
<<<<<<< Updated upstream
       "<style>\n",
       "    .dataframe thead tr:only-child th {\n",
       "        text-align: right;\n",
       "    }\n",
       "\n",
       "    .dataframe thead th {\n",
       "        text-align: left;\n",
       "    }\n",
       "\n",
       "    .dataframe tbody tr th {\n",
       "        vertical-align: top;\n",
       "    }\n",
       "</style>\n",
=======
>>>>>>> Stashed changes
       "<table border=\"1\" class=\"dataframe\">\n",
       "  <thead>\n",
       "    <tr style=\"text-align: right;\">\n",
       "      <th></th>\n",
       "      <th>Strike</th>\n",
       "      <th>Expiry</th>\n",
       "      <th>Type</th>\n",
       "      <th>...</th>\n",
       "      <th>Quote_Time</th>\n",
       "      <th>Last_Trade_Date</th>\n",
       "      <th>JSON</th>\n",
       "    </tr>\n",
       "  </thead>\n",
       "  <tbody>\n",
       "    <tr>\n",
       "      <th>43</th>\n",
       "      <td>70.0</td>\n",
       "      <td>2018-06-15</td>\n",
       "      <td>put</td>\n",
       "      <td>...</td>\n",
<<<<<<< Updated upstream
       "      <td>2018-04-12 17:08:03</td>\n",
=======
       "      <td>2018-04-09 20:00:00</td>\n",
>>>>>>> Stashed changes
       "      <td>2018-04-05 16:34:31</td>\n",
       "      <td>{'contractSymbol': 'AAPL180615P00070000', 'str...</td>\n",
       "    </tr>\n",
       "    <tr>\n",
       "      <th>51</th>\n",
       "      <td>75.0</td>\n",
       "      <td>2018-06-15</td>\n",
       "      <td>put</td>\n",
       "      <td>...</td>\n",
<<<<<<< Updated upstream
       "      <td>2018-04-12 17:08:03</td>\n",
=======
       "      <td>2018-04-09 20:00:00</td>\n",
>>>>>>> Stashed changes
       "      <td>2018-04-09 19:06:31</td>\n",
       "      <td>{'contractSymbol': 'AAPL180615P00075000', 'str...</td>\n",
       "    </tr>\n",
       "    <tr>\n",
       "      <th>63</th>\n",
       "      <td>80.0</td>\n",
       "      <td>2018-06-15</td>\n",
       "      <td>put</td>\n",
       "      <td>...</td>\n",
<<<<<<< Updated upstream
       "      <td>2018-04-12 17:08:03</td>\n",
=======
       "      <td>2018-04-09 20:00:00</td>\n",
>>>>>>> Stashed changes
       "      <td>2018-04-09 17:07:44</td>\n",
       "      <td>{'contractSymbol': 'AAPL180615P00080000', 'str...</td>\n",
       "    </tr>\n",
       "    <tr>\n",
       "      <th>76</th>\n",
       "      <td>85.0</td>\n",
       "      <td>2018-06-15</td>\n",
       "      <td>put</td>\n",
       "      <td>...</td>\n",
<<<<<<< Updated upstream
       "      <td>2018-04-12 17:08:03</td>\n",
=======
       "      <td>2018-04-09 20:00:00</td>\n",
>>>>>>> Stashed changes
       "      <td>2018-03-29 16:43:52</td>\n",
       "      <td>{'contractSymbol': 'AAPL180615P00085000', 'str...</td>\n",
       "    </tr>\n",
       "    <tr>\n",
       "      <th>92</th>\n",
       "      <td>90.0</td>\n",
       "      <td>2018-06-15</td>\n",
       "      <td>put</td>\n",
       "      <td>...</td>\n",
<<<<<<< Updated upstream
       "      <td>2018-04-12 17:08:03</td>\n",
=======
       "      <td>2018-04-09 20:00:00</td>\n",
>>>>>>> Stashed changes
       "      <td>2018-04-04 13:30:11</td>\n",
       "      <td>{'contractSymbol': 'AAPL180615P00090000', 'str...</td>\n",
       "    </tr>\n",
       "    <tr>\n",
       "      <th>...</th>\n",
       "      <td>...</td>\n",
       "      <td>...</td>\n",
       "      <td>...</td>\n",
       "      <td>...</td>\n",
       "      <td>...</td>\n",
       "      <td>...</td>\n",
       "      <td>...</td>\n",
       "    </tr>\n",
       "    <tr>\n",
<<<<<<< Updated upstream
       "      <th>970</th>\n",
=======
       "      <th>959</th>\n",
>>>>>>> Stashed changes
       "      <td>220.0</td>\n",
       "      <td>2018-06-15</td>\n",
       "      <td>put</td>\n",
       "      <td>...</td>\n",
<<<<<<< Updated upstream
       "      <td>2018-04-12 17:08:03</td>\n",
=======
       "      <td>2018-04-09 20:00:00</td>\n",
>>>>>>> Stashed changes
       "      <td>2018-02-28 16:07:16</td>\n",
       "      <td>{'contractSymbol': 'AAPL180615P00220000', 'str...</td>\n",
       "    </tr>\n",
       "    <tr>\n",
<<<<<<< Updated upstream
       "      <th>991</th>\n",
=======
       "      <th>980</th>\n",
>>>>>>> Stashed changes
       "      <td>225.0</td>\n",
       "      <td>2018-06-15</td>\n",
       "      <td>put</td>\n",
       "      <td>...</td>\n",
<<<<<<< Updated upstream
       "      <td>2018-04-12 17:08:03</td>\n",
=======
       "      <td>2018-04-09 20:00:00</td>\n",
>>>>>>> Stashed changes
       "      <td>2018-04-05 14:03:27</td>\n",
       "      <td>{'contractSymbol': 'AAPL180615P00225000', 'str...</td>\n",
       "    </tr>\n",
       "    <tr>\n",
<<<<<<< Updated upstream
       "      <th>1007</th>\n",
=======
       "      <th>996</th>\n",
>>>>>>> Stashed changes
       "      <td>230.0</td>\n",
       "      <td>2018-06-15</td>\n",
       "      <td>put</td>\n",
       "      <td>...</td>\n",
<<<<<<< Updated upstream
       "      <td>2018-04-12 17:08:03</td>\n",
=======
       "      <td>2018-04-09 20:00:00</td>\n",
>>>>>>> Stashed changes
       "      <td>2018-02-12 18:36:55</td>\n",
       "      <td>{'contractSymbol': 'AAPL180615P00230000', 'str...</td>\n",
       "    </tr>\n",
       "    <tr>\n",
<<<<<<< Updated upstream
       "      <th>1038</th>\n",
=======
       "      <th>1027</th>\n",
>>>>>>> Stashed changes
       "      <td>240.0</td>\n",
       "      <td>2018-06-15</td>\n",
       "      <td>put</td>\n",
       "      <td>...</td>\n",
<<<<<<< Updated upstream
       "      <td>2018-04-12 17:08:03</td>\n",
=======
       "      <td>2018-04-09 20:00:00</td>\n",
>>>>>>> Stashed changes
       "      <td>2018-02-17 04:46:07</td>\n",
       "      <td>{'contractSymbol': 'AAPL180615P00240000', 'str...</td>\n",
       "    </tr>\n",
       "    <tr>\n",
<<<<<<< Updated upstream
       "      <th>1070</th>\n",
=======
       "      <th>1059</th>\n",
>>>>>>> Stashed changes
       "      <td>250.0</td>\n",
       "      <td>2018-06-15</td>\n",
       "      <td>put</td>\n",
       "      <td>...</td>\n",
<<<<<<< Updated upstream
       "      <td>2018-04-12 17:08:03</td>\n",
=======
       "      <td>2018-04-09 20:00:00</td>\n",
>>>>>>> Stashed changes
       "      <td>2018-03-19 15:22:19</td>\n",
       "      <td>{'contractSymbol': 'AAPL180615P00250000', 'str...</td>\n",
       "    </tr>\n",
       "  </tbody>\n",
       "</table>\n",
       "<p>35 rows × 19 columns</p>\n",
       "</div>"
      ],
      "text/plain": [
       "      Strike     Expiry Type  \\\n",
       "43      70.0 2018-06-15  put   \n",
       "51      75.0 2018-06-15  put   \n",
       "63      80.0 2018-06-15  put   \n",
       "76      85.0 2018-06-15  put   \n",
       "92      90.0 2018-06-15  put   \n",
       "...      ...        ...  ...   \n",
<<<<<<< Updated upstream
       "970    220.0 2018-06-15  put   \n",
       "991    225.0 2018-06-15  put   \n",
       "1007   230.0 2018-06-15  put   \n",
       "1038   240.0 2018-06-15  put   \n",
       "1070   250.0 2018-06-15  put   \n",
       "\n",
       "                            ...                                  Quote_Time  \\\n",
       "43                          ...                         2018-04-12 17:08:03   \n",
       "51                          ...                         2018-04-12 17:08:03   \n",
       "63                          ...                         2018-04-12 17:08:03   \n",
       "76                          ...                         2018-04-12 17:08:03   \n",
       "92                          ...                         2018-04-12 17:08:03   \n",
       "...                         ...                                         ...   \n",
       "970                         ...                         2018-04-12 17:08:03   \n",
       "991                         ...                         2018-04-12 17:08:03   \n",
       "1007                        ...                         2018-04-12 17:08:03   \n",
       "1038                        ...                         2018-04-12 17:08:03   \n",
       "1070                        ...                         2018-04-12 17:08:03   \n",
=======
       "959    220.0 2018-06-15  put   \n",
       "980    225.0 2018-06-15  put   \n",
       "996    230.0 2018-06-15  put   \n",
       "1027   240.0 2018-06-15  put   \n",
       "1059   250.0 2018-06-15  put   \n",
       "\n",
       "                            ...                                  Quote_Time  \\\n",
       "43                          ...                         2018-04-09 20:00:00   \n",
       "51                          ...                         2018-04-09 20:00:00   \n",
       "63                          ...                         2018-04-09 20:00:00   \n",
       "76                          ...                         2018-04-09 20:00:00   \n",
       "92                          ...                         2018-04-09 20:00:00   \n",
       "...                         ...                                         ...   \n",
       "959                         ...                         2018-04-09 20:00:00   \n",
       "980                         ...                         2018-04-09 20:00:00   \n",
       "996                         ...                         2018-04-09 20:00:00   \n",
       "1027                        ...                         2018-04-09 20:00:00   \n",
       "1059                        ...                         2018-04-09 20:00:00   \n",
>>>>>>> Stashed changes
       "\n",
       "         Last_Trade_Date                                               JSON  \n",
       "43   2018-04-05 16:34:31  {'contractSymbol': 'AAPL180615P00070000', 'str...  \n",
       "51   2018-04-09 19:06:31  {'contractSymbol': 'AAPL180615P00075000', 'str...  \n",
       "63   2018-04-09 17:07:44  {'contractSymbol': 'AAPL180615P00080000', 'str...  \n",
       "76   2018-03-29 16:43:52  {'contractSymbol': 'AAPL180615P00085000', 'str...  \n",
       "92   2018-04-04 13:30:11  {'contractSymbol': 'AAPL180615P00090000', 'str...  \n",
       "...                  ...                                                ...  \n",
<<<<<<< Updated upstream
       "970  2018-02-28 16:07:16  {'contractSymbol': 'AAPL180615P00220000', 'str...  \n",
       "991  2018-04-05 14:03:27  {'contractSymbol': 'AAPL180615P00225000', 'str...  \n",
       "1007 2018-02-12 18:36:55  {'contractSymbol': 'AAPL180615P00230000', 'str...  \n",
       "1038 2018-02-17 04:46:07  {'contractSymbol': 'AAPL180615P00240000', 'str...  \n",
       "1070 2018-03-19 15:22:19  {'contractSymbol': 'AAPL180615P00250000', 'str...  \n",
=======
       "959  2018-02-28 16:07:16  {'contractSymbol': 'AAPL180615P00220000', 'str...  \n",
       "980  2018-04-05 14:03:27  {'contractSymbol': 'AAPL180615P00225000', 'str...  \n",
       "996  2018-02-12 18:36:55  {'contractSymbol': 'AAPL180615P00230000', 'str...  \n",
       "1027 2018-02-17 04:46:07  {'contractSymbol': 'AAPL180615P00240000', 'str...  \n",
       "1059 2018-03-19 15:22:19  {'contractSymbol': 'AAPL180615P00250000', 'str...  \n",
>>>>>>> Stashed changes
       "\n",
       "[35 rows x 19 columns]"
      ]
     },
<<<<<<< Updated upstream
     "execution_count": 8,
=======
     "execution_count": 163,
>>>>>>> Stashed changes
     "metadata": {},
     "output_type": "execute_result"
    }
   ],
   "source": [
    "put06 = aapl_opt.loc[(aapl_opt.Expiry=='2018-06-15') & (aapl_opt.Type=='put')]\n",
    "put06"
   ]
  },
  {
   "cell_type": "code",
<<<<<<< Updated upstream
   "execution_count": 9,
=======
   "execution_count": 164,
>>>>>>> Stashed changes
   "metadata": {},
   "outputs": [
    {
     "data": {
<<<<<<< Updated upstream
      "text/plain": [
       "<matplotlib.lines.Line2D at 0x20298d219e8>"
      ]
     },
     "execution_count": 9,
     "metadata": {},
     "output_type": "execute_result"
    },
    {
     "data": {
      "image/png": "iVBORw0KGgoAAAANSUhEUgAAAecAAAF3CAYAAACfa4MXAAAABHNCSVQICAgIfAhkiAAAAAlwSFlz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\nwRicJUkajMFZkqTBGJwlSRrMP6hCFTmZ1pxNAAAAAElFTkSuQmCC\n",
      "text/plain": [
       "<matplotlib.figure.Figure at 0x20298d21940>"
=======
      "image/png": "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\n",
      "text/plain": [
       "<matplotlib.figure.Figure at 0x1c9bbb78cc0>"
>>>>>>> Stashed changes
      ]
     },
     "metadata": {},
     "output_type": "display_data"
    }
   ],
   "source": [
    "ax = put06.set_index('Strike').loc[:, 'IV'].plot(figsize=(8,6))\n",
<<<<<<< Updated upstream
    "ax.axvline(put06.Underlying_Price.iloc[0], color='g')"
=======
    "ax.axvline(put06.Underlying_Price.iloc[0], color='g');"
   ]
  },
  {
   "cell_type": "markdown",
   "metadata": {},
   "source": [
    "## 3. Gráficos de payoff"
>>>>>>> Stashed changes
   ]
  },
  {
   "cell_type": "markdown",
   "metadata": {},
   "source": [
<<<<<<< Updated upstream
    "Con lo que hemos aprendido, deberíamos ser capaces de crear una función que nos devuelva un `DataFrame` de `pandas` con los precios de cierre ajustados de ciertas compañías en ciertas fechas:\n",
    "- Escribir la función a continuación"
=======
    "La función que devuelve el valor de la opción en la fecha de expiración es:"
>>>>>>> Stashed changes
   ]
  },
  {
   "cell_type": "code",
<<<<<<< Updated upstream
   "execution_count": 27,
=======
   "execution_count": 16,
>>>>>>> Stashed changes
   "metadata": {
    "collapsed": true
   },
   "outputs": [],
   "source": [
<<<<<<< Updated upstream
    "def get_historical_closes(ticker, start_date, end_date=None):\n",
    "    closes = web.YahooDailyReader(ticker, start_date, end_date).read().sort_index('major_axis')\n",
    "#     closes = web.YahooDailyReader(symbols=ticker, start=start_date, end=end_date).read()\n",
    "#     index = pd.to_datetime(closes.loc['date',:,tickers[0]].values)\n",
    "#     closes.set_axis(index, axis=1, inplace=True)\n",
    "#     closes = closes.loc['adjclose']#.sort_index().dropna()\n",
    "#     closes = pd.DataFrame(np.array(closes.as_matrix(), dtype=np.float64), columns=ticker, index=closes.index)\n",
    "#     closes.index.name = 'Date'\n",
    "    return closes.loc['Adj Close'].dropna()"
   ]
  },
  {
   "cell_type": "markdown",
   "metadata": {},
   "source": [
    "- Obtener como ejemplo los precios de cierre de Apple del año pasado hasta la fecha. Graficar..."
=======
    "def call_payoff(ST, K):\n",
    "    return max(0, ST-K)"
>>>>>>> Stashed changes
   ]
  },
  {
   "cell_type": "code",
<<<<<<< Updated upstream
   "execution_count": 56,
=======
   "execution_count": 17,
>>>>>>> Stashed changes
   "metadata": {},
   "outputs": [
    {
     "data": {
<<<<<<< Updated upstream
      "image/png": "iVBORw0KGgoAAAANSUhEUgAAAeoAAAHMCAYAAAAamOsRAAAABHNCSVQICAgIfAhkiAAAAAlwSFlz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\nPJEAAAAASUVORK5CYII=\n",
      "text/plain": [
       "<matplotlib.figure.Figure at 0x2029a95c9e8>"
      ]
     },
     "metadata": {},
     "output_type": "display_data"
    }
   ],
   "source": [
    "# ticker = ['AAPL']\n",
    "ticker = ['AAPL','MSFT', 'AEROMEX.MX']\n",
    "start_date = '2017-01-01'\n",
    "\n",
    "closes = get_historical_closes(ticker, start_date)\n",
    "closes_appl = closes.loc[:,'AAPL']\n",
    "# assets_mx = get_historical_closes(ticker_mx, start_date_mx)\n",
    "# closes_appl = get_historical_closes(['AAPL'], '2017-01-01')\n",
    "# closes_appl.plot(figsize=(8,8))\n",
    "closes_appl.plot(figsize=(8,8));"
=======
      "text/plain": [
       "(0, 3)"
      ]
     },
     "execution_count": 17,
     "metadata": {},
     "output_type": "execute_result"
    }
   ],
   "source": [
    "call_payoff(25, 30), call_payoff(33, 30)"
>>>>>>> Stashed changes
   ]
  },
  {
   "cell_type": "markdown",
   "metadata": {},
   "source": [
<<<<<<< Updated upstream
    "- Escribir una función que pasándole el histórico de precios devuelva los rendimientos logarítmicos:"
=======
    "Podemos hacer una función para considerar varias posibilidades de precios de maduración"
>>>>>>> Stashed changes
   ]
  },
  {
   "cell_type": "code",
<<<<<<< Updated upstream
   "execution_count": 57,
=======
   "execution_count": 18,
>>>>>>> Stashed changes
   "metadata": {
    "collapsed": true
   },
   "outputs": [],
   "source": [
<<<<<<< Updated upstream
    "def calc_daily_ret(closes):\n",
    "    return np.log(closes/closes.shift(1)).iloc[1:]"
   ]
  },
  {
   "cell_type": "markdown",
   "metadata": {},
   "source": [
    "- Graficar..."
=======
    "def call_payoffs(STmin, STmax, K, step=1):\n",
    "    maturities = np.arange(STmin, STmax+step, step)\n",
    "    payoffs = np.vectorize(call_payoff)(maturities, K)\n",
    "    df = pd.DataFrame({'Strike': K, 'Payoff': payoffs}, index=maturities)\n",
    "    df.index.name = 'Precio de maduración'\n",
    "    return df"
>>>>>>> Stashed changes
   ]
  },
  {
   "cell_type": "code",
<<<<<<< Updated upstream
   "execution_count": 59,
   "metadata": {},
   "outputs": [
    {
     "data": {
      "image/png": "iVBORw0KGgoAAAANSUhEUgAAAfUAAAFqCAYAAAADeMOHAAAABHNCSVQICAgIfAhkiAAAAAlwSFlz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\nAElFTkSuQmCC\n",
      "text/plain": [
       "<matplotlib.figure.Figure at 0x2029aaf40f0>"
      ]
     },
     "metadata": {},
     "output_type": "display_data"
    }
   ],
   "source": [
    "ret_aapl = calc_daily_ret(closes_appl)\n",
    "ret_aapl.plot(figsize=(8,6));"
   ]
  },
  {
   "cell_type": "markdown",
   "metadata": {},
   "source": [
    "También, descargar datos de opciones de Apple:"
   ]
  },
  {
   "cell_type": "code",
   "execution_count": 68,
   "metadata": {
    "scrolled": false
   },
=======
   "execution_count": 19,
   "metadata": {},
>>>>>>> Stashed changes
   "outputs": [
    {
     "data": {
      "text/html": [
       "<div>\n",
<<<<<<< Updated upstream
       "<style>\n",
       "    .dataframe thead tr:only-child th {\n",
       "        text-align: right;\n",
       "    }\n",
       "\n",
       "    .dataframe thead th {\n",
       "        text-align: left;\n",
=======
       "<style scoped>\n",
       "    .dataframe tbody tr th:only-of-type {\n",
       "        vertical-align: middle;\n",
>>>>>>> Stashed changes
       "    }\n",
       "\n",
       "    .dataframe tbody tr th {\n",
       "        vertical-align: top;\n",
       "    }\n",
<<<<<<< Updated upstream
=======
       "\n",
       "    .dataframe thead th {\n",
       "        text-align: right;\n",
       "    }\n",
>>>>>>> Stashed changes
       "</style>\n",
       "<table border=\"1\" class=\"dataframe\">\n",
       "  <thead>\n",
       "    <tr style=\"text-align: right;\">\n",
       "      <th></th>\n",
<<<<<<< Updated upstream
       "      <th>Strike</th>\n",
       "      <th>Type</th>\n",
       "      <th>Symbol</th>\n",
       "      <th>...</th>\n",
       "      <th>Quote_Time</th>\n",
       "      <th>Last_Trade_Date</th>\n",
       "      <th>JSON</th>\n",
       "    </tr>\n",
       "    <tr>\n",
       "      <th>Expiry</th>\n",
       "      <th></th>\n",
       "      <th></th>\n",
       "      <th></th>\n",
       "      <th></th>\n",
       "      <th></th>\n",
=======
       "      <th>Payoff</th>\n",
       "      <th>Strike</th>\n",
       "    </tr>\n",
       "    <tr>\n",
       "      <th>Precio de maduración</th>\n",
>>>>>>> Stashed changes
       "      <th></th>\n",
       "      <th></th>\n",
       "    </tr>\n",
       "  </thead>\n",
       "  <tbody>\n",
       "    <tr>\n",
<<<<<<< Updated upstream
       "      <th>2018-04-13</th>\n",
       "      <td>146.0</td>\n",
       "      <td>put</td>\n",
       "      <td>AAPL180413P00146000</td>\n",
       "      <td>...</td>\n",
       "      <td>2018-04-12 17:47:06</td>\n",
       "      <td>2018-04-09 14:06:39</td>\n",
       "      <td>{'contractSymbol': 'AAPL180413P00146000', 'str...</td>\n",
       "    </tr>\n",
       "    <tr>\n",
       "      <th>2018-04-13</th>\n",
       "      <td>149.0</td>\n",
       "      <td>call</td>\n",
       "      <td>AAPL180413C00149000</td>\n",
       "      <td>...</td>\n",
       "      <td>2018-04-12 17:47:06</td>\n",
       "      <td>2018-04-06 19:50:00</td>\n",
       "      <td>{'contractSymbol': 'AAPL180413C00149000', 'str...</td>\n",
       "    </tr>\n",
       "    <tr>\n",
       "      <th>2018-04-13</th>\n",
       "      <td>140.0</td>\n",
       "      <td>put</td>\n",
       "      <td>AAPL180413P00140000</td>\n",
       "      <td>...</td>\n",
       "      <td>2018-04-12 17:47:06</td>\n",
       "      <td>2018-04-10 14:07:33</td>\n",
       "      <td>{'contractSymbol': 'AAPL180413P00140000', 'str...</td>\n",
       "    </tr>\n",
       "    <tr>\n",
       "      <th>2018-04-13</th>\n",
       "      <td>180.0</td>\n",
       "      <td>put</td>\n",
       "      <td>AAPL180413P00180000</td>\n",
       "      <td>...</td>\n",
       "      <td>2018-04-12 17:47:06</td>\n",
       "      <td>2018-04-12 17:27:36</td>\n",
       "      <td>{'contractSymbol': 'AAPL180413P00180000', 'str...</td>\n",
       "    </tr>\n",
       "    <tr>\n",
       "      <th>2018-04-13</th>\n",
       "      <td>180.0</td>\n",
       "      <td>call</td>\n",
       "      <td>AAPL180413C00180000</td>\n",
       "      <td>...</td>\n",
       "      <td>2018-04-12 17:47:06</td>\n",
       "      <td>2018-04-12 17:28:22</td>\n",
       "      <td>{'contractSymbol': 'AAPL180413C00180000', 'str...</td>\n",
=======
       "      <th>25</th>\n",
       "      <td>0</td>\n",
       "      <td>30</td>\n",
       "    </tr>\n",
       "    <tr>\n",
       "      <th>26</th>\n",
       "      <td>0</td>\n",
       "      <td>30</td>\n",
       "    </tr>\n",
       "    <tr>\n",
       "      <th>27</th>\n",
       "      <td>0</td>\n",
       "      <td>30</td>\n",
       "    </tr>\n",
       "    <tr>\n",
       "      <th>28</th>\n",
       "      <td>0</td>\n",
       "      <td>30</td>\n",
       "    </tr>\n",
       "    <tr>\n",
       "      <th>29</th>\n",
       "      <td>0</td>\n",
       "      <td>30</td>\n",
>>>>>>> Stashed changes
       "    </tr>\n",
       "    <tr>\n",
       "      <th>...</th>\n",
       "      <td>...</td>\n",
       "      <td>...</td>\n",
<<<<<<< Updated upstream
       "      <td>...</td>\n",
       "      <td>...</td>\n",
       "      <td>...</td>\n",
       "      <td>...</td>\n",
       "      <td>...</td>\n",
       "    </tr>\n",
       "    <tr>\n",
       "      <th>2020-06-19</th>\n",
       "      <td>100.0</td>\n",
       "      <td>call</td>\n",
       "      <td>AAPL200619C00100000</td>\n",
       "      <td>...</td>\n",
       "      <td>2018-04-12 17:47:09</td>\n",
       "      <td>2018-04-09 13:43:01</td>\n",
       "      <td>{'contractSymbol': 'AAPL200619C00100000', 'str...</td>\n",
       "    </tr>\n",
       "    <tr>\n",
       "      <th>2020-06-19</th>\n",
       "      <td>100.0</td>\n",
       "      <td>put</td>\n",
       "      <td>AAPL200619P00100000</td>\n",
       "      <td>...</td>\n",
       "      <td>2018-04-12 17:47:09</td>\n",
       "      <td>2018-04-11 17:52:40</td>\n",
       "      <td>{'contractSymbol': 'AAPL200619P00100000', 'str...</td>\n",
       "    </tr>\n",
       "    <tr>\n",
       "      <th>2020-06-19</th>\n",
       "      <td>185.0</td>\n",
       "      <td>put</td>\n",
       "      <td>AAPL200619P00185000</td>\n",
       "      <td>...</td>\n",
       "      <td>2018-04-12 17:47:09</td>\n",
       "      <td>2018-04-10 15:57:53</td>\n",
       "      <td>{'contractSymbol': 'AAPL200619P00185000', 'str...</td>\n",
       "    </tr>\n",
       "    <tr>\n",
       "      <th>2020-06-19</th>\n",
       "      <td>85.0</td>\n",
       "      <td>put</td>\n",
       "      <td>AAPL200619P00085000</td>\n",
       "      <td>...</td>\n",
       "      <td>2018-04-12 17:47:09</td>\n",
       "      <td>2018-04-11 14:09:33</td>\n",
       "      <td>{'contractSymbol': 'AAPL200619P00085000', 'str...</td>\n",
       "    </tr>\n",
       "    <tr>\n",
       "      <th>2020-06-19</th>\n",
       "      <td>165.0</td>\n",
       "      <td>call</td>\n",
       "      <td>AAPL200619C00165000</td>\n",
       "      <td>...</td>\n",
       "      <td>2018-04-12 17:47:09</td>\n",
       "      <td>2018-04-10 19:29:28</td>\n",
       "      <td>{'contractSymbol': 'AAPL200619C00165000', 'str...</td>\n",
       "    </tr>\n",
       "  </tbody>\n",
       "</table>\n",
       "<p>1164 rows × 18 columns</p>\n",
       "</div>"
      ],
      "text/plain": [
       "            Strike  Type               Symbol  \\\n",
       "Expiry                                          \n",
       "2018-04-13   146.0   put  AAPL180413P00146000   \n",
       "2018-04-13   149.0  call  AAPL180413C00149000   \n",
       "2018-04-13   140.0   put  AAPL180413P00140000   \n",
       "2018-04-13   180.0   put  AAPL180413P00180000   \n",
       "2018-04-13   180.0  call  AAPL180413C00180000   \n",
       "...            ...   ...                  ...   \n",
       "2020-06-19   100.0  call  AAPL200619C00100000   \n",
       "2020-06-19   100.0   put  AAPL200619P00100000   \n",
       "2020-06-19   185.0   put  AAPL200619P00185000   \n",
       "2020-06-19    85.0   put  AAPL200619P00085000   \n",
       "2020-06-19   165.0  call  AAPL200619C00165000   \n",
       "\n",
       "                                  ...                          \\\n",
       "Expiry                            ...                           \n",
       "2018-04-13                        ...                           \n",
       "2018-04-13                        ...                           \n",
       "2018-04-13                        ...                           \n",
       "2018-04-13                        ...                           \n",
       "2018-04-13                        ...                           \n",
       "...                               ...                           \n",
       "2020-06-19                        ...                           \n",
       "2020-06-19                        ...                           \n",
       "2020-06-19                        ...                           \n",
       "2020-06-19                        ...                           \n",
       "2020-06-19                        ...                           \n",
       "\n",
       "                    Quote_Time     Last_Trade_Date  \\\n",
       "Expiry                                               \n",
       "2018-04-13 2018-04-12 17:47:06 2018-04-09 14:06:39   \n",
       "2018-04-13 2018-04-12 17:47:06 2018-04-06 19:50:00   \n",
       "2018-04-13 2018-04-12 17:47:06 2018-04-10 14:07:33   \n",
       "2018-04-13 2018-04-12 17:47:06 2018-04-12 17:27:36   \n",
       "2018-04-13 2018-04-12 17:47:06 2018-04-12 17:28:22   \n",
       "...                        ...                 ...   \n",
       "2020-06-19 2018-04-12 17:47:09 2018-04-09 13:43:01   \n",
       "2020-06-19 2018-04-12 17:47:09 2018-04-11 17:52:40   \n",
       "2020-06-19 2018-04-12 17:47:09 2018-04-10 15:57:53   \n",
       "2020-06-19 2018-04-12 17:47:09 2018-04-11 14:09:33   \n",
       "2020-06-19 2018-04-12 17:47:09 2018-04-10 19:29:28   \n",
       "\n",
       "                                                         JSON  \n",
       "Expiry                                                         \n",
       "2018-04-13  {'contractSymbol': 'AAPL180413P00146000', 'str...  \n",
       "2018-04-13  {'contractSymbol': 'AAPL180413C00149000', 'str...  \n",
       "2018-04-13  {'contractSymbol': 'AAPL180413P00140000', 'str...  \n",
       "2018-04-13  {'contractSymbol': 'AAPL180413P00180000', 'str...  \n",
       "2018-04-13  {'contractSymbol': 'AAPL180413C00180000', 'str...  \n",
       "...                                                       ...  \n",
       "2020-06-19  {'contractSymbol': 'AAPL200619C00100000', 'str...  \n",
       "2020-06-19  {'contractSymbol': 'AAPL200619P00100000', 'str...  \n",
       "2020-06-19  {'contractSymbol': 'AAPL200619P00185000', 'str...  \n",
       "2020-06-19  {'contractSymbol': 'AAPL200619P00085000', 'str...  \n",
       "2020-06-19  {'contractSymbol': 'AAPL200619C00165000', 'str...  \n",
       "\n",
       "[1164 rows x 18 columns]"
      ]
     },
     "execution_count": 68,
=======
       "    </tr>\n",
       "    <tr>\n",
       "      <th>36</th>\n",
       "      <td>6</td>\n",
       "      <td>30</td>\n",
       "    </tr>\n",
       "    <tr>\n",
       "      <th>37</th>\n",
       "      <td>7</td>\n",
       "      <td>30</td>\n",
       "    </tr>\n",
       "    <tr>\n",
       "      <th>38</th>\n",
       "      <td>8</td>\n",
       "      <td>30</td>\n",
       "    </tr>\n",
       "    <tr>\n",
       "      <th>39</th>\n",
       "      <td>9</td>\n",
       "      <td>30</td>\n",
       "    </tr>\n",
       "    <tr>\n",
       "      <th>40</th>\n",
       "      <td>10</td>\n",
       "      <td>30</td>\n",
       "    </tr>\n",
       "  </tbody>\n",
       "</table>\n",
       "<p>16 rows × 2 columns</p>\n",
       "</div>"
      ],
      "text/plain": [
       "                      Payoff  Strike\n",
       "Precio de maduración                \n",
       "25                         0      30\n",
       "26                         0      30\n",
       "27                         0      30\n",
       "28                         0      30\n",
       "29                         0      30\n",
       "...                      ...     ...\n",
       "36                         6      30\n",
       "37                         7      30\n",
       "38                         8      30\n",
       "39                         9      30\n",
       "40                        10      30\n",
       "\n",
       "[16 rows x 2 columns]"
      ]
     },
     "execution_count": 19,
>>>>>>> Stashed changes
     "metadata": {},
     "output_type": "execute_result"
    }
   ],
   "source": [
<<<<<<< Updated upstream
    "aapl = web.YahooOptions('AAPL')\n",
    "aapl_opt = aapl.get_all_data().reset_index()\n",
    "aapl_opt.set_index('Expiry').sort_index()"
   ]
  },
  {
   "cell_type": "code",
   "execution_count": 83,
   "metadata": {},
   "outputs": [
    {
     "data": {
      "text/html": [
       "<div>\n",
       "<style>\n",
       "    .dataframe thead tr:only-child th {\n",
       "        text-align: right;\n",
       "    }\n",
       "\n",
       "    .dataframe thead th {\n",
       "        text-align: left;\n",
       "    }\n",
       "\n",
       "    .dataframe tbody tr th {\n",
       "        vertical-align: top;\n",
       "    }\n",
       "</style>\n",
       "<table border=\"1\" class=\"dataframe\">\n",
       "  <thead>\n",
       "    <tr style=\"text-align: right;\">\n",
       "      <th></th>\n",
       "      <th>Strike</th>\n",
       "      <th>Expiry</th>\n",
       "      <th>Type</th>\n",
       "      <th>...</th>\n",
       "      <th>Quote_Time</th>\n",
       "      <th>Last_Trade_Date</th>\n",
       "      <th>JSON</th>\n",
       "    </tr>\n",
       "  </thead>\n",
       "  <tbody>\n",
       "    <tr>\n",
       "      <th>710</th>\n",
       "      <td>180.0</td>\n",
       "      <td>2018-11-16</td>\n",
       "      <td>call</td>\n",
       "      <td>...</td>\n",
       "      <td>2018-04-12 17:47:09</td>\n",
       "      <td>2018-04-12 17:15:56</td>\n",
       "      <td>{'contractSymbol': 'AAPL181116C00180000', 'str...</td>\n",
       "    </tr>\n",
       "  </tbody>\n",
       "</table>\n",
       "<p>1 rows × 19 columns</p>\n",
       "</div>"
      ],
      "text/plain": [
       "     Strike     Expiry  Type  \\\n",
       "710   180.0 2018-11-16  call   \n",
       "\n",
       "                           ...                                  Quote_Time  \\\n",
       "710                        ...                         2018-04-12 17:47:09   \n",
       "\n",
       "        Last_Trade_Date                                               JSON  \n",
       "710 2018-04-12 17:15:56  {'contractSymbol': 'AAPL181116C00180000', 'str...  \n",
       "\n",
       "[1 rows x 19 columns]"
      ]
     },
     "execution_count": 83,
     "metadata": {},
     "output_type": "execute_result"
    }
   ],
   "source": [
    "aapl_opt.loc[(aapl_opt.Type=='call') & (aapl_opt.Strike==180) & (aapl_opt.Expiry=='2018-11-16')]"
=======
    "call_payoffs(25,40,30)"
   ]
  },
  {
   "cell_type": "markdown",
   "metadata": {},
   "source": [
    "Ahora, podemos utilizar la función anterior para obtener los gráficos de payoff"
>>>>>>> Stashed changes
   ]
  },
  {
   "cell_type": "code",
<<<<<<< Updated upstream
   "execution_count": 84,
   "metadata": {
    "scrolled": true
   },
   "outputs": [
    {
     "data": {
      "text/plain": [
       "{'ask': 10.75,\n",
       " 'bid': 10.55,\n",
       " 'change': 0.5,\n",
       " 'contractSize': 'REGULAR',\n",
       " 'contractSymbol': 'AAPL181116C00180000',\n",
       " 'currency': 'USD',\n",
       " 'expiration': 1542326400,\n",
       " 'impliedVolatility': 0.2461012890625,\n",
       " 'inTheMoney': False,\n",
       " 'lastPrice': 10.7,\n",
       " 'lastTradeDate': 1523553356,\n",
       " 'openInterest': 437,\n",
       " 'percentChange': 4.901961,\n",
       " 'strike': 180.0,\n",
       " 'volume': 23}"
      ]
     },
     "execution_count": 84,
     "metadata": {},
     "output_type": "execute_result"
    }
   ],
   "source": [
    "aapl_opt.loc[710,'JSON']"
=======
   "execution_count": 20,
   "metadata": {
    "collapsed": true
   },
   "outputs": [],
   "source": [
    "def plot_call_payoffs(STmin, STmax, K, step=1):\n",
    "    payoffs = call_payoffs(STmin, STmax, K, step)\n",
    "    plt.ylim(payoffs.Payoff.min() - 10, payoffs.Payoff.max() + 10)\n",
    "    plt.ylabel(\"Payoff\")\n",
    "    plt.xlabel(\"Precio de maduración\")\n",
    "    plt.title('Payoff call, Precio strike={0}'.format(K))\n",
    "    plt.xlim(STmin, STmax)\n",
    "    plt.plot(payoffs.index, payoffs.Payoff.values);"
   ]
  },
  {
   "cell_type": "code",
   "execution_count": 21,
   "metadata": {},
   "outputs": [
    {
     "data": {
      "image/png": "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\n",
      "text/plain": [
       "<matplotlib.figure.Figure at 0x7f3f12dd8978>"
      ]
     },
     "metadata": {},
     "output_type": "display_data"
    }
   ],
   "source": [
    "plot_call_payoffs(25,40,30)"
>>>>>>> Stashed changes
   ]
  },
  {
   "cell_type": "markdown",
   "metadata": {},
   "source": [
<<<<<<< Updated upstream
    "## 2. Valuación usando simulación: modelo normal para los rendimientos"
   ]
  },
  {
   "cell_type": "markdown",
   "metadata": {},
   "source": [
    "Comenzaremos por suponer que los rendimientos son un p.e. estacionario que distribuyen $\\mathcal{N}(\\mu,\\sigma)$."
   ]
  },
  {
   "cell_type": "markdown",
   "metadata": {},
   "source": [
    "- Hallar media y desviación estándar muestral de los rendimientos"
=======
    "De la misma manera para una opción de venta"
   ]
  },
  {
   "cell_type": "code",
   "execution_count": 22,
   "metadata": {
    "collapsed": true
   },
   "outputs": [],
   "source": [
    "def put_payoff(ST, K):\n",
    "    return max(0, K-ST)"
>>>>>>> Stashed changes
   ]
  },
  {
   "cell_type": "code",
<<<<<<< Updated upstream
   "execution_count": 231,
=======
   "execution_count": 23,
>>>>>>> Stashed changes
   "metadata": {},
   "outputs": [
    {
     "data": {
      "text/plain": [
<<<<<<< Updated upstream
       "(0.0013700379915465482, 0.012446413981164205)"
      ]
     },
     "execution_count": 231,
=======
       "(5, 0)"
      ]
     },
     "execution_count": 23,
>>>>>>> Stashed changes
     "metadata": {},
     "output_type": "execute_result"
    }
   ],
   "source": [
<<<<<<< Updated upstream
    "mu = ret_aapl.mean()\n",
    "sigma = ret_aapl.std()\n",
    "mu, sigma"
   ]
  },
  {
   "cell_type": "markdown",
   "metadata": {},
   "source": [
    "No se toma la media sino la tasa libre de riesgo\n",
    "> Referencia: https://www.treasury.gov/resource-center/data-chart-center/interest-rates/Pages/TextView.aspx?data=yield"
=======
    "put_payoff(25, 30), put_payoff(33, 30)"
>>>>>>> Stashed changes
   ]
  },
  {
   "cell_type": "code",
<<<<<<< Updated upstream
   "execution_count": 75,
=======
   "execution_count": 24,
>>>>>>> Stashed changes
   "metadata": {
    "collapsed": true
   },
   "outputs": [],
   "source": [
<<<<<<< Updated upstream
    "# Tasa de bonos de 1 yr de fecha 04/11/18 -> 2.09%\n",
    "r = 0.0209/360 # Tasa diaria"
   ]
  },
  {
   "cell_type": "markdown",
   "metadata": {},
   "source": [
    "- Simularemos el tiempo de contrato (días=218) desde 12/04/18 hasta 16/11/18, 10 escenarios:\n",
    "> Calculador de fechas: https://es.calcuworld.com/calendarios/calculadora-de-tiempo-entre-dos-fechas/\n",
    "    \n",
    "    - Generar fechas"
=======
    "def put_payoffs(STmin, STmax, K, step=1):\n",
    "    maturities = np.arange(STmin, STmax+step, step)\n",
    "    payoffs = np.vectorize(put_payoff)(maturities, K)\n",
    "    df = pd.DataFrame({'Strike': K, 'Payoff': payoffs}, index=maturities)\n",
    "    df.index.name = 'Precio de maduración'\n",
    "    return df"
   ]
  },
  {
   "cell_type": "code",
   "execution_count": 25,
   "metadata": {},
   "outputs": [
    {
     "data": {
      "text/html": [
       "<div>\n",
       "<style scoped>\n",
       "    .dataframe tbody tr th:only-of-type {\n",
       "        vertical-align: middle;\n",
       "    }\n",
       "\n",
       "    .dataframe tbody tr th {\n",
       "        vertical-align: top;\n",
       "    }\n",
       "\n",
       "    .dataframe thead th {\n",
       "        text-align: right;\n",
       "    }\n",
       "</style>\n",
       "<table border=\"1\" class=\"dataframe\">\n",
       "  <thead>\n",
       "    <tr style=\"text-align: right;\">\n",
       "      <th></th>\n",
       "      <th>Payoff</th>\n",
       "      <th>Strike</th>\n",
       "    </tr>\n",
       "    <tr>\n",
       "      <th>Precio de maduración</th>\n",
       "      <th></th>\n",
       "      <th></th>\n",
       "    </tr>\n",
       "  </thead>\n",
       "  <tbody>\n",
       "    <tr>\n",
       "      <th>25</th>\n",
       "      <td>5</td>\n",
       "      <td>30</td>\n",
       "    </tr>\n",
       "    <tr>\n",
       "      <th>26</th>\n",
       "      <td>4</td>\n",
       "      <td>30</td>\n",
       "    </tr>\n",
       "    <tr>\n",
       "      <th>27</th>\n",
       "      <td>3</td>\n",
       "      <td>30</td>\n",
       "    </tr>\n",
       "    <tr>\n",
       "      <th>28</th>\n",
       "      <td>2</td>\n",
       "      <td>30</td>\n",
       "    </tr>\n",
       "    <tr>\n",
       "      <th>29</th>\n",
       "      <td>1</td>\n",
       "      <td>30</td>\n",
       "    </tr>\n",
       "    <tr>\n",
       "      <th>...</th>\n",
       "      <td>...</td>\n",
       "      <td>...</td>\n",
       "    </tr>\n",
       "    <tr>\n",
       "      <th>36</th>\n",
       "      <td>0</td>\n",
       "      <td>30</td>\n",
       "    </tr>\n",
       "    <tr>\n",
       "      <th>37</th>\n",
       "      <td>0</td>\n",
       "      <td>30</td>\n",
       "    </tr>\n",
       "    <tr>\n",
       "      <th>38</th>\n",
       "      <td>0</td>\n",
       "      <td>30</td>\n",
       "    </tr>\n",
       "    <tr>\n",
       "      <th>39</th>\n",
       "      <td>0</td>\n",
       "      <td>30</td>\n",
       "    </tr>\n",
       "    <tr>\n",
       "      <th>40</th>\n",
       "      <td>0</td>\n",
       "      <td>30</td>\n",
       "    </tr>\n",
       "  </tbody>\n",
       "</table>\n",
       "<p>16 rows × 2 columns</p>\n",
       "</div>"
      ],
      "text/plain": [
       "                      Payoff  Strike\n",
       "Precio de maduración                \n",
       "25                         5      30\n",
       "26                         4      30\n",
       "27                         3      30\n",
       "28                         2      30\n",
       "29                         1      30\n",
       "...                      ...     ...\n",
       "36                         0      30\n",
       "37                         0      30\n",
       "38                         0      30\n",
       "39                         0      30\n",
       "40                         0      30\n",
       "\n",
       "[16 rows x 2 columns]"
      ]
     },
     "execution_count": 25,
     "metadata": {},
     "output_type": "execute_result"
    }
   ],
   "source": [
    "put_payoffs(25,40,30)"
   ]
  },
  {
   "cell_type": "code",
   "execution_count": 26,
   "metadata": {
    "collapsed": true
   },
   "outputs": [],
   "source": [
    "def plot_put_payoffs(STmin, STmax, K, step=1):\n",
    "    payoffs = put_payoffs(STmin, STmax, K, step)\n",
    "    plt.ylim(payoffs.Payoff.min() - 10, payoffs.Payoff.max() + 10)\n",
    "    plt.ylabel(\"Payoff\")\n",
    "    plt.xlabel(\"Precio de maduración\")\n",
    "    plt.title('Payoff put, Precio strike={0}'.format(K))\n",
    "    plt.xlim(STmin, STmax)\n",
    "    plt.plot(payoffs.index, payoffs.Payoff.values);"
>>>>>>> Stashed changes
   ]
  },
  {
   "cell_type": "code",
<<<<<<< Updated upstream
   "execution_count": 86,
=======
   "execution_count": 27,
>>>>>>> Stashed changes
   "metadata": {},
   "outputs": [
    {
     "data": {
<<<<<<< Updated upstream
      "text/plain": [
       "DatetimeIndex(['2018-04-12', '2018-04-13', '2018-04-14', '2018-04-15',\n",
       "               '2018-04-16', '2018-04-17', '2018-04-18', '2018-04-19',\n",
       "               '2018-04-20', '2018-04-21',\n",
       "               ...\n",
       "               '2018-11-06', '2018-11-07', '2018-11-08', '2018-11-09',\n",
       "               '2018-11-10', '2018-11-11', '2018-11-12', '2018-11-13',\n",
       "               '2018-11-14', '2018-11-15'],\n",
       "              dtype='datetime64[ns]', length=218, freq='D')"
      ]
     },
     "execution_count": 86,
     "metadata": {},
     "output_type": "execute_result"
    }
   ],
   "source": [
    "ndays = 218\n",
    "nscen = 10\n",
    "dates = pd.date_range('2018-04-12', periods = ndays)\n",
    "dates"
=======
      "image/png": "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\n",
      "text/plain": [
       "<matplotlib.figure.Figure at 0x7f3f129d0390>"
      ]
     },
     "metadata": {},
     "output_type": "display_data"
    }
   ],
   "source": [
    "plot_put_payoffs(25,40,30)"
>>>>>>> Stashed changes
   ]
  },
  {
   "cell_type": "markdown",
   "metadata": {},
   "source": [
<<<<<<< Updated upstream
    "- Generamos 10 escenarios de rendimientos simulados y guardamos en un dataframe"
=======
    "Bueno, pero ¿así de fácil?\n",
    "\n",
    "Según Black-Scholes debe haber un equilibrio:"
>>>>>>> Stashed changes
   ]
  },
  {
   "cell_type": "code",
<<<<<<< Updated upstream
   "execution_count": 106,
   "metadata": {
    "scrolled": false
   },
=======
   "execution_count": 32,
   "metadata": {
    "collapsed": true
   },
   "outputs": [],
   "source": [
    "def call_pnl_buyer(ct, K, STmin, STmax, step = 1):\n",
    "    maturities = np.arange(STmin, STmax+step, step)\n",
    "    payoffs = np.vectorize(call_payoff)(maturities, K)\n",
    "    df = pd.DataFrame({'Strike': K, 'Payoff': payoffs, 'Prima': ct, 'PnL': payoffs-ct}, index=maturities)\n",
    "    df.index.name = 'Precio de maduración'\n",
    "    return df"
   ]
  },
  {
   "cell_type": "code",
   "execution_count": 33,
   "metadata": {},
>>>>>>> Stashed changes
   "outputs": [
    {
     "data": {
      "text/html": [
       "<div>\n",
<<<<<<< Updated upstream
       "<style>\n",
       "    .dataframe thead tr:only-child th {\n",
       "        text-align: right;\n",
       "    }\n",
       "\n",
       "    .dataframe thead th {\n",
       "        text-align: left;\n",
=======
       "<style scoped>\n",
       "    .dataframe tbody tr th:only-of-type {\n",
       "        vertical-align: middle;\n",
>>>>>>> Stashed changes
       "    }\n",
       "\n",
       "    .dataframe tbody tr th {\n",
       "        vertical-align: top;\n",
       "    }\n",
<<<<<<< Updated upstream
=======
       "\n",
       "    .dataframe thead th {\n",
       "        text-align: right;\n",
       "    }\n",
>>>>>>> Stashed changes
       "</style>\n",
       "<table border=\"1\" class=\"dataframe\">\n",
       "  <thead>\n",
       "    <tr style=\"text-align: right;\">\n",
       "      <th></th>\n",
<<<<<<< Updated upstream
       "      <th>0</th>\n",
       "      <th>1</th>\n",
       "      <th>2</th>\n",
       "      <th>...</th>\n",
       "      <th>7</th>\n",
       "      <th>8</th>\n",
       "      <th>9</th>\n",
=======
       "      <th>Payoff</th>\n",
       "      <th>PnL</th>\n",
       "      <th>Prima</th>\n",
       "      <th>Strike</th>\n",
       "    </tr>\n",
       "    <tr>\n",
       "      <th>Precio de maduración</th>\n",
       "      <th></th>\n",
       "      <th></th>\n",
       "      <th></th>\n",
       "      <th></th>\n",
>>>>>>> Stashed changes
       "    </tr>\n",
       "  </thead>\n",
       "  <tbody>\n",
       "    <tr>\n",
<<<<<<< Updated upstream
       "      <th>2018-04-12</th>\n",
       "      <td>4.408e-03</td>\n",
       "      <td>-1.833e-02</td>\n",
       "      <td>0.004</td>\n",
       "      <td>...</td>\n",
       "      <td>-0.011</td>\n",
       "      <td>-0.016</td>\n",
       "      <td>8.482e-03</td>\n",
       "    </tr>\n",
       "    <tr>\n",
       "      <th>2018-04-13</th>\n",
       "      <td>9.331e-03</td>\n",
       "      <td>-6.011e-03</td>\n",
       "      <td>0.007</td>\n",
       "      <td>...</td>\n",
       "      <td>-0.016</td>\n",
       "      <td>-0.001</td>\n",
       "      <td>-1.251e-03</td>\n",
       "    </tr>\n",
       "    <tr>\n",
       "      <th>2018-04-14</th>\n",
       "      <td>3.752e-03</td>\n",
       "      <td>2.057e-02</td>\n",
       "      <td>0.006</td>\n",
       "      <td>...</td>\n",
       "      <td>-0.004</td>\n",
       "      <td>0.001</td>\n",
       "      <td>-7.989e-03</td>\n",
       "    </tr>\n",
       "    <tr>\n",
       "      <th>2018-04-15</th>\n",
       "      <td>2.780e-03</td>\n",
       "      <td>-8.235e-03</td>\n",
       "      <td>0.003</td>\n",
       "      <td>...</td>\n",
       "      <td>0.019</td>\n",
       "      <td>0.008</td>\n",
       "      <td>4.737e-04</td>\n",
       "    </tr>\n",
       "    <tr>\n",
       "      <th>2018-04-16</th>\n",
       "      <td>-8.745e-03</td>\n",
       "      <td>2.746e-04</td>\n",
       "      <td>0.011</td>\n",
       "      <td>...</td>\n",
       "      <td>0.005</td>\n",
       "      <td>0.041</td>\n",
       "      <td>-1.649e-03</td>\n",
=======
       "      <th>10</th>\n",
       "      <td>0</td>\n",
       "      <td>-12</td>\n",
       "      <td>12</td>\n",
       "      <td>15</td>\n",
       "    </tr>\n",
       "    <tr>\n",
       "      <th>11</th>\n",
       "      <td>0</td>\n",
       "      <td>-12</td>\n",
       "      <td>12</td>\n",
       "      <td>15</td>\n",
       "    </tr>\n",
       "    <tr>\n",
       "      <th>12</th>\n",
       "      <td>0</td>\n",
       "      <td>-12</td>\n",
       "      <td>12</td>\n",
       "      <td>15</td>\n",
       "    </tr>\n",
       "    <tr>\n",
       "      <th>13</th>\n",
       "      <td>0</td>\n",
       "      <td>-12</td>\n",
       "      <td>12</td>\n",
       "      <td>15</td>\n",
       "    </tr>\n",
       "    <tr>\n",
       "      <th>14</th>\n",
       "      <td>0</td>\n",
       "      <td>-12</td>\n",
       "      <td>12</td>\n",
       "      <td>15</td>\n",
>>>>>>> Stashed changes
       "    </tr>\n",
       "    <tr>\n",
       "      <th>...</th>\n",
       "      <td>...</td>\n",
       "      <td>...</td>\n",
       "      <td>...</td>\n",
       "      <td>...</td>\n",
<<<<<<< Updated upstream
       "      <td>...</td>\n",
       "      <td>...</td>\n",
       "      <td>...</td>\n",
       "    </tr>\n",
       "    <tr>\n",
       "      <th>2018-11-11</th>\n",
       "      <td>9.002e-04</td>\n",
       "      <td>-2.330e-02</td>\n",
       "      <td>-0.012</td>\n",
       "      <td>...</td>\n",
       "      <td>-0.015</td>\n",
       "      <td>0.013</td>\n",
       "      <td>-1.334e-02</td>\n",
       "    </tr>\n",
       "    <tr>\n",
       "      <th>2018-11-12</th>\n",
       "      <td>-6.620e-04</td>\n",
       "      <td>-1.315e-02</td>\n",
       "      <td>0.002</td>\n",
       "      <td>...</td>\n",
       "      <td>-0.013</td>\n",
       "      <td>-0.013</td>\n",
       "      <td>2.976e-03</td>\n",
       "    </tr>\n",
       "    <tr>\n",
       "      <th>2018-11-13</th>\n",
       "      <td>8.664e-03</td>\n",
       "      <td>1.301e-02</td>\n",
       "      <td>-0.007</td>\n",
       "      <td>...</td>\n",
       "      <td>-0.009</td>\n",
       "      <td>0.005</td>\n",
       "      <td>8.891e-03</td>\n",
       "    </tr>\n",
       "    <tr>\n",
       "      <th>2018-11-14</th>\n",
       "      <td>-3.780e-03</td>\n",
       "      <td>-1.069e-02</td>\n",
       "      <td>0.002</td>\n",
       "      <td>...</td>\n",
       "      <td>0.018</td>\n",
       "      <td>-0.005</td>\n",
       "      <td>1.052e-02</td>\n",
       "    </tr>\n",
       "    <tr>\n",
       "      <th>2018-11-15</th>\n",
       "      <td>-2.053e-02</td>\n",
       "      <td>-7.238e-03</td>\n",
       "      <td>0.012</td>\n",
       "      <td>...</td>\n",
       "      <td>-0.011</td>\n",
       "      <td>-0.014</td>\n",
       "      <td>-1.040e-03</td>\n",
       "    </tr>\n",
       "  </tbody>\n",
       "</table>\n",
       "<p>218 rows × 10 columns</p>\n",
       "</div>"
      ],
      "text/plain": [
       "                    0          1      2    ...          7      8          9\n",
       "2018-04-12  4.408e-03 -1.833e-02  0.004    ...     -0.011 -0.016  8.482e-03\n",
       "2018-04-13  9.331e-03 -6.011e-03  0.007    ...     -0.016 -0.001 -1.251e-03\n",
       "2018-04-14  3.752e-03  2.057e-02  0.006    ...     -0.004  0.001 -7.989e-03\n",
       "2018-04-15  2.780e-03 -8.235e-03  0.003    ...      0.019  0.008  4.737e-04\n",
       "2018-04-16 -8.745e-03  2.746e-04  0.011    ...      0.005  0.041 -1.649e-03\n",
       "...               ...        ...    ...    ...        ...    ...        ...\n",
       "2018-11-11  9.002e-04 -2.330e-02 -0.012    ...     -0.015  0.013 -1.334e-02\n",
       "2018-11-12 -6.620e-04 -1.315e-02  0.002    ...     -0.013 -0.013  2.976e-03\n",
       "2018-11-13  8.664e-03  1.301e-02 -0.007    ...     -0.009  0.005  8.891e-03\n",
       "2018-11-14 -3.780e-03 -1.069e-02  0.002    ...      0.018 -0.005  1.052e-02\n",
       "2018-11-15 -2.053e-02 -7.238e-03  0.012    ...     -0.011 -0.014 -1.040e-03\n",
       "\n",
       "[218 rows x 10 columns]"
      ]
     },
     "execution_count": 106,
=======
       "    </tr>\n",
       "    <tr>\n",
       "      <th>31</th>\n",
       "      <td>16</td>\n",
       "      <td>4</td>\n",
       "      <td>12</td>\n",
       "      <td>15</td>\n",
       "    </tr>\n",
       "    <tr>\n",
       "      <th>32</th>\n",
       "      <td>17</td>\n",
       "      <td>5</td>\n",
       "      <td>12</td>\n",
       "      <td>15</td>\n",
       "    </tr>\n",
       "    <tr>\n",
       "      <th>33</th>\n",
       "      <td>18</td>\n",
       "      <td>6</td>\n",
       "      <td>12</td>\n",
       "      <td>15</td>\n",
       "    </tr>\n",
       "    <tr>\n",
       "      <th>34</th>\n",
       "      <td>19</td>\n",
       "      <td>7</td>\n",
       "      <td>12</td>\n",
       "      <td>15</td>\n",
       "    </tr>\n",
       "    <tr>\n",
       "      <th>35</th>\n",
       "      <td>20</td>\n",
       "      <td>8</td>\n",
       "      <td>12</td>\n",
       "      <td>15</td>\n",
       "    </tr>\n",
       "  </tbody>\n",
       "</table>\n",
       "<p>26 rows × 4 columns</p>\n",
       "</div>"
      ],
      "text/plain": [
       "                      Payoff  PnL  Prima  Strike\n",
       "Precio de maduración                            \n",
       "10                         0  -12     12      15\n",
       "11                         0  -12     12      15\n",
       "12                         0  -12     12      15\n",
       "13                         0  -12     12      15\n",
       "14                         0  -12     12      15\n",
       "...                      ...  ...    ...     ...\n",
       "31                        16    4     12      15\n",
       "32                        17    5     12      15\n",
       "33                        18    6     12      15\n",
       "34                        19    7     12      15\n",
       "35                        20    8     12      15\n",
       "\n",
       "[26 rows x 4 columns]"
      ]
     },
     "execution_count": 33,
>>>>>>> Stashed changes
     "metadata": {},
     "output_type": "execute_result"
    }
   ],
   "source": [
<<<<<<< Updated upstream
    "sim_ret = pd.DataFrame(sigma*np.random.randn(ndays,nscen)+r, index=dates)\n",
    "sim_ret\n",
    "# Las columnas son los escenarios y las filas son las días de contrato"
   ]
  },
  {
   "cell_type": "markdown",
   "metadata": {},
   "source": [
    "- Con los rendimientos simulados, calcular los escenarios de precios respectivos:"
=======
    "call_pnl_buyer(12, 15, 10, 35)"
   ]
  },
  {
   "cell_type": "code",
   "execution_count": 34,
   "metadata": {
    "collapsed": true
   },
   "outputs": [],
   "source": [
    "def call_pnl_seller(ct, K, STmin, STmax, step = 1):\n",
    "    maturities = np.arange(STmin, STmax+step, step)\n",
    "    payoffs = np.vectorize(call_payoff)(maturities, K)\n",
    "    df = pd.DataFrame({'Strike': K, 'Payoff': payoffs, 'Prima': ct, 'PnL': ct-payoffs}, index=maturities)\n",
    "    df.index.name = 'Precio de maduración'\n",
    "    return df"
>>>>>>> Stashed changes
   ]
  },
  {
   "cell_type": "code",
<<<<<<< Updated upstream
   "execution_count": 107,
=======
   "execution_count": 35,
>>>>>>> Stashed changes
   "metadata": {},
   "outputs": [
    {
     "data": {
      "text/html": [
       "<div>\n",
<<<<<<< Updated upstream
       "<style>\n",
       "    .dataframe thead tr:only-child th {\n",
       "        text-align: right;\n",
       "    }\n",
       "\n",
       "    .dataframe thead th {\n",
       "        text-align: left;\n",
=======
       "<style scoped>\n",
       "    .dataframe tbody tr th:only-of-type {\n",
       "        vertical-align: middle;\n",
>>>>>>> Stashed changes
       "    }\n",
       "\n",
       "    .dataframe tbody tr th {\n",
       "        vertical-align: top;\n",
       "    }\n",
<<<<<<< Updated upstream
=======
       "\n",
       "    .dataframe thead th {\n",
       "        text-align: right;\n",
       "    }\n",
>>>>>>> Stashed changes
       "</style>\n",
       "<table border=\"1\" class=\"dataframe\">\n",
       "  <thead>\n",
       "    <tr style=\"text-align: right;\">\n",
       "      <th></th>\n",
<<<<<<< Updated upstream
       "      <th>0</th>\n",
       "      <th>1</th>\n",
       "      <th>2</th>\n",
       "      <th>...</th>\n",
       "      <th>7</th>\n",
       "      <th>8</th>\n",
       "      <th>9</th>\n",
=======
       "      <th>Payoff</th>\n",
       "      <th>PnL</th>\n",
       "      <th>Prima</th>\n",
       "      <th>Strike</th>\n",
       "    </tr>\n",
       "    <tr>\n",
       "      <th>Precio de maduración</th>\n",
       "      <th></th>\n",
       "      <th></th>\n",
       "      <th></th>\n",
       "      <th></th>\n",
>>>>>>> Stashed changes
       "    </tr>\n",
       "  </thead>\n",
       "  <tbody>\n",
       "    <tr>\n",
<<<<<<< Updated upstream
       "      <th>2018-04-12</th>\n",
       "      <td>174.859</td>\n",
       "      <td>170.927</td>\n",
       "      <td>174.836</td>\n",
       "      <td>...</td>\n",
       "      <td>172.130</td>\n",
       "      <td>171.260</td>\n",
       "      <td>175.573</td>\n",
       "    </tr>\n",
       "    <tr>\n",
       "      <th>2018-04-13</th>\n",
       "      <td>176.498</td>\n",
       "      <td>169.903</td>\n",
       "      <td>176.101</td>\n",
       "      <td>...</td>\n",
       "      <td>169.363</td>\n",
       "      <td>171.073</td>\n",
       "      <td>175.353</td>\n",
       "    </tr>\n",
       "    <tr>\n",
       "      <th>2018-04-14</th>\n",
       "      <td>177.162</td>\n",
       "      <td>173.434</td>\n",
       "      <td>177.159</td>\n",
       "      <td>...</td>\n",
       "      <td>168.766</td>\n",
       "      <td>171.324</td>\n",
       "      <td>173.958</td>\n",
       "    </tr>\n",
       "    <tr>\n",
       "      <th>2018-04-15</th>\n",
       "      <td>177.655</td>\n",
       "      <td>172.011</td>\n",
       "      <td>177.678</td>\n",
       "      <td>...</td>\n",
       "      <td>172.062</td>\n",
       "      <td>172.696</td>\n",
       "      <td>174.040</td>\n",
       "    </tr>\n",
       "    <tr>\n",
       "      <th>2018-04-16</th>\n",
       "      <td>176.108</td>\n",
       "      <td>172.059</td>\n",
       "      <td>179.560</td>\n",
       "      <td>...</td>\n",
       "      <td>172.997</td>\n",
       "      <td>179.976</td>\n",
       "      <td>173.754</td>\n",
=======
       "      <th>10</th>\n",
       "      <td>0</td>\n",
       "      <td>12</td>\n",
       "      <td>12</td>\n",
       "      <td>15</td>\n",
       "    </tr>\n",
       "    <tr>\n",
       "      <th>11</th>\n",
       "      <td>0</td>\n",
       "      <td>12</td>\n",
       "      <td>12</td>\n",
       "      <td>15</td>\n",
       "    </tr>\n",
       "    <tr>\n",
       "      <th>12</th>\n",
       "      <td>0</td>\n",
       "      <td>12</td>\n",
       "      <td>12</td>\n",
       "      <td>15</td>\n",
       "    </tr>\n",
       "    <tr>\n",
       "      <th>13</th>\n",
       "      <td>0</td>\n",
       "      <td>12</td>\n",
       "      <td>12</td>\n",
       "      <td>15</td>\n",
       "    </tr>\n",
       "    <tr>\n",
       "      <th>14</th>\n",
       "      <td>0</td>\n",
       "      <td>12</td>\n",
       "      <td>12</td>\n",
       "      <td>15</td>\n",
>>>>>>> Stashed changes
       "    </tr>\n",
       "    <tr>\n",
       "      <th>...</th>\n",
       "      <td>...</td>\n",
       "      <td>...</td>\n",
       "      <td>...</td>\n",
       "      <td>...</td>\n",
<<<<<<< Updated upstream
       "      <td>...</td>\n",
       "      <td>...</td>\n",
       "      <td>...</td>\n",
       "    </tr>\n",
       "    <tr>\n",
       "      <th>2018-11-11</th>\n",
       "      <td>197.811</td>\n",
       "      <td>221.675</td>\n",
       "      <td>173.699</td>\n",
       "      <td>...</td>\n",
       "      <td>169.078</td>\n",
       "      <td>160.336</td>\n",
       "      <td>173.311</td>\n",
       "    </tr>\n",
       "    <tr>\n",
       "      <th>2018-11-12</th>\n",
       "      <td>197.680</td>\n",
       "      <td>218.779</td>\n",
       "      <td>173.999</td>\n",
       "      <td>...</td>\n",
       "      <td>166.965</td>\n",
       "      <td>158.221</td>\n",
       "      <td>173.828</td>\n",
       "    </tr>\n",
       "    <tr>\n",
       "      <th>2018-11-13</th>\n",
       "      <td>199.400</td>\n",
       "      <td>221.643</td>\n",
       "      <td>172.785</td>\n",
       "      <td>...</td>\n",
       "      <td>165.512</td>\n",
       "      <td>159.053</td>\n",
       "      <td>175.380</td>\n",
       "    </tr>\n",
       "    <tr>\n",
       "      <th>2018-11-14</th>\n",
       "      <td>198.647</td>\n",
       "      <td>219.286</td>\n",
       "      <td>173.192</td>\n",
       "      <td>...</td>\n",
       "      <td>168.594</td>\n",
       "      <td>158.305</td>\n",
       "      <td>177.235</td>\n",
       "    </tr>\n",
       "    <tr>\n",
       "      <th>2018-11-15</th>\n",
       "      <td>194.612</td>\n",
       "      <td>217.705</td>\n",
       "      <td>175.206</td>\n",
       "      <td>...</td>\n",
       "      <td>166.832</td>\n",
       "      <td>156.127</td>\n",
       "      <td>177.050</td>\n",
       "    </tr>\n",
       "  </tbody>\n",
       "</table>\n",
       "<p>218 rows × 10 columns</p>\n",
       "</div>"
      ],
      "text/plain": [
       "                  0        1        2   ...           7        8        9\n",
       "2018-04-12  174.859  170.927  174.836   ...     172.130  171.260  175.573\n",
       "2018-04-13  176.498  169.903  176.101   ...     169.363  171.073  175.353\n",
       "2018-04-14  177.162  173.434  177.159   ...     168.766  171.324  173.958\n",
       "2018-04-15  177.655  172.011  177.678   ...     172.062  172.696  174.040\n",
       "2018-04-16  176.108  172.059  179.560   ...     172.997  179.976  173.754\n",
       "...             ...      ...      ...   ...         ...      ...      ...\n",
       "2018-11-11  197.811  221.675  173.699   ...     169.078  160.336  173.311\n",
       "2018-11-12  197.680  218.779  173.999   ...     166.965  158.221  173.828\n",
       "2018-11-13  199.400  221.643  172.785   ...     165.512  159.053  175.380\n",
       "2018-11-14  198.647  219.286  173.192   ...     168.594  158.305  177.235\n",
       "2018-11-15  194.612  217.705  175.206   ...     166.832  156.127  177.050\n",
       "\n",
       "[218 rows x 10 columns]"
      ]
     },
     "execution_count": 107,
=======
       "    </tr>\n",
       "    <tr>\n",
       "      <th>31</th>\n",
       "      <td>16</td>\n",
       "      <td>-4</td>\n",
       "      <td>12</td>\n",
       "      <td>15</td>\n",
       "    </tr>\n",
       "    <tr>\n",
       "      <th>32</th>\n",
       "      <td>17</td>\n",
       "      <td>-5</td>\n",
       "      <td>12</td>\n",
       "      <td>15</td>\n",
       "    </tr>\n",
       "    <tr>\n",
       "      <th>33</th>\n",
       "      <td>18</td>\n",
       "      <td>-6</td>\n",
       "      <td>12</td>\n",
       "      <td>15</td>\n",
       "    </tr>\n",
       "    <tr>\n",
       "      <th>34</th>\n",
       "      <td>19</td>\n",
       "      <td>-7</td>\n",
       "      <td>12</td>\n",
       "      <td>15</td>\n",
       "    </tr>\n",
       "    <tr>\n",
       "      <th>35</th>\n",
       "      <td>20</td>\n",
       "      <td>-8</td>\n",
       "      <td>12</td>\n",
       "      <td>15</td>\n",
       "    </tr>\n",
       "  </tbody>\n",
       "</table>\n",
       "<p>26 rows × 4 columns</p>\n",
       "</div>"
      ],
      "text/plain": [
       "                      Payoff  PnL  Prima  Strike\n",
       "Precio de maduración                            \n",
       "10                         0   12     12      15\n",
       "11                         0   12     12      15\n",
       "12                         0   12     12      15\n",
       "13                         0   12     12      15\n",
       "14                         0   12     12      15\n",
       "...                      ...  ...    ...     ...\n",
       "31                        16   -4     12      15\n",
       "32                        17   -5     12      15\n",
       "33                        18   -6     12      15\n",
       "34                        19   -7     12      15\n",
       "35                        20   -8     12      15\n",
       "\n",
       "[26 rows x 4 columns]"
      ]
     },
     "execution_count": 35,
>>>>>>> Stashed changes
     "metadata": {},
     "output_type": "execute_result"
    }
   ],
   "source": [
<<<<<<< Updated upstream
    "S0 = closes_appl.iloc[-1]  # Condición inicial del precio a simular\n",
    "sim_closes = S0*np.exp(sim_ret.cumsum())\n",
    "sim_closes"
   ]
  },
  {
   "cell_type": "markdown",
   "metadata": {},
   "source": [
    "- Graficar:"
=======
    "call_pnl_seller(12, 15, 10, 35)"
   ]
  },
  {
   "cell_type": "code",
   "execution_count": 36,
   "metadata": {
    "collapsed": true
   },
   "outputs": [],
   "source": [
    "def call_pnl_combined(ct, K, STmin, STmax, step = 1):\n",
    "    maturities = np.arange(STmin, STmax+step, step)\n",
    "    payoffs = np.vectorize(call_payoff)(maturities, K)\n",
    "    df = pd.DataFrame({'Strike': K, 'Payoff': payoffs, 'Prima': ct, 'PnLcomprador': payoffs-ct, 'PnLvendedor': ct-payoffs}, index=maturities)\n",
    "    df.index.name = 'Precio de maduración'\n",
    "    return df"
>>>>>>> Stashed changes
   ]
  },
  {
   "cell_type": "code",
<<<<<<< Updated upstream
   "execution_count": 108,
   "metadata": {},
   "outputs": [
    {
     "data": {
      "image/png": "iVBORw0KGgoAAAANSUhEUgAAAeoAAAF0CAYAAADsAXoJAAAABHNCSVQICAgIfAhkiAAAAAlwSFlz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\n",
      "text/plain": [
       "<matplotlib.figure.Figure at 0x2029aedcc18>"
      ]
     },
     "metadata": {},
     "output_type": "display_data"
    }
   ],
   "source": [
    "#sim_closes.plot(figsize=(8,6));"
   ]
  },
  {
   "cell_type": "code",
   "execution_count": 109,
   "metadata": {},
   "outputs": [
    {
     "data": {
      "image/png": "iVBORw0KGgoAAAANSUhEUgAAAeoAAAFcCAYAAAAH/v1SAAAABHNCSVQICAgIfAhkiAAAAAlwSFlz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\n1ElJSUlJSRErNdRJSUlJSUkR6/+JbG+JIKs0fgAAAABJRU5ErkJggg==\n",
      "text/plain": [
       "<matplotlib.figure.Figure at 0x2029aedcc50>"
      ]
     },
     "metadata": {},
     "output_type": "display_data"
    }
   ],
   "source": [
    "# Se muestran los precios simulados con los precios descargados\n",
    "pd.concat([closes_appl,sim_closes]).plot(figsize=(8,6));"
   ]
  },
  {
   "cell_type": "code",
   "execution_count": 128,
   "metadata": {},
   "outputs": [],
   "source": [
    "K=180  # strike price\n",
    "ndays = 218 \n",
    "nscen = 100000\n",
    "dates = pd.date_range('2018-04-12', periods = ndays)\n",
    "S0 = closes_appl.iloc[-1]  # Condición inicial del precio a simular\n",
    "\n",
    "sim_ret = pd.DataFrame(sigma*np.random.randn(ndays,nscen)+r,index=dates)\n",
    "sim_closes = S0*np.exp(sim_ret.cumsum())\n",
    "#strike = pd.DataFrame({'Strike':K*np.ones(ndays)}, index=dates)\n",
    "#simul = pd.concat([closes_aapl.T,strike.T,sim_closes.T]).T\n",
    "#simul.plot(figsize=(8,6),legend=False);"
   ]
  },
  {
   "cell_type": "code",
   "execution_count": 129,
   "metadata": {},
   "outputs": [
    {
     "data": {
      "image/png": "iVBORw0KGgoAAAANSUhEUgAAAXQAAAEHCAYAAAC+1b08AAAABHNCSVQICAgIfAhkiAAAAAlwSFlz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\nIhIlFOgiIlHi/wP7vh5t+ryoGAAAAABJRU5ErkJggg==\n",
      "text/plain": [
       "<matplotlib.figure.Figure at 0x2029b162e80>"
      ]
     },
     "metadata": {},
     "output_type": "display_data"
    }
   ],
   "source": [
    "strike = pd.DataFrame(K*np.ones([ndays,nscen]), index=dates)\n",
    "call = pd.DataFrame({'Prima':np.exp(-r*ndays) \\\n",
    "              *np.fmax(sim_closes-strike,np.zeros([ndays,nscen])).T.mean()}, index=dates)\n",
    "call.plot();"
   ]
  },
  {
   "cell_type": "markdown",
   "metadata": {},
   "source": [
    "La valuación de la opción es:"
   ]
  },
  {
   "cell_type": "code",
   "execution_count": 130,
=======
   "execution_count": 37,
>>>>>>> Stashed changes
   "metadata": {},
   "outputs": [
    {
     "data": {
<<<<<<< Updated upstream
      "text/plain": [
       "Prima    12.685\n",
       "Name: 2018-11-15 00:00:00, dtype: float64"
      ]
     },
     "execution_count": 130,
=======
      "text/html": [
       "<div>\n",
       "<style scoped>\n",
       "    .dataframe tbody tr th:only-of-type {\n",
       "        vertical-align: middle;\n",
       "    }\n",
       "\n",
       "    .dataframe tbody tr th {\n",
       "        vertical-align: top;\n",
       "    }\n",
       "\n",
       "    .dataframe thead th {\n",
       "        text-align: right;\n",
       "    }\n",
       "</style>\n",
       "<table border=\"1\" class=\"dataframe\">\n",
       "  <thead>\n",
       "    <tr style=\"text-align: right;\">\n",
       "      <th></th>\n",
       "      <th>Payoff</th>\n",
       "      <th>PnLcomprador</th>\n",
       "      <th>PnLvendedor</th>\n",
       "      <th>Prima</th>\n",
       "      <th>Strike</th>\n",
       "    </tr>\n",
       "    <tr>\n",
       "      <th>Precio de maduración</th>\n",
       "      <th></th>\n",
       "      <th></th>\n",
       "      <th></th>\n",
       "      <th></th>\n",
       "      <th></th>\n",
       "    </tr>\n",
       "  </thead>\n",
       "  <tbody>\n",
       "    <tr>\n",
       "      <th>10</th>\n",
       "      <td>0</td>\n",
       "      <td>-12</td>\n",
       "      <td>12</td>\n",
       "      <td>12</td>\n",
       "      <td>15</td>\n",
       "    </tr>\n",
       "    <tr>\n",
       "      <th>11</th>\n",
       "      <td>0</td>\n",
       "      <td>-12</td>\n",
       "      <td>12</td>\n",
       "      <td>12</td>\n",
       "      <td>15</td>\n",
       "    </tr>\n",
       "    <tr>\n",
       "      <th>12</th>\n",
       "      <td>0</td>\n",
       "      <td>-12</td>\n",
       "      <td>12</td>\n",
       "      <td>12</td>\n",
       "      <td>15</td>\n",
       "    </tr>\n",
       "    <tr>\n",
       "      <th>13</th>\n",
       "      <td>0</td>\n",
       "      <td>-12</td>\n",
       "      <td>12</td>\n",
       "      <td>12</td>\n",
       "      <td>15</td>\n",
       "    </tr>\n",
       "    <tr>\n",
       "      <th>14</th>\n",
       "      <td>0</td>\n",
       "      <td>-12</td>\n",
       "      <td>12</td>\n",
       "      <td>12</td>\n",
       "      <td>15</td>\n",
       "    </tr>\n",
       "    <tr>\n",
       "      <th>...</th>\n",
       "      <td>...</td>\n",
       "      <td>...</td>\n",
       "      <td>...</td>\n",
       "      <td>...</td>\n",
       "      <td>...</td>\n",
       "    </tr>\n",
       "    <tr>\n",
       "      <th>31</th>\n",
       "      <td>16</td>\n",
       "      <td>4</td>\n",
       "      <td>-4</td>\n",
       "      <td>12</td>\n",
       "      <td>15</td>\n",
       "    </tr>\n",
       "    <tr>\n",
       "      <th>32</th>\n",
       "      <td>17</td>\n",
       "      <td>5</td>\n",
       "      <td>-5</td>\n",
       "      <td>12</td>\n",
       "      <td>15</td>\n",
       "    </tr>\n",
       "    <tr>\n",
       "      <th>33</th>\n",
       "      <td>18</td>\n",
       "      <td>6</td>\n",
       "      <td>-6</td>\n",
       "      <td>12</td>\n",
       "      <td>15</td>\n",
       "    </tr>\n",
       "    <tr>\n",
       "      <th>34</th>\n",
       "      <td>19</td>\n",
       "      <td>7</td>\n",
       "      <td>-7</td>\n",
       "      <td>12</td>\n",
       "      <td>15</td>\n",
       "    </tr>\n",
       "    <tr>\n",
       "      <th>35</th>\n",
       "      <td>20</td>\n",
       "      <td>8</td>\n",
       "      <td>-8</td>\n",
       "      <td>12</td>\n",
       "      <td>15</td>\n",
       "    </tr>\n",
       "  </tbody>\n",
       "</table>\n",
       "<p>26 rows × 5 columns</p>\n",
       "</div>"
      ],
      "text/plain": [
       "                      Payoff  PnLcomprador  PnLvendedor  Prima  Strike\n",
       "Precio de maduración                                                  \n",
       "10                         0           -12           12     12      15\n",
       "11                         0           -12           12     12      15\n",
       "12                         0           -12           12     12      15\n",
       "13                         0           -12           12     12      15\n",
       "14                         0           -12           12     12      15\n",
       "...                      ...           ...          ...    ...     ...\n",
       "31                        16             4           -4     12      15\n",
       "32                        17             5           -5     12      15\n",
       "33                        18             6           -6     12      15\n",
       "34                        19             7           -7     12      15\n",
       "35                        20             8           -8     12      15\n",
       "\n",
       "[26 rows x 5 columns]"
      ]
     },
     "execution_count": 37,
>>>>>>> Stashed changes
     "metadata": {},
     "output_type": "execute_result"
    }
   ],
   "source": [
<<<<<<< Updated upstream
    "call.iloc[-1]"
   ]
  },
  {
   "cell_type": "markdown",
   "metadata": {},
   "source": [
    "Intervalo de confianza del 95%"
=======
    "call_pnl_combined(12, 15, 10, 35)"
>>>>>>> Stashed changes
   ]
  },
  {
   "cell_type": "code",
<<<<<<< Updated upstream
   "execution_count": 141,
   "metadata": {
    "scrolled": true
   },
   "outputs": [
    {
     "name": "stdout",
     "output_type": "stream",
     "text": [
      "(12.47908312962883, 12.890661397689136)\n",
      "(12.47908312962883, 12.890661397689136)\n"
     ]
    }
   ],
   "source": [
    "confianza = 0.95\n",
    "sigma_est = sim_closes.iloc[-1].sem()\n",
    "mean_est = call.iloc[-1].Prima\n",
    "i1 = st.t.interval(confianza,nscen-1, loc=mean_est, scale=sigma_est)\n",
    "i2 = st.norm.interval(confianza, loc=mean_est, scale=sigma_est)\n",
    "print(i1)\n",
    "print(i1)\n"
   ]
  },
  {
   "cell_type": "markdown",
   "metadata": {},
   "source": [
    "### Análisis de la distribución de los rendimientos"
   ]
  },
  {
   "cell_type": "code",
   "execution_count": 212,
   "metadata": {},
   "outputs": [
    {
     "data": {
      "image/png": "iVBORw0KGgoAAAANSUhEUgAAAXQAAAD8CAYAAABn919SAAAABHNCSVQICAgIfAhkiAAAAAlwSFlz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\nrkJggg==\n",
      "text/plain": [
       "<matplotlib.figure.Figure at 0x2029d377550>"
      ]
     },
     "metadata": {},
     "output_type": "display_data"
    }
   ],
   "source": [
    "ren = calc_daily_ret(closes_appl) # rendimientos \n",
    "y,x,discar = plt.hist(ren,200,normed=True,label='Histograma rendimientos')\n",
    "mu_fit,sd_fit = st.norm.fit(ren) # Se ajustan los parámetros de una normal\n",
    "\n",
    "# Valores máximo y mínimo de los rendiemientos a generar\n",
    "ren_max = max(x);ren_min = min(x)\n",
    "# Vector de rendimientos generados\n",
    "ren_gen = np.arange(ren_min,ren_max,0.001)\n",
    "# Generación de la normal ajustado con los parámetros encontrados\n",
    "curve_fit = st.norm.pdf(ren_gen,loc=mu_fit,scale=sd_fit)\n",
    "plt.plot(ren_gen,curve_fit,label='Distribución ajustada')\n",
    "plt.legend()\n",
    "plt.show()"
   ]
  },
  {
   "cell_type": "code",
   "execution_count": 154,
   "metadata": {},
   "outputs": [
    {
     "data": {
      "image/png": "iVBORw0KGgoAAAANSUhEUgAAAZQAAAEWCAYAAABBvWFzAAAABHNCSVQICAgIfAhkiAAAAAlwSFlz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\n4YRiZmY54YRiZmY58f+Djy8PYj/k8wAAAABJRU5ErkJggg==\n",
      "text/plain": [
       "<matplotlib.figure.Figure at 0x2029b6404a8>"
      ]
     },
     "metadata": {},
     "output_type": "display_data"
    }
   ],
   "source": [
    "st.probplot(ren, dist='norm', plot=plt);"
   ]
  },
  {
   "cell_type": "markdown",
   "metadata": {},
   "source": [
    "## 3. Valuación usando simulación: uso del histograma de rendimientos\n",
    "\n",
    "Todo el análisis anterior se mantiene. Solo cambia la forma de generar los números aleatorios para la simulación montecarlo.\n",
    "\n",
    "Ahora, generemos un histograma de los rendimientos diarios para generar valores aleatorios de los rendimientos simulados."
   ]
  },
  {
   "cell_type": "markdown",
   "metadata": {},
   "source": [
    "- Primero, cantidad de días y número de escenarios de simulación"
   ]
  },
  {
   "cell_type": "code",
   "execution_count": 219,
=======
   "execution_count": 38,
>>>>>>> Stashed changes
   "metadata": {
    "collapsed": true
   },
   "outputs": [],
   "source": [
<<<<<<< Updated upstream
    "ndays = 218 \n",
    "nscen = 10"
   ]
  },
  {
   "cell_type": "markdown",
   "metadata": {},
   "source": [
    "- Del histograma anterior, ya conocemos las probabilidades de ocurrencia, lo que se llamó como variable `y`"
   ]
  },
  {
   "cell_type": "code",
   "execution_count": 220,
   "metadata": {},
   "outputs": [],
   "source": [
    "prob = y/np.sum(y)\n",
    "values = x[1:]"
   ]
  },
  {
   "cell_type": "markdown",
   "metadata": {},
   "source": [
    "- Con esto, generamos los números aleatorios correspondientes a los rendimientos (tantos como días por número de escenarios)."
=======
    "def put_pnl_buyer(ct, K, STmin, STmax, step = 1):\n",
    "    maturities = np.arange(STmin, STmax+step, step)\n",
    "    payoffs = np.vectorize(put_payoff)(maturities, K)\n",
    "    df = pd.DataFrame({'Strike': K, 'Payoff': payoffs, 'Prima': ct, 'PnL': payoffs-ct}, index=maturities)\n",
    "    df.index.name = 'Precio de maduración'\n",
    "    return df"
>>>>>>> Stashed changes
   ]
  },
  {
   "cell_type": "code",
<<<<<<< Updated upstream
   "execution_count": 221,
=======
   "execution_count": 39,
>>>>>>> Stashed changes
   "metadata": {},
   "outputs": [
    {
     "data": {
      "text/html": [
       "<div>\n",
<<<<<<< Updated upstream
       "<style>\n",
       "    .dataframe thead tr:only-child th {\n",
       "        text-align: right;\n",
       "    }\n",
       "\n",
       "    .dataframe thead th {\n",
       "        text-align: left;\n",
=======
       "<style scoped>\n",
       "    .dataframe tbody tr th:only-of-type {\n",
       "        vertical-align: middle;\n",
>>>>>>> Stashed changes
       "    }\n",
       "\n",
       "    .dataframe tbody tr th {\n",
       "        vertical-align: top;\n",
       "    }\n",
<<<<<<< Updated upstream
=======
       "\n",
       "    .dataframe thead th {\n",
       "        text-align: right;\n",
       "    }\n",
>>>>>>> Stashed changes
       "</style>\n",
       "<table border=\"1\" class=\"dataframe\">\n",
       "  <thead>\n",
       "    <tr style=\"text-align: right;\">\n",
       "      <th></th>\n",
<<<<<<< Updated upstream
       "      <th>0</th>\n",
       "      <th>1</th>\n",
       "      <th>2</th>\n",
       "      <th>...</th>\n",
       "      <th>7</th>\n",
       "      <th>8</th>\n",
       "      <th>9</th>\n",
=======
       "      <th>Payoff</th>\n",
       "      <th>PnL</th>\n",
       "      <th>Prima</th>\n",
       "      <th>Strike</th>\n",
       "    </tr>\n",
       "    <tr>\n",
       "      <th>Precio de maduración</th>\n",
       "      <th></th>\n",
       "      <th></th>\n",
       "      <th></th>\n",
       "      <th></th>\n",
>>>>>>> Stashed changes
       "    </tr>\n",
       "  </thead>\n",
       "  <tbody>\n",
       "    <tr>\n",
<<<<<<< Updated upstream
       "      <th>2018-02-15</th>\n",
       "      <td>-2.520e-02</td>\n",
       "      <td>-3.496e-04</td>\n",
       "      <td>6.381e-03</td>\n",
       "      <td>...</td>\n",
       "      <td>0.002</td>\n",
       "      <td>-3.974e-03</td>\n",
       "      <td>8.452e-03</td>\n",
       "    </tr>\n",
       "    <tr>\n",
       "      <th>2018-02-16</th>\n",
       "      <td>8.452e-03</td>\n",
       "      <td>-8.673e-04</td>\n",
       "      <td>-3.496e-04</td>\n",
       "      <td>...</td>\n",
       "      <td>0.003</td>\n",
       "      <td>-9.669e-03</td>\n",
       "      <td>-1.381e-02</td>\n",
       "    </tr>\n",
       "    <tr>\n",
       "      <th>2018-02-17</th>\n",
       "      <td>1.259e-02</td>\n",
       "      <td>2.239e-03</td>\n",
       "      <td>1.725e-02</td>\n",
       "      <td>...</td>\n",
       "      <td>0.005</td>\n",
       "      <td>-1.899e-02</td>\n",
       "      <td>-1.385e-03</td>\n",
       "    </tr>\n",
       "    <tr>\n",
       "      <th>2018-02-18</th>\n",
       "      <td>-1.903e-03</td>\n",
       "      <td>-3.456e-03</td>\n",
       "      <td>-2.938e-03</td>\n",
       "      <td>...</td>\n",
       "      <td>-0.026</td>\n",
       "      <td>2.239e-03</td>\n",
       "      <td>-3.456e-03</td>\n",
       "    </tr>\n",
       "    <tr>\n",
       "      <th>2018-02-19</th>\n",
       "      <td>2.239e-03</td>\n",
       "      <td>3.793e-03</td>\n",
       "      <td>-4.492e-03</td>\n",
       "      <td>...</td>\n",
       "      <td>-0.010</td>\n",
       "      <td>6.381e-03</td>\n",
       "      <td>6.860e-04</td>\n",
=======
       "      <th>10</th>\n",
       "      <td>5</td>\n",
       "      <td>3</td>\n",
       "      <td>2</td>\n",
       "      <td>15</td>\n",
       "    </tr>\n",
       "    <tr>\n",
       "      <th>11</th>\n",
       "      <td>4</td>\n",
       "      <td>2</td>\n",
       "      <td>2</td>\n",
       "      <td>15</td>\n",
       "    </tr>\n",
       "    <tr>\n",
       "      <th>12</th>\n",
       "      <td>3</td>\n",
       "      <td>1</td>\n",
       "      <td>2</td>\n",
       "      <td>15</td>\n",
       "    </tr>\n",
       "    <tr>\n",
       "      <th>13</th>\n",
       "      <td>2</td>\n",
       "      <td>0</td>\n",
       "      <td>2</td>\n",
       "      <td>15</td>\n",
       "    </tr>\n",
       "    <tr>\n",
       "      <th>14</th>\n",
       "      <td>1</td>\n",
       "      <td>-1</td>\n",
       "      <td>2</td>\n",
       "      <td>15</td>\n",
>>>>>>> Stashed changes
       "    </tr>\n",
       "    <tr>\n",
       "      <th>...</th>\n",
       "      <td>...</td>\n",
       "      <td>...</td>\n",
       "      <td>...</td>\n",
       "      <td>...</td>\n",
<<<<<<< Updated upstream
       "      <td>...</td>\n",
       "      <td>...</td>\n",
       "      <td>...</td>\n",
       "    </tr>\n",
       "    <tr>\n",
       "      <th>2018-09-16</th>\n",
       "      <td>-1.381e-02</td>\n",
       "      <td>3.793e-03</td>\n",
       "      <td>-3.974e-03</td>\n",
       "      <td>...</td>\n",
       "      <td>0.006</td>\n",
       "      <td>1.052e-02</td>\n",
       "      <td>-2.520e-02</td>\n",
       "    </tr>\n",
       "    <tr>\n",
       "      <th>2018-09-17</th>\n",
       "      <td>-5.527e-03</td>\n",
       "      <td>1.722e-03</td>\n",
       "      <td>-1.385e-03</td>\n",
       "      <td>...</td>\n",
       "      <td>0.010</td>\n",
       "      <td>1.518e-02</td>\n",
       "      <td>-2.261e-02</td>\n",
       "    </tr>\n",
       "    <tr>\n",
       "      <th>2018-09-18</th>\n",
       "      <td>1.829e-02</td>\n",
       "      <td>-1.903e-03</td>\n",
       "      <td>6.381e-03</td>\n",
       "      <td>...</td>\n",
       "      <td>-0.004</td>\n",
       "      <td>4.310e-03</td>\n",
       "      <td>-3.193e-02</td>\n",
       "    </tr>\n",
       "    <tr>\n",
       "      <th>2018-09-19</th>\n",
       "      <td>1.829e-02</td>\n",
       "      <td>-3.496e-04</td>\n",
       "      <td>3.793e-03</td>\n",
       "      <td>...</td>\n",
       "      <td>-0.003</td>\n",
       "      <td>2.757e-03</td>\n",
       "      <td>-1.899e-02</td>\n",
       "    </tr>\n",
       "    <tr>\n",
       "      <th>2018-09-20</th>\n",
       "      <td>6.860e-04</td>\n",
       "      <td>1.415e-02</td>\n",
       "      <td>3.793e-03</td>\n",
       "      <td>...</td>\n",
       "      <td>-0.008</td>\n",
       "      <td>6.860e-04</td>\n",
       "      <td>1.682e-04</td>\n",
       "    </tr>\n",
       "  </tbody>\n",
       "</table>\n",
       "<p>218 rows × 10 columns</p>\n",
       "</div>"
      ],
      "text/plain": [
       "                    0          1          2    ...          7          8  \\\n",
       "2018-02-15 -2.520e-02 -3.496e-04  6.381e-03    ...      0.002 -3.974e-03   \n",
       "2018-02-16  8.452e-03 -8.673e-04 -3.496e-04    ...      0.003 -9.669e-03   \n",
       "2018-02-17  1.259e-02  2.239e-03  1.725e-02    ...      0.005 -1.899e-02   \n",
       "2018-02-18 -1.903e-03 -3.456e-03 -2.938e-03    ...     -0.026  2.239e-03   \n",
       "2018-02-19  2.239e-03  3.793e-03 -4.492e-03    ...     -0.010  6.381e-03   \n",
       "...               ...        ...        ...    ...        ...        ...   \n",
       "2018-09-16 -1.381e-02  3.793e-03 -3.974e-03    ...      0.006  1.052e-02   \n",
       "2018-09-17 -5.527e-03  1.722e-03 -1.385e-03    ...      0.010  1.518e-02   \n",
       "2018-09-18  1.829e-02 -1.903e-03  6.381e-03    ...     -0.004  4.310e-03   \n",
       "2018-09-19  1.829e-02 -3.496e-04  3.793e-03    ...     -0.003  2.757e-03   \n",
       "2018-09-20  6.860e-04  1.415e-02  3.793e-03    ...     -0.008  6.860e-04   \n",
       "\n",
       "                    9  \n",
       "2018-02-15  8.452e-03  \n",
       "2018-02-16 -1.381e-02  \n",
       "2018-02-17 -1.385e-03  \n",
       "2018-02-18 -3.456e-03  \n",
       "2018-02-19  6.860e-04  \n",
       "...               ...  \n",
       "2018-09-16 -2.520e-02  \n",
       "2018-09-17 -2.261e-02  \n",
       "2018-09-18 -3.193e-02  \n",
       "2018-09-19 -1.899e-02  \n",
       "2018-09-20  1.682e-04  \n",
       "\n",
       "[218 rows x 10 columns]"
      ]
     },
     "execution_count": 221,
=======
       "    </tr>\n",
       "    <tr>\n",
       "      <th>26</th>\n",
       "      <td>0</td>\n",
       "      <td>-2</td>\n",
       "      <td>2</td>\n",
       "      <td>15</td>\n",
       "    </tr>\n",
       "    <tr>\n",
       "      <th>27</th>\n",
       "      <td>0</td>\n",
       "      <td>-2</td>\n",
       "      <td>2</td>\n",
       "      <td>15</td>\n",
       "    </tr>\n",
       "    <tr>\n",
       "      <th>28</th>\n",
       "      <td>0</td>\n",
       "      <td>-2</td>\n",
       "      <td>2</td>\n",
       "      <td>15</td>\n",
       "    </tr>\n",
       "    <tr>\n",
       "      <th>29</th>\n",
       "      <td>0</td>\n",
       "      <td>-2</td>\n",
       "      <td>2</td>\n",
       "      <td>15</td>\n",
       "    </tr>\n",
       "    <tr>\n",
       "      <th>30</th>\n",
       "      <td>0</td>\n",
       "      <td>-2</td>\n",
       "      <td>2</td>\n",
       "      <td>15</td>\n",
       "    </tr>\n",
       "  </tbody>\n",
       "</table>\n",
       "<p>21 rows × 4 columns</p>\n",
       "</div>"
      ],
      "text/plain": [
       "                      Payoff  PnL  Prima  Strike\n",
       "Precio de maduración                            \n",
       "10                         5    3      2      15\n",
       "11                         4    2      2      15\n",
       "12                         3    1      2      15\n",
       "13                         2    0      2      15\n",
       "14                         1   -1      2      15\n",
       "...                      ...  ...    ...     ...\n",
       "26                         0   -2      2      15\n",
       "27                         0   -2      2      15\n",
       "28                         0   -2      2      15\n",
       "29                         0   -2      2      15\n",
       "30                         0   -2      2      15\n",
       "\n",
       "[21 rows x 4 columns]"
      ]
     },
     "execution_count": 39,
>>>>>>> Stashed changes
     "metadata": {},
     "output_type": "execute_result"
    }
   ],
   "source": [
<<<<<<< Updated upstream
    "ret = np.random.choice(values, ndays*nscen, p=prob)\n",
    "dates = pd.date_range('2018-02-15',periods=ndays)\n",
    "sim_ret_hist = pd.DataFrame(ret.reshape((ndays,nscen)),index=dates)\n",
    "sim_ret_hist"
=======
    "put_pnl_buyer(2, 15, 10, 30)"
>>>>>>> Stashed changes
   ]
  },
  {
   "cell_type": "code",
<<<<<<< Updated upstream
   "execution_count": null,
=======
   "execution_count": 40,
>>>>>>> Stashed changes
   "metadata": {
    "collapsed": true
   },
   "outputs": [],
<<<<<<< Updated upstream
   "source": []
  },
  {
   "cell_type": "code",
   "execution_count": 222,
   "metadata": {
    "scrolled": false
   },
=======
   "source": [
    "def put_pnl_seller(ct, K, STmin, STmax, step = 1):\n",
    "    maturities = np.arange(STmin, STmax+step, step)\n",
    "    payoffs = np.vectorize(put_payoff)(maturities, K)\n",
    "    df = pd.DataFrame({'Strike': K, 'Payoff': payoffs, 'Prima': ct, 'PnL': ct-payoffs}, index=maturities)\n",
    "    df.index.name = 'Precio de maduración'\n",
    "    return df"
   ]
  },
  {
   "cell_type": "code",
   "execution_count": 41,
   "metadata": {},
>>>>>>> Stashed changes
   "outputs": [
    {
     "data": {
      "text/html": [
       "<div>\n",
<<<<<<< Updated upstream
       "<style>\n",
       "    .dataframe thead tr:only-child th {\n",
       "        text-align: right;\n",
       "    }\n",
       "\n",
       "    .dataframe thead th {\n",
       "        text-align: left;\n",
=======
       "<style scoped>\n",
       "    .dataframe tbody tr th:only-of-type {\n",
       "        vertical-align: middle;\n",
>>>>>>> Stashed changes
       "    }\n",
       "\n",
       "    .dataframe tbody tr th {\n",
       "        vertical-align: top;\n",
       "    }\n",
<<<<<<< Updated upstream
=======
       "\n",
       "    .dataframe thead th {\n",
       "        text-align: right;\n",
       "    }\n",
>>>>>>> Stashed changes
       "</style>\n",
       "<table border=\"1\" class=\"dataframe\">\n",
       "  <thead>\n",
       "    <tr style=\"text-align: right;\">\n",
       "      <th></th>\n",
<<<<<<< Updated upstream
       "      <th>0</th>\n",
       "      <th>1</th>\n",
       "      <th>2</th>\n",
       "      <th>...</th>\n",
       "      <th>7</th>\n",
       "      <th>8</th>\n",
       "      <th>9</th>\n",
=======
       "      <th>Payoff</th>\n",
       "      <th>PnL</th>\n",
       "      <th>Prima</th>\n",
       "      <th>Strike</th>\n",
       "    </tr>\n",
       "    <tr>\n",
       "      <th>Precio de maduración</th>\n",
       "      <th></th>\n",
       "      <th></th>\n",
       "      <th></th>\n",
       "      <th></th>\n",
>>>>>>> Stashed changes
       "    </tr>\n",
       "  </thead>\n",
       "  <tbody>\n",
       "    <tr>\n",
<<<<<<< Updated upstream
       "      <th>2018-02-15</th>\n",
       "      <td>169.757</td>\n",
       "      <td>174.029</td>\n",
       "      <td>175.204</td>\n",
       "      <td>...</td>\n",
       "      <td>174.390</td>\n",
       "      <td>173.400</td>\n",
       "      <td>175.568</td>\n",
       "    </tr>\n",
       "    <tr>\n",
       "      <th>2018-02-16</th>\n",
       "      <td>171.198</td>\n",
       "      <td>173.878</td>\n",
       "      <td>175.143</td>\n",
       "      <td>...</td>\n",
       "      <td>174.871</td>\n",
       "      <td>171.731</td>\n",
       "      <td>173.160</td>\n",
       "    </tr>\n",
       "    <tr>\n",
       "      <th>2018-02-17</th>\n",
       "      <td>173.368</td>\n",
       "      <td>174.268</td>\n",
       "      <td>178.191</td>\n",
       "      <td>...</td>\n",
       "      <td>175.718</td>\n",
       "      <td>168.501</td>\n",
       "      <td>172.920</td>\n",
       "    </tr>\n",
       "    <tr>\n",
       "      <th>2018-02-18</th>\n",
       "      <td>173.039</td>\n",
       "      <td>173.667</td>\n",
       "      <td>177.669</td>\n",
       "      <td>...</td>\n",
       "      <td>171.256</td>\n",
       "      <td>168.878</td>\n",
       "      <td>172.323</td>\n",
       "    </tr>\n",
       "    <tr>\n",
       "      <th>2018-02-19</th>\n",
       "      <td>173.426</td>\n",
       "      <td>174.327</td>\n",
       "      <td>176.872</td>\n",
       "      <td>...</td>\n",
       "      <td>169.608</td>\n",
       "      <td>169.960</td>\n",
       "      <td>172.442</td>\n",
=======
       "      <th>10</th>\n",
       "      <td>5</td>\n",
       "      <td>-3</td>\n",
       "      <td>2</td>\n",
       "      <td>15</td>\n",
       "    </tr>\n",
       "    <tr>\n",
       "      <th>11</th>\n",
       "      <td>4</td>\n",
       "      <td>-2</td>\n",
       "      <td>2</td>\n",
       "      <td>15</td>\n",
       "    </tr>\n",
       "    <tr>\n",
       "      <th>12</th>\n",
       "      <td>3</td>\n",
       "      <td>-1</td>\n",
       "      <td>2</td>\n",
       "      <td>15</td>\n",
       "    </tr>\n",
       "    <tr>\n",
       "      <th>13</th>\n",
       "      <td>2</td>\n",
       "      <td>0</td>\n",
       "      <td>2</td>\n",
       "      <td>15</td>\n",
       "    </tr>\n",
       "    <tr>\n",
       "      <th>14</th>\n",
       "      <td>1</td>\n",
       "      <td>1</td>\n",
       "      <td>2</td>\n",
       "      <td>15</td>\n",
>>>>>>> Stashed changes
       "    </tr>\n",
       "    <tr>\n",
       "      <th>...</th>\n",
       "      <td>...</td>\n",
       "      <td>...</td>\n",
       "      <td>...</td>\n",
       "      <td>...</td>\n",
<<<<<<< Updated upstream
       "      <td>...</td>\n",
       "      <td>...</td>\n",
       "      <td>...</td>\n",
       "    </tr>\n",
       "    <tr>\n",
       "      <th>2018-09-16</th>\n",
       "      <td>222.115</td>\n",
       "      <td>215.544</td>\n",
       "      <td>247.499</td>\n",
       "      <td>...</td>\n",
       "      <td>303.979</td>\n",
       "      <td>232.951</td>\n",
       "      <td>259.708</td>\n",
       "    </tr>\n",
       "    <tr>\n",
       "      <th>2018-09-17</th>\n",
       "      <td>220.890</td>\n",
       "      <td>215.915</td>\n",
       "      <td>247.156</td>\n",
       "      <td>...</td>\n",
       "      <td>307.036</td>\n",
       "      <td>236.515</td>\n",
       "      <td>253.901</td>\n",
       "    </tr>\n",
       "    <tr>\n",
       "      <th>2018-09-18</th>\n",
       "      <td>224.968</td>\n",
       "      <td>215.504</td>\n",
       "      <td>248.739</td>\n",
       "      <td>...</td>\n",
       "      <td>305.660</td>\n",
       "      <td>237.537</td>\n",
       "      <td>245.921</td>\n",
       "    </tr>\n",
       "    <tr>\n",
       "      <th>2018-09-19</th>\n",
       "      <td>229.120</td>\n",
       "      <td>215.429</td>\n",
       "      <td>249.684</td>\n",
       "      <td>...</td>\n",
       "      <td>304.763</td>\n",
       "      <td>238.192</td>\n",
       "      <td>241.296</td>\n",
       "    </tr>\n",
       "    <tr>\n",
       "      <th>2018-09-20</th>\n",
       "      <td>229.277</td>\n",
       "      <td>218.499</td>\n",
       "      <td>250.633</td>\n",
       "      <td>...</td>\n",
       "      <td>302.300</td>\n",
       "      <td>238.356</td>\n",
       "      <td>241.336</td>\n",
       "    </tr>\n",
       "  </tbody>\n",
       "</table>\n",
       "<p>218 rows × 10 columns</p>\n",
       "</div>"
      ],
      "text/plain": [
       "                  0        1        2   ...           7        8        9\n",
       "2018-02-15  169.757  174.029  175.204   ...     174.390  173.400  175.568\n",
       "2018-02-16  171.198  173.878  175.143   ...     174.871  171.731  173.160\n",
       "2018-02-17  173.368  174.268  178.191   ...     175.718  168.501  172.920\n",
       "2018-02-18  173.039  173.667  177.669   ...     171.256  168.878  172.323\n",
       "2018-02-19  173.426  174.327  176.872   ...     169.608  169.960  172.442\n",
       "...             ...      ...      ...   ...         ...      ...      ...\n",
       "2018-09-16  222.115  215.544  247.499   ...     303.979  232.951  259.708\n",
       "2018-09-17  220.890  215.915  247.156   ...     307.036  236.515  253.901\n",
       "2018-09-18  224.968  215.504  248.739   ...     305.660  237.537  245.921\n",
       "2018-09-19  229.120  215.429  249.684   ...     304.763  238.192  241.296\n",
       "2018-09-20  229.277  218.499  250.633   ...     302.300  238.356  241.336\n",
       "\n",
       "[218 rows x 10 columns]"
      ]
     },
     "execution_count": 222,
=======
       "    </tr>\n",
       "    <tr>\n",
       "      <th>26</th>\n",
       "      <td>0</td>\n",
       "      <td>2</td>\n",
       "      <td>2</td>\n",
       "      <td>15</td>\n",
       "    </tr>\n",
       "    <tr>\n",
       "      <th>27</th>\n",
       "      <td>0</td>\n",
       "      <td>2</td>\n",
       "      <td>2</td>\n",
       "      <td>15</td>\n",
       "    </tr>\n",
       "    <tr>\n",
       "      <th>28</th>\n",
       "      <td>0</td>\n",
       "      <td>2</td>\n",
       "      <td>2</td>\n",
       "      <td>15</td>\n",
       "    </tr>\n",
       "    <tr>\n",
       "      <th>29</th>\n",
       "      <td>0</td>\n",
       "      <td>2</td>\n",
       "      <td>2</td>\n",
       "      <td>15</td>\n",
       "    </tr>\n",
       "    <tr>\n",
       "      <th>30</th>\n",
       "      <td>0</td>\n",
       "      <td>2</td>\n",
       "      <td>2</td>\n",
       "      <td>15</td>\n",
       "    </tr>\n",
       "  </tbody>\n",
       "</table>\n",
       "<p>21 rows × 4 columns</p>\n",
       "</div>"
      ],
      "text/plain": [
       "                      Payoff  PnL  Prima  Strike\n",
       "Precio de maduración                            \n",
       "10                         5   -3      2      15\n",
       "11                         4   -2      2      15\n",
       "12                         3   -1      2      15\n",
       "13                         2    0      2      15\n",
       "14                         1    1      2      15\n",
       "...                      ...  ...    ...     ...\n",
       "26                         0    2      2      15\n",
       "27                         0    2      2      15\n",
       "28                         0    2      2      15\n",
       "29                         0    2      2      15\n",
       "30                         0    2      2      15\n",
       "\n",
       "[21 rows x 4 columns]"
      ]
     },
     "execution_count": 41,
>>>>>>> Stashed changes
     "metadata": {},
     "output_type": "execute_result"
    }
   ],
   "source": [
<<<<<<< Updated upstream
    "sim_closes_hist = (closes_appl.iloc[-1])*np.exp(sim_ret_hist.cumsum())\n",
    "sim_closes_hist"
=======
    "put_pnl_seller(2, 15, 10, 30)"
>>>>>>> Stashed changes
   ]
  },
  {
   "cell_type": "code",
<<<<<<< Updated upstream
   "execution_count": 223,
=======
   "execution_count": 53,
>>>>>>> Stashed changes
   "metadata": {},
   "outputs": [
    {
     "data": {
<<<<<<< Updated upstream
      "image/png": "iVBORw0KGgoAAAANSUhEUgAAAeoAAAF0CAYAAADsAXoJAAAABHNCSVQICAgIfAhkiAAAAAlwSFlz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\n",
      "text/plain": [
       "<matplotlib.figure.Figure at 0x202f55ab748>"
      ]
     },
     "metadata": {},
     "output_type": "display_data"
    }
   ],
   "source": [
    "sim_closes_hist.plot(figsize=(8,6),legend=False);"
=======
      "text/plain": [
       "Precio de maduración\n",
       "10    5\n",
       "11    4\n",
       "12    3\n",
       "13    2\n",
       "14    1\n",
       "     ..\n",
       "26    0\n",
       "27    0\n",
       "28    0\n",
       "29    0\n",
       "30    0\n",
       "Name: Payoff, Length: 21, dtype: int64"
      ]
     },
     "execution_count": 53,
     "metadata": {},
     "output_type": "execute_result"
    }
   ],
   "source": [
    "put_pnl_seller(2, 15, 10, 30).Payoff"
>>>>>>> Stashed changes
   ]
  },
  {
   "cell_type": "code",
<<<<<<< Updated upstream
   "execution_count": 225,
=======
   "execution_count": 54,
>>>>>>> Stashed changes
   "metadata": {},
   "outputs": [
    {
     "data": {
<<<<<<< Updated upstream
      "image/png": "iVBORw0KGgoAAAANSUhEUgAAAeoAAAFcCAYAAAAH/v1SAAAABHNCSVQICAgIfAhkiAAAAAlwSFlz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\nKdRCCCGEB/t/8CiILVW0xvkAAAAASUVORK5CYII=\n",
      "text/plain": [
       "<matplotlib.figure.Figure at 0x202f75fa390>"
      ]
     },
     "metadata": {},
     "output_type": "display_data"
    }
   ],
   "source": [
    "pd.concat([closes_appl,sim_closes_hist]).plot(figsize=(8,6),legend=False);"
=======
      "text/plain": [
       "Precio de maduración\n",
       "10    5\n",
       "11    4\n",
       "12    3\n",
       "13    2\n",
       "14    1\n",
       "     ..\n",
       "26    0\n",
       "27    0\n",
       "28    0\n",
       "29    0\n",
       "30    0\n",
       "Name: Payoff, Length: 21, dtype: int64"
      ]
     },
     "execution_count": 54,
     "metadata": {},
     "output_type": "execute_result"
    }
   ],
   "source": [
    "put_pnl_seller(2, 15, 10, 30)['Payoff']"
>>>>>>> Stashed changes
   ]
  },
  {
   "cell_type": "code",
<<<<<<< Updated upstream
   "execution_count": 245,
   "metadata": {},
   "outputs": [],
   "source": [
    "K=180\n",
    "ndays = 218\n",
    "nscen = 1000000\n",
    "freq, values = np.histogram(ret_aapl+r-mu, bins=2000)\n",
    "prob = freq/np.sum(freq)\n",
    "ret=np.random.choice(values[1:],ndays*nscen,p=prob)\n",
    "dates=pd.date_range('2018-02-15',periods=ndays)\n",
    "sim_ret_hist = pd.DataFrame(ret.reshape((ndays,nscen)),index=dates)\n",
    "sim_closes_hist = (closes_appl.iloc[-1])*np.exp(sim_ret_hist.cumsum())"
=======
   "execution_count": 55,
   "metadata": {},
   "outputs": [
    {
     "data": {
      "text/plain": [
       "Precio de maduración\n",
       "10    5\n",
       "11    4\n",
       "12    3\n",
       "13    2\n",
       "14    1\n",
       "     ..\n",
       "26    0\n",
       "27    0\n",
       "28    0\n",
       "29    0\n",
       "30    0\n",
       "Name: Payoff, Length: 21, dtype: int64"
      ]
     },
     "execution_count": 55,
     "metadata": {},
     "output_type": "execute_result"
    }
   ],
   "source": [
    "put_pnl_seller(2, 15, 10, 30).loc[:, 'Payoff']"
>>>>>>> Stashed changes
   ]
  },
  {
   "cell_type": "code",
<<<<<<< Updated upstream
   "execution_count": 246,
=======
   "execution_count": 58,
>>>>>>> Stashed changes
   "metadata": {},
   "outputs": [
    {
     "data": {
<<<<<<< Updated upstream
      "image/png": "iVBORw0KGgoAAAANSUhEUgAAAXQAAAEHCAYAAAC+1b08AAAABHNCSVQICAgIfAhkiAAAAAlwSFlz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\ni4hEif8HGxrOcXfOkooAAAAASUVORK5CYII=\n",
      "text/plain": [
       "<matplotlib.figure.Figure at 0x20280f9ec88>"
      ]
     },
     "metadata": {},
     "output_type": "display_data"
    }
   ],
   "source": [
    "strike = pd.DataFrame(K*np.ones(ndays*nscen).reshape((ndays,nscen)), index=dates)\n",
    "call_hist = pd.DataFrame({'Prima':np.exp(-r*ndays)*np.fmax(sim_closes_hist-strike,np.zeros(ndays*nscen).reshape((ndays,nscen))).T.mean()}, index=dates)\n",
    "call_hist.plot();"
=======
      "text/plain": [
       "Precio de maduración\n",
       "10    5\n",
       "11    4\n",
       "12    3\n",
       "13    2\n",
       "14    1\n",
       "     ..\n",
       "26    0\n",
       "27    0\n",
       "28    0\n",
       "29    0\n",
       "30    0\n",
       "Name: Payoff, Length: 21, dtype: int64"
      ]
     },
     "execution_count": 58,
     "metadata": {},
     "output_type": "execute_result"
    }
   ],
   "source": [
    "put_pnl_seller(2, 15, 10, 30).iloc[:, 0]"
>>>>>>> Stashed changes
   ]
  },
  {
   "cell_type": "code",
<<<<<<< Updated upstream
   "execution_count": 247,
   "metadata": {
    "scrolled": true
   },
   "outputs": [
    {
     "data": {
      "text/plain": [
       "Prima    13.127\n",
       "Name: 2018-09-20 00:00:00, dtype: float64"
      ]
     },
     "execution_count": 247,
=======
   "execution_count": 42,
   "metadata": {
    "collapsed": true
   },
   "outputs": [],
   "source": [
    "def put_pnl_combined(ct, K, STmin, STmax, step = 1):\n",
    "    maturities = np.arange(STmin, STmax+step, step)\n",
    "    payoffs = np.vectorize(put_payoff)(maturities, K)\n",
    "    df = pd.DataFrame({'Strike': K, 'Payoff': payoffs, 'Prima': ct, 'PnLcomprador': payoffs-ct, 'PnLvendedor': ct-payoffs}, index=maturities)\n",
    "    df.index.name = 'Precio de maduración'\n",
    "    return df"
   ]
  },
  {
   "cell_type": "code",
   "execution_count": null,
   "metadata": {
    "collapsed": true
   },
   "outputs": [],
   "source": []
  },
  {
   "cell_type": "code",
   "execution_count": 43,
   "metadata": {},
   "outputs": [
    {
     "data": {
      "text/html": [
       "<div>\n",
       "<style scoped>\n",
       "    .dataframe tbody tr th:only-of-type {\n",
       "        vertical-align: middle;\n",
       "    }\n",
       "\n",
       "    .dataframe tbody tr th {\n",
       "        vertical-align: top;\n",
       "    }\n",
       "\n",
       "    .dataframe thead th {\n",
       "        text-align: right;\n",
       "    }\n",
       "</style>\n",
       "<table border=\"1\" class=\"dataframe\">\n",
       "  <thead>\n",
       "    <tr style=\"text-align: right;\">\n",
       "      <th></th>\n",
       "      <th>Payoff</th>\n",
       "      <th>PnLcomprador</th>\n",
       "      <th>PnLvendedor</th>\n",
       "      <th>Prima</th>\n",
       "      <th>Strike</th>\n",
       "    </tr>\n",
       "    <tr>\n",
       "      <th>Precio de maduración</th>\n",
       "      <th></th>\n",
       "      <th></th>\n",
       "      <th></th>\n",
       "      <th></th>\n",
       "      <th></th>\n",
       "    </tr>\n",
       "  </thead>\n",
       "  <tbody>\n",
       "    <tr>\n",
       "      <th>10</th>\n",
       "      <td>5</td>\n",
       "      <td>3</td>\n",
       "      <td>-3</td>\n",
       "      <td>2</td>\n",
       "      <td>15</td>\n",
       "    </tr>\n",
       "    <tr>\n",
       "      <th>11</th>\n",
       "      <td>4</td>\n",
       "      <td>2</td>\n",
       "      <td>-2</td>\n",
       "      <td>2</td>\n",
       "      <td>15</td>\n",
       "    </tr>\n",
       "    <tr>\n",
       "      <th>12</th>\n",
       "      <td>3</td>\n",
       "      <td>1</td>\n",
       "      <td>-1</td>\n",
       "      <td>2</td>\n",
       "      <td>15</td>\n",
       "    </tr>\n",
       "    <tr>\n",
       "      <th>13</th>\n",
       "      <td>2</td>\n",
       "      <td>0</td>\n",
       "      <td>0</td>\n",
       "      <td>2</td>\n",
       "      <td>15</td>\n",
       "    </tr>\n",
       "    <tr>\n",
       "      <th>14</th>\n",
       "      <td>1</td>\n",
       "      <td>-1</td>\n",
       "      <td>1</td>\n",
       "      <td>2</td>\n",
       "      <td>15</td>\n",
       "    </tr>\n",
       "    <tr>\n",
       "      <th>...</th>\n",
       "      <td>...</td>\n",
       "      <td>...</td>\n",
       "      <td>...</td>\n",
       "      <td>...</td>\n",
       "      <td>...</td>\n",
       "    </tr>\n",
       "    <tr>\n",
       "      <th>26</th>\n",
       "      <td>0</td>\n",
       "      <td>-2</td>\n",
       "      <td>2</td>\n",
       "      <td>2</td>\n",
       "      <td>15</td>\n",
       "    </tr>\n",
       "    <tr>\n",
       "      <th>27</th>\n",
       "      <td>0</td>\n",
       "      <td>-2</td>\n",
       "      <td>2</td>\n",
       "      <td>2</td>\n",
       "      <td>15</td>\n",
       "    </tr>\n",
       "    <tr>\n",
       "      <th>28</th>\n",
       "      <td>0</td>\n",
       "      <td>-2</td>\n",
       "      <td>2</td>\n",
       "      <td>2</td>\n",
       "      <td>15</td>\n",
       "    </tr>\n",
       "    <tr>\n",
       "      <th>29</th>\n",
       "      <td>0</td>\n",
       "      <td>-2</td>\n",
       "      <td>2</td>\n",
       "      <td>2</td>\n",
       "      <td>15</td>\n",
       "    </tr>\n",
       "    <tr>\n",
       "      <th>30</th>\n",
       "      <td>0</td>\n",
       "      <td>-2</td>\n",
       "      <td>2</td>\n",
       "      <td>2</td>\n",
       "      <td>15</td>\n",
       "    </tr>\n",
       "  </tbody>\n",
       "</table>\n",
       "<p>21 rows × 5 columns</p>\n",
       "</div>"
      ],
      "text/plain": [
       "                      Payoff  PnLcomprador  PnLvendedor  Prima  Strike\n",
       "Precio de maduración                                                  \n",
       "10                         5             3           -3      2      15\n",
       "11                         4             2           -2      2      15\n",
       "12                         3             1           -1      2      15\n",
       "13                         2             0            0      2      15\n",
       "14                         1            -1            1      2      15\n",
       "...                      ...           ...          ...    ...     ...\n",
       "26                         0            -2            2      2      15\n",
       "27                         0            -2            2      2      15\n",
       "28                         0            -2            2      2      15\n",
       "29                         0            -2            2      2      15\n",
       "30                         0            -2            2      2      15\n",
       "\n",
       "[21 rows x 5 columns]"
      ]
     },
     "execution_count": 43,
>>>>>>> Stashed changes
     "metadata": {},
     "output_type": "execute_result"
    }
   ],
   "source": [
<<<<<<< Updated upstream
    "call_hist.iloc[-1]"
   ]
  },
  {
   "cell_type": "markdown",
   "metadata": {},
   "source": [
    "Intervalo de confianza del 95%"
=======
    "put_pnl_combined(2, 15, 10, 30)"
   ]
  },
  {
   "cell_type": "code",
   "execution_count": 44,
   "metadata": {
    "collapsed": true
   },
   "outputs": [],
   "source": [
    "def plot_pnl(pnl_df, okind, who):\n",
    "    plt.ylim(pnl_df.Payoff.min() - 10, pnl_df.Payoff.max() + 10)\n",
    "    plt.ylabel(\"Ganancia/pérdida\")\n",
    "    plt.xlabel(\"Precio de maduración\")\n",
    "    plt.title('Ganancia y pérdida de una opción {0} para el {1}, Prima={2}, Strike={3}'.format(okind, who, pnl_df.Prima.iloc[0],\n",
    "    pnl_df.Strike.iloc[0]))\n",
    "    plt.ylim(pnl_df.PnL.min()-3, pnl_df.PnL.max() + 3)\n",
    "    plt.xlim(pnl_df.index[0], pnl_df.index[len(pnl_df.index)-1])\n",
    "    plt.plot(pnl_df.index, pnl_df.PnL)\n",
    "    plt.axhline(0, color='g');"
   ]
  },
  {
   "cell_type": "code",
   "execution_count": 45,
   "metadata": {},
   "outputs": [
    {
     "data": {
      "image/png": "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\n",
      "text/plain": [
       "<matplotlib.figure.Figure at 0x7f3f133a5438>"
      ]
     },
     "metadata": {},
     "output_type": "display_data"
    }
   ],
   "source": [
    "plot_pnl(call_pnl_buyer(12, 15, 10, 35), \"call\", \"comprador\")"
   ]
  },
  {
   "cell_type": "code",
   "execution_count": 46,
   "metadata": {},
   "outputs": [
    {
     "data": {
      "image/png": "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\n",
      "text/plain": [
       "<matplotlib.figure.Figure at 0x7f3f129d05c0>"
      ]
     },
     "metadata": {},
     "output_type": "display_data"
    }
   ],
   "source": [
    "plot_pnl(call_pnl_seller(12, 15, 10, 35), \"call\", \"vendedor\")"
>>>>>>> Stashed changes
   ]
  },
  {
   "cell_type": "code",
<<<<<<< Updated upstream
   "execution_count": 248,
   "metadata": {
    "scrolled": true
   },
   "outputs": [
    {
     "name": "stdout",
     "output_type": "stream",
     "text": [
      "(13.061418666119526, 13.192338293068257)\n",
      "(13.061418666119526, 13.192338293068257)\n"
     ]
    }
   ],
   "source": [
    "confianza = 0.95\n",
    "sigma_est = sim_closes_hist.iloc[-1].sem()\n",
    "mean_est = call_hist.iloc[-1].Prima\n",
    "i1 = st.t.interval(confianza,nscen-1, loc=mean_est, scale=sigma_est)\n",
    "i2 = st.norm.interval(confianza, loc=mean_est, scale=sigma_est)\n",
    "print(i1)\n",
    "print(i1)\n"
=======
   "execution_count": 47,
   "metadata": {},
   "outputs": [
    {
     "data": {
      "image/png": "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\n",
      "text/plain": [
       "<matplotlib.figure.Figure at 0x7f3f130a91d0>"
      ]
     },
     "metadata": {},
     "output_type": "display_data"
    }
   ],
   "source": [
    "plot_pnl(put_pnl_buyer(2, 15, 10, 30), \"put\", \"comprador\")"
>>>>>>> Stashed changes
   ]
  },
  {
   "cell_type": "markdown",
   "metadata": {},
   "source": [
    "<script>\n",
    "  $(document).ready(function(){\n",
    "    $('div.prompt').hide();\n",
    "    $('div.back-to-top').hide();\n",
    "    $('nav#menubar').hide();\n",
    "    $('.breadcrumb').hide();\n",
    "    $('.hidden-print').hide();\n",
    "  });\n",
    "</script>\n",
    "\n",
    "<footer id=\"attribution\" style=\"float:right; color:#808080; background:#fff;\">\n",
<<<<<<< Updated upstream
    "Created with Jupyter by Esteban Jiménez Rodríguez and modify by Oscar Jaramillo Z.\n",
=======
    "Created with Jupyter by Esteban Jiménez Rodríguez.\n",
>>>>>>> Stashed changes
    "</footer>"
   ]
  }
 ],
 "metadata": {
  "kernelspec": {
   "display_name": "Python 3",
   "language": "python",
   "name": "python3"
  },
  "language_info": {
   "codemirror_mode": {
    "name": "ipython",
    "version": 3
   },
   "file_extension": ".py",
   "mimetype": "text/x-python",
   "name": "python",
   "nbconvert_exporter": "python",
   "pygments_lexer": "ipython3",
<<<<<<< Updated upstream
   "version": "3.6.2"
=======
   "version": "3.6.5"
>>>>>>> Stashed changes
  }
 },
 "nbformat": 4,
 "nbformat_minor": 2
}
