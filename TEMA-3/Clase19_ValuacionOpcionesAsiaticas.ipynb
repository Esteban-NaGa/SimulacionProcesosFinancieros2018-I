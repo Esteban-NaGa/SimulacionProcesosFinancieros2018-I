{
 "cells": [
  {
   "cell_type": "markdown",
   "metadata": {},
   "source": [
    "# Valuación de opciones asiáticas "
   ]
  },
  {
   "cell_type": "markdown",
   "metadata": {},
   "source": [
    "- Las opciones que tratamos la clase pasada dependen sólo del valor del precio del subyacente $S_t$, en el instante que se ejerce.\n",
    "\n",
    "- Cambios bruscos en el precio, cambian que la opción esté *in the money* a estar *out the money*.\n",
    "\n",
    "- **Posibilidad de evitar esto** $\\longrightarrow$ suscribir un contrato sobre el valor promedio del precio del subyacente. \n",
    "\n",
    "- <font color ='red'> Puede proveer protección contra fluctuaciones extremas del precio en mercados volátiles. </font>\n",
    "\n",
    "- **Nombre**: Banco Trust de Tokio ofreció este tipo de opciones\n",
    "\n",
    "### ¿Dónde se negocian?\n",
    "\n",
    "- Mercados OTC (Over the Counter / Independientes). Una explicación de esto podría ser el último punto de la lámina anterior.\n",
    "\n",
    "- Las condiciones para el cálculo matemático del promedio y otras condiciones son especificadas en el contrato. Lo que las hace un poco más “personalizables”. \n",
    "\n",
    "Existen diversos tipos de opciones asiáticas y se clasiflcan de acuerdo con lo siguiente.\n",
    "\n",
    "1. La media que se utiliza puede ser **aritmética** o geométrica.\n",
    "\n",
    "2. Media se calcula para $S_t \\longrightarrow$ \"Precio de ejercicio fijo\". Media se calcula para precio de ejercicio $\\longrightarrow$ \"Precio de ejercicio flotante\". \n",
    "\n",
    "3. Si la opción sólo se puede ejercer al final del tiempo del contrato se dice que es asiática de tipo europeo o **euroasiática**, y si puede ejercer en cualquier instante, durante la vigencia del contrato se denomina **asiática de tipo americano.**\n",
    "\n",
    "Los tipos de opciones euroasiáticas son:\n",
    "\n",
    "- Call con precio de ejercicio fijo, función de pago: $\\max\\{A-K,0\\}$.\n",
    "- Put con precio de ejercicio fijo, función de pago: $\\max\\{K-A,0\\}$.\n",
    "- Call con precio de ejercicio flotante, función de pago: $\\max\\{S-K,0\\}$.\n",
    "- Put con precio de ejercicio flotante, función de pago: $\\max\\{K-S,0\\}$.\n",
    "\n",
    "Donde $A$ es el promedio del precio del subyacente.\n",
    "\n",
    "$$\\text{Promedio aritmético} \\quad A={1\\over T} \\int_0^TS_tdt$$\n",
    "$$\\text{Promedio geométrico} \\quad A=\\exp\\Big({1\\over T} \\int_0^T Ln(S_t) dt\\Big)$$\n",
    "\n",
    "De aquí en adelante denominaremos **Asiática ** $\\longrightarrow$ Euroasiática y se analizará el call asiático con **K Fijo**.\n",
    "\n",
    "Se supondrá un solo activo con riesgo, cuyos proceso de precios $\\{S_t | t\\in [0,T]\\}$ satisface un movimiento browniano geométrico, en un mercado que satisface las suposiciones del modelo de Black y Scholes. Recordemos que bajo esta medida de probabilidad, $P^*$, denominada de riesgo neutro, bajo la cual el precio del activo, $S_t$, satisface:\n",
    "\n",
    "$$dS_t = rS_tdt+\\sigma S_tdW_t,\\quad 0\\leq t \\leq T, S_0 >0$$\n",
    "\n",
    "Para un call asiático de promedio aritmético y con precio de ejercicios fijo, está dado por\n",
    "$$\\max \\{A(T)-K,0\\} = (A(T)-K)_+$$\n",
    "\n",
    "con $A(x)={1\\over x} \\int_0^x S_u du$"
   ]
  },
  {
   "cell_type": "markdown",
   "metadata": {},
   "source": [
    "Se puede ver que el valor en el tiempo t de la opción call asiática está dado por:\n",
    "\n",
    "$$ V_t(K) = e^{-r(T-t)}E^*[(A(T)-K)_+]$$\n",
    "\n",
    "Para el caso de interés, *Valución de la opción*, donde $t_0=0$ y $t=0$, se tiene:\n",
    "\n",
    "$$\\textbf{Valor call asiático}\\longrightarrow V_0(K)=e^{-rT}E\\Bigg[ \\Big({1\\over T} \\int_0^T S_u du -K\\Big)_+\\Bigg]$$ "
   ]
  },
  {
   "cell_type": "markdown",
   "metadata": {},
   "source": [
    "## Usando Monte Carlo\n",
    "\n",
    "Para usar este método es necesario que se calcule el promedio $S_u$ en el intervalo $[0,T]$. Para esto se debe aproximar el valor de la integral por los siguiente dos métodos.\n",
    "\n",
    "Para los dos esquemas se dividirá el intervalo $[0,T]$ en N subintervalos de igual longitud, $h={T\\over N}$, esto determina los tiempos $t_0,t_1,\\cdots,t_{N-1},t_N $, en donde $t_i=ih$ para $i=0,1,\\cdots,N$\n",
    "\n",
    "### Sumas de Riemann\n",
    "\n",
    "$$\\int_0^T S_u du \\approx h \\sum_{i=0}^{n-1} S_{t_i}$$\n",
    "\n",
    "Reemplanzando esta aproximación en el valor del call asiático obtenemos la siguiente aproximación:\n",
    "\n",
    "$$\\hat V_0^{(1)}= {e^{-rT} \\over M} \\sum_{j=1}^{M} \\Bigg({1\\over N} \\sum_{i=0}^{N-1} S_{t_i}-K \\Bigg)_+$$\n"
   ]
  },
  {
   "attachments": {
    "imagen.png": {
     "image/png": "[encoded data removed]"
    }
   },
   "cell_type": "markdown",
   "metadata": {},
   "source": [
    "## Mejorando la aproximación de las sumas de Riemann\n",
    "\n",
    "![imagen.png](attachment:imagen.png)"
   ]
  },
  {
   "cell_type": "markdown",
   "metadata": {},
   "source": [
    "Desarrollando la exponencial en serie de taylor y suponiendo que $h$ es pequeña, sólo se conservan los términos de orden uno, se tiene la siguiente aproximación:\n",
    "$$\\int_0^T S_u du \\approx {h \\over 2}\\sum_{i=0}^{N-1}S_{t_i}(2+rh+(W_{t_{i+1}}-W_{t_i})\\sigma)$$\n",
    "\n",
    "Reemplazando esta aproximación en el precio del call, se tiene la siguiente estimación:\n",
    "$$\\hat V_0^{(2)}= {e^{-rT} \\over M} \\sum_{j=1}^{M} \\Bigg({h\\over 2T} \\sum_{i=0}^{N-1} S_{t_i}(2+rh+(W_{t_{i+1}}-W_{t_i})\\sigma)-K \\Bigg)_+$$"
   ]
  },
  {
   "cell_type": "markdown",
   "metadata": {},
   "source": [
    "## Ejemplo\n",
    "\n",
    "Como caso de prueba se seleccionó el de un call asiático con precio inicial, $S_0 = 100$, precio de ejercicio $K = 100$, tasa libre de riesgo $r = 0.10$, volatilidad $\\sigma = 0.20$ y $T = 1$ año. Cuyo precio es $\\approx 7.04$."
   ]
  },
  {
   "cell_type": "code",
   "execution_count": 2,
   "metadata": {
    "collapsed": true
   },
   "outputs": [],
   "source": [
    "#importar los paquetes que se van a usar\n",
    "import pandas as pd\n",
    "import pandas_datareader.data as web\n",
    "import numpy as np\n",
    "import datetime\n",
    "import matplotlib.pyplot as plt\n",
    "import scipy.stats as st\n",
    "import seaborn as sns\n",
    "%matplotlib inline\n",
    "#algunas opciones para Pandas\n",
    "pd.set_option('display.notebook_repr_html', True)\n",
    "pd.set_option('display.max_columns', 6)\n",
    "pd.set_option('display.max_rows', 10)\n",
    "pd.set_option('display.width', 78)\n",
    "pd.set_option('precision', 3)"
   ]
  },
  {
   "cell_type": "code",
   "execution_count": 1,
   "metadata": {
    "collapsed": true
   },
   "outputs": [],
   "source": [
    "def BSprices(mu,sigma,S0,NbTraj,NbStep):\n",
    "    T = 1\n",
    "    nu = mu-(sigma**2)/2\n",
    "    \n",
    "    DeltaT = T/NbStep\n",
    "    SqDeltaT = np.sqrt(DeltaT)\n",
    "    \n",
    "    #for i in range(NbStep):\n",
    "    DeltaW = SqDeltaT*np.random.randn(NbTraj,NbStep)\n",
    "    increments = nu*DeltaT + sigma*DeltaW\n",
    "    concat = np.concatenate((np.log(S0)*np.ones([NbTraj,1]),increments),axis=1)\n",
    "    LogSt = np.cumsum(concat,axis=1)\n",
    "    St = np.exp(LogSt)\n",
    "    t = np.arange(0,1+DeltaT,DeltaT)\n",
    "\n",
    "    return St,t\n",
    "\n",
    "def calc_daily_ret(closes):\n",
    "    return np.log(closes/closes.shift(1)).iloc[1:]"
   ]
  },
  {
   "cell_type": "code",
   "execution_count": 4,
   "metadata": {},
   "outputs": [
    {
     "data": {
      "text/html": [
       "<div>\n",
       "<style>\n",
       "    .dataframe thead tr:only-child th {\n",
       "        text-align: right;\n",
       "    }\n",
       "\n",
       "    .dataframe thead th {\n",
       "        text-align: left;\n",
       "    }\n",
       "\n",
       "    .dataframe tbody tr th {\n",
       "        vertical-align: top;\n",
       "    }\n",
       "</style>\n",
       "<table border=\"1\" class=\"dataframe\">\n",
       "  <thead>\n",
       "    <tr style=\"text-align: right;\">\n",
       "      <th></th>\n",
       "      <th>0</th>\n",
       "    </tr>\n",
       "  </thead>\n",
       "  <tbody>\n",
       "    <tr>\n",
       "      <th>0.000</th>\n",
       "      <td>100.000</td>\n",
       "    </tr>\n",
       "    <tr>\n",
       "      <th>0.001</th>\n",
       "      <td>99.747</td>\n",
       "    </tr>\n",
       "    <tr>\n",
       "      <th>0.002</th>\n",
       "      <td>99.073</td>\n",
       "    </tr>\n",
       "    <tr>\n",
       "      <th>0.003</th>\n",
       "      <td>98.483</td>\n",
       "    </tr>\n",
       "    <tr>\n",
       "      <th>0.004</th>\n",
       "      <td>98.119</td>\n",
       "    </tr>\n",
       "    <tr>\n",
       "      <th>...</th>\n",
       "      <td>...</td>\n",
       "    </tr>\n",
       "    <tr>\n",
       "      <th>0.996</th>\n",
       "      <td>104.912</td>\n",
       "    </tr>\n",
       "    <tr>\n",
       "      <th>0.997</th>\n",
       "      <td>104.189</td>\n",
       "    </tr>\n",
       "    <tr>\n",
       "      <th>0.998</th>\n",
       "      <td>104.362</td>\n",
       "    </tr>\n",
       "    <tr>\n",
       "      <th>0.999</th>\n",
       "      <td>103.602</td>\n",
       "    </tr>\n",
       "    <tr>\n",
       "      <th>1.000</th>\n",
       "      <td>103.588</td>\n",
       "    </tr>\n",
       "  </tbody>\n",
       "</table>\n",
       "<p>1001 rows × 1 columns</p>\n",
       "</div>"
      ],
      "text/plain": [
       "             0\n",
       "0.000  100.000\n",
       "0.001   99.747\n",
       "0.002   99.073\n",
       "0.003   98.483\n",
       "0.004   98.119\n",
       "...        ...\n",
       "0.996  104.912\n",
       "0.997  104.189\n",
       "0.998  104.362\n",
       "0.999  103.602\n",
       "1.000  103.588\n",
       "\n",
       "[1001 rows x 1 columns]"
      ]
     },
     "execution_count": 4,
     "metadata": {},
     "output_type": "execute_result"
    },
    {
     "data": {
      "image/png": "[encoded data removed]",
      "text/plain": [
       "<matplotlib.figure.Figure at 0x148766975c0>"
      ]
     },
     "metadata": {},
     "output_type": "display_data"
    }
   ],
   "source": [
    "NbTraj = 1\n",
    "NbStep = 1000\n",
    "S0 = 100\n",
    "mu = 0.10\n",
    "sigma = 0.2\n",
    "\n",
    "St,t = BSprices(mu,sigma,S0,NbTraj,NbStep)\n",
    "plt.plot(t,St.T)\n",
    "\n",
    "prices = pd.DataFrame(St.T,index=t)\n",
    "#f = np.log(St[0:-1]/St[1:])\n",
    "#plt.plot(t[1:],f)\n",
    "prices"
   ]
  },
  {
   "cell_type": "code",
   "execution_count": null,
   "metadata": {
    "collapsed": true
   },
   "outputs": [],
   "source": [
    "#importar los paquetes que se van a usar\n",
    "import pandas as pd\n",
    "import pandas_datareader.data as web\n",
    "import numpy as np\n",
    "import datetime\n",
    "import matplotlib.pyplot as plt\n",
    "import scipy.stats as st\n",
    "import seaborn as sns\n",
    "#algunas opciones para Pandas\n",
    "pd.set_option('display.notebook_repr_html', True)\n",
    "pd.set_option('display.max_columns', 6)\n",
    "pd.set_option('display.max_rows', 10)\n",
    "pd.set_option('display.width', 78)\n",
    "pd.set_option('precision', 3)\n",
    "\n",
    "\n",
    "def BSprices(mu,sigma,S0,NbTraj,NbStep):\n",
    "    T = 1\n",
    "    nu = mu-(sigma**2)/2\n",
    "    \n",
    "    DeltaT = T/NbStep\n",
    "    SqDeltaT = np.sqrt(DeltaT)\n",
    "    \n",
    "    #for i in range(NbStep):\n",
    "    DeltaW = SqDeltaT*np.random.randn(NbTraj,NbStep)\n",
    "    increments = nu*DeltaT + sigma*DeltaW\n",
    "    concat = np.concatenate((np.log(S0)*np.ones([NbTraj,1]),increments),axis=1)\n",
    "    LogSt = np.cumsum(concat,axis=1)\n",
    "    St = np.exp(LogSt)\n",
    "    t = np.arange(0,1+DeltaT,DeltaT)\n",
    "\n",
    "    return St,t\n",
    "\n",
    "def calc_daily_ret(closes):\n",
    "    return np.log(closes/closes.shift(1)).iloc[1:]\n",
    "    \n",
    "NbTraj = 100\n",
    "NbStep = 360\n",
    "S0 = 100\n",
    "r = 0.10\n",
    "sigma = 0.2\n",
    "K = 100\n",
    "T = 1\n",
    "\n",
    "St,t = BSprices(r,sigma,S0,NbTraj,NbStep)\n",
    "#t = t*360\n",
    "#plt.plot(t,St.T)\n",
    "#plt.show()\n",
    "\n",
    "prices = pd.DataFrame(St.T,index=t)\n",
    "\n",
    "Average_t = prices.expanding().mean()\n",
    "#plt.plot(t,Average_t)\n",
    "plt.show()#\n",
    "\n",
    "#### Sumas de Riemann\n",
    "strike = pd.DataFrame(K*np.ones([NbStep+1,NbTraj]), index=t)\n",
    "call = pd.DataFrame({'Prima':np.exp(-r*T) \\\n",
    "             *np.fmax(Average_t-strike,np.zeros([NbStep+1,NbTraj])).mean(axis=1)}, index=t)\n",
    "call.plot()\n",
    "call.iloc[-1]\n",
    "# .mean(axis=1) realiza el promedio entre las filas de np.fmax()"
   ]
  },
  {
   "cell_type": "markdown",
   "metadata": {},
   "source": [
    "<script>\n",
    "  $(document).ready(function(){\n",
    "    $('div.prompt').hide();\n",
    "    $('div.back-to-top').hide();\n",
    "    $('nav#menubar').hide();\n",
    "    $('.breadcrumb').hide();\n",
    "    $('.hidden-print').hide();\n",
    "  });\n",
    "</script>\n",
    "\n",
    "<footer id=\"attribution\" style=\"float:right; color:#808080; background:#fff;\">\n",
    "Created with Jupyter by Oscar David Jaramillo Z.\n",
    "</footer>"
   ]
  }
 ],
 "metadata": {
  "kernelspec": {
   "display_name": "Python 3",
   "language": "python",
   "name": "python3"
  },
  "language_info": {
   "codemirror_mode": {
    "name": "ipython",
    "version": 3
   },
   "file_extension": ".py",
   "mimetype": "text/x-python",
   "name": "python",
   "nbconvert_exporter": "python",
   "pygments_lexer": "ipython3",
   "version": "3.6.2"
  }
 },
 "nbformat": 4,
 "nbformat_minor": 2
}
