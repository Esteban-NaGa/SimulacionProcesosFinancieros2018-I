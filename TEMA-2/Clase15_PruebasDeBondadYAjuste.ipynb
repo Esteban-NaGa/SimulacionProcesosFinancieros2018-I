{
 "cells": [
  {
   "cell_type": "markdown",
   "metadata": {},
   "source": [
    "# Solución tarea base de datos de biblioteca"
   ]
  },
  {
   "cell_type": "code",
   "execution_count": null,
   "metadata": {
    "collapsed": true
   },
   "outputs": [],
   "source": [
    "########### Solución 1\n",
    "orders = [ [\"34587\", \"Learning Python, Mark Lutz\", 4, 40.95], \n",
    "        [\"98762\", \"Programming Python, Mark Lutz\", 5, 56.80], \n",
    "           [\"77226\", \"Head First Python, Paul Barry\", 3,32.95],\n",
    "           [\"88112\", \"Einführung in Python3, Bernd Klein\", \t3, 24.99]]\n",
    "\n",
    "min_order = 100\n",
    "invoice_totals = list(map(lambda x: x if x[1] >= min_order else (x[0], x[1] + 10), \n",
    "                 map(lambda x: (x[0],x[2] * x[3]), orders)))\n",
    "print(invoice_totals)"
   ]
  },
  {
   "cell_type": "code",
   "execution_count": null,
   "metadata": {
    "collapsed": true
   },
   "outputs": [],
   "source": [
    "########### Solución 2\n",
    "from functools import reduce\n",
    "\n",
    "orders = [ [1, (\"5464\", 4, 9.99), (\"8274\",18,12.99), (\"9744\", 9, 44.95)], \n",
    "           [2, (\"5464\", 9, 9.99), (\"9744\", 9, 44.95)],\n",
    "           [3, (\"5464\", 9, 9.99), (\"88112\", 11, 24.99)],\n",
    "           [4, (\"8732\", 7, 11.99), (\"7733\",11,18.99), (\"88112\", 5, 39.95)] ]\n",
    "\n",
    "min_order = 100\n",
    "invoice_totals = list(map(lambda x: [x[0]] + list(map(lambda y: y[1]*y[2] if y[1]*y[2]>=min_order else y[1]*y[2] +10 , x[1:])), orders))\n",
    "invoice_totals = list(map(lambda x: [x[0]] + [reduce(lambda a,b: a + b, x[1:])], invoice_totals))\n",
    "invoice_totals = list(map(lambda x: x if x[1] >= min_order else (x[0], x[1] + 10), invoice_totals))\n",
    "\n",
    "print (invoice_totals)"
   ]
  },
  {
   "cell_type": "markdown",
   "metadata": {},
   "source": [
    "# Introducción\n",
    "\n",
    "En las sesiones previas, hemos considerado diferentes familias de modelos que se puede usar como ingrediente clave para construir un simulador Monte Carlo. Aquí consideramos el lado cuantitativo de la moneda: después de seleccionar una estructura de modelo, ¿cómo debemos estimar sus parámetros? Por lo tanto, entramos en el dominio de estadística inferencial, mediante la cual, dada una muestra de datos observados, participamos en tareas cada vez más difíciles: \n",
    "- Encontrar estimaciones de puntos e intervalos de momentos básicos como el valor esperado y varianza *(Pruebas de hipótesis e intervalos de confianza)*.\n",
    "- Estimar los parámetros de una distribución de probabilidad posiblemente complicada\n",
    "- Estimar los parámetros de un modelo de serie temporal\n",
    "\n",
    "## Estadística inferencial básica\n",
    "\n",
    "### 1. Intervalos de confianza\n",
    "\n",
    "La mayoría de nosotros conoce las estadística inferencial mediante el cálculo de un intervalo de confianza para un valor esperado $\\mu$. Este concepto es relevante en ambos extremos de una simulación Monte Carlo, ya que solía definir las variables aleatorias de entrada, así como analizar la salida. Dada una muestra $X_i, i = 1,. . . , n$ de i.i.d. variables aleatorias (independientes e idénticamente distribuidas), el simulacro es el siguiente:\n",
    "1. Calcular la media y varianza de la muestra\n",
    "$$ \\bar X ={1\\over n}\\sum_{i=1}^nX_i,\\qquad S^2={1\\over n-1}\\sum_{i=1}^n (X_i-\\bar X )^2$$\n",
    "2. Escoger un nivel de confianza $(1-\\alpha)$ y tomar el correspondiente cuantil $t_{n-1,1-\\alpha/2}$ de la distribución $t$ con $n-1$ grados de libertad.\n",
    "3. Calcular el intervalo de confianza\n",
    "$$\\bar X \\pm t_{n-1,1-\\alpha/2}{S\\over\\sqrt{n}}$$"
   ]
  },
  {
   "cell_type": "markdown",
   "metadata": {},
   "source": [
    "Este procedimiento es tan fácil de realizar que uno tiende a olvidar que se basa en algunas suposiciones importantes. Las siguientes observaciones están en orden:\n",
    "- Estrictamente hablando, el procedimiento anterior es correcto solo para variables aleatorias normales. De hecho, si las variables $X_i \\sim N (\\mu, \\sigma^2)$ son independientes, entonces es cierto que la siguiente estadística estandarizada es normal:\n",
    "$$Z={\\bar X -\\mu \\over \\sigma/\\sqrt{n}}\\sim N\\bigg(\\mu,{\\sigma^2\\over n}\\bigg)$$\n",
    "\n",
    "Si nosotros reemplazamos $\\sigma$ por su contraparte $S$, encontramos una distribución *$t$ student*\n",
    "$$T={\\bar X -\\mu \\over S/\\sqrt{n}}\\sim t_{n-1}$$\n",
    "El cual implica\n",
    "$$P\\{-t_{n-1,1-\\alpha/2}\\leq T \\leq t_{n-1,1-\\alpha/2}\\} = 1-\\alpha$$\n",
    "\n",
    "Al reordenar esta relación obtenemos el intervalo de confianza dado anteriormente. Una gran parte de las estadísticas inferenciales se basa en resultados de distribución similares. Si aplicamos el procedimiento a una **distribución diferente**, lo que encontramos es, en el mejor de los casos, una buena aproximación para una muestra **adecuadamente grande**; con una muestra pequeña y una distribución sesgada, deberíamos repetir el ejercicio para las características específicas de esa distribución.\n",
    "\n",
    "- También es muy importante enfatizar el rol de la independencia. Es la independencia en la muestra lo que nos permite escribir\n",
    "$$Var(\\bar X)={\\sigma^2 \\over n}$$\n",
    "\n",
    "- Al analizar el resultado de una simulación Monte Carlo, el tamaño de la muestra suele ser bastante grande. Por lo tanto, generalmente reemplazamos los cuantiles de la distribución $t$ con los cuantiles $z_{1-\\alpha/2}$ de la distribución normal estándar. Sin embargo, esto no necesita aplicarse al análisis de datos de entrada."
   ]
  },
  {
   "cell_type": "markdown",
   "metadata": {},
   "source": [
    "# Intervalos de confianza en python\n",
    "\n",
    "Utilizando la librería estadística `scipy.stats` y utilizando la función `t.intervar(confianza, len(a)-1, loc=np.mean(a), scale=st.sem(a))`, se puede calcula un intervalo de confianza con un nivel de confianza definido en confianza, para un vector de entrada `a`. Se puede utilizar intervalos con los cuantiles de la normal estándar usando `st.norm.interval(confianza, loc=np.mean(a), scale=st.sem(a))`"
   ]
  },
  {
   "cell_type": "code",
   "execution_count": 44,
   "metadata": {
    "collapsed": true
   },
   "outputs": [],
   "source": [
    "import numpy as np\n",
    "import scipy.stats as st     # Librería estadística\n",
    "import matplotlib.pyplot as plt"
   ]
  },
  {
   "cell_type": "code",
   "execution_count": 29,
   "metadata": {},
   "outputs": [
    {
     "name": "stdout",
     "output_type": "stream",
     "text": [
      "Con una confianza de 0.95 la media estará en el intervalo t,\n",
      " (6.9453418112953438, 12.429320582324728)\n",
      "Con una confianza de 0.95 la media estará en el intervalo normal,\n",
      " (6.9620173671153029, 12.412645026504768)\n",
      "Media calculada 9.68733119681\n"
     ]
    }
   ],
   "source": [
    "np.random.seed(55555)\n",
    "media = 10; sd = 20; N = 200\n",
    "confianza = 0.95\n",
    "X = np.random.normal(media,sd,N)\n",
    "# st.sem\n",
    "i1 = st.t.interval(confianza,len(X)-1, loc=np.mean(X), scale=st.sem(X))\n",
    "i2 = st.norm.interval(confianza, loc=np.mean(X), scale=st.sem(X))\n",
    "print('Con una confianza de %2.2f la media estará en el intervalo t,\\n %s' %(confianza,i1))\n",
    "print('Con una confianza de %2.2f la media estará en el intervalo normal,\\n %s' %(confianza,i2))\n",
    "print('Media calculada' ,np.mean(X))"
   ]
  },
  {
   "cell_type": "markdown",
   "metadata": {},
   "source": [
    "## 2. Pruebas de hipótesis\n",
    "\n",
    "La prueba de hipótesis básica que uno puede desear ejecutar se refiere al valor esperado:\n",
    "- Probamos la hipótesis nula Ho: $\\mu = \\mu_0$, para un $\\mu_0$ dado,\n",
    "- contra la hipótesis alternativa Ha: $\\mu\\neq \\mu_0$\n",
    "\n",
    "En el caso normal, confiamos en el resultado de distribución de Eq. (4.3), donde el el valor esperado desconocido $\\mu$ se reemplaza por el valor hipotético $\\mu_0$. Esto muestra que, si la hipótesis nula es verdadera, entonces\n",
    "\n",
    "$$P\\bigg(-t_{n-1,1-\\alpha/2}\\leq {\\bar X-\\mu_0\\over S/\\sqrt n} \\leq t_{n-1,1-\\alpha/2}\\bigg) = 1-\\alpha$$\n",
    "\n",
    "En otras palabras, todo se reduce a analizar el estadístico de prueba estandarizado\n",
    "$$T={\\bar X-\\mu_0\\over S/\\sqrt n}$$\n",
    "\n",
    "si la hipótesis nula es verdadera, tiene una distribución t de Student con n - 1 grados de libertad, y debe estar dentro de los límites correspondientes a los cuantiles. Si T cae fuera de ese intervalo, hay dos posibles explicaciones: puede ser simplemente mala suerte, o tal vez la hipótesis nula es incorrecta. No podemos estar seguros de ninguno de los dos, y podemos cometer dos tipos de error: podemos rechazar una hipótesis verdadera, o podemos aceptar una falsa. El enfoque elemental es conservador y mantiene la probabilidad de rechazar una verdadera hipótesis nula bajo control. Por lo tanto, formamos una región de rechazo que consta de dos colas\n",
    "\n",
    "$$RJ = \\{t:t<-t_{n-1,1-\\alpha/2}\\}U\\{t:t>t_{n-1,1-\\alpha/2}\\}$$\n",
    "\n",
    "Se rechaza la hipótesis nula si el estadístico $T\\in RJ$. Acá $\\alpha$ juega un papel de el nivel de significancia o mejor dicho, la probabilidad  de rechazar la hipótesis nula si esta es cierta. El valor típico para este nivel de significancia es tomarlo en 5%.\n",
    "\n",
    "$$p-value= P(T)=P\\bigg({\\bar X -\\mu_0 \\over S/\\sqrt n}\\bigg)\\sim t_{n-1}$$\n",
    "\n",
    "La prueba mide si el puntaje promedio difiere significativamente entre las muestras. Si observamos un valor de p grande, por ejemplo mayor que 0.05 o 0.1, entonces no podemos rechazar la hipótesis nula. Si el valor p es menor que el umbral, p. 1%, 5% o 10%, luego rechazamos la hipótesis nula. Los pequeños valores p se asocian con grandes t-estadísticas."
   ]
  },
  {
   "cell_type": "code",
   "execution_count": 71,
   "metadata": {},
   "outputs": [
    {
     "name": "stdout",
     "output_type": "stream",
     "text": [
      "La prueba de hipótesis arroja como resultado\n",
      " Ttest_1sampResult(statistic=1.2134780001130989, pvalue=0.22638544529884408)\n",
      "1.21652311908\n"
     ]
    },
    {
     "data": {
      "image/png": "[encoded data removed]",
      "text/plain": [
       "<matplotlib.figure.Figure at 0x1cba3d68f98>"
      ]
     },
     "metadata": {},
     "output_type": "display_data"
    }
   ],
   "source": [
    "# Hipótesis nula\n",
    "media2 = 8\n",
    "# Realizamos la prueba de hipotesis para H0= mu=media2\n",
    "ho = st.ttest_1samp(X,media2)\n",
    "print('La prueba de hipótesis arroja como resultado\\n',ho)\n",
    "# Calculamos el estadístico normalizado\n",
    "t = (np.mean(X)-media2)/(np.std(X)/np.sqrt(N))\n",
    "print(t)\n",
    "\n",
    "# Gráfica t-student\n",
    "# %matplotlib inline\n",
    "dat = np.arange(-4,4,.1)\n",
    "# for i in range(1):\n",
    "y = st.t.pdf(dat,df=N-1)\n",
    "plt.plot(dat,y)\n",
    "plt.show()\n"
   ]
  },
  {
   "cell_type": "markdown",
   "metadata": {},
   "source": [
    "# Pruebas de bondad y ajuste\n",
    "\n"
   ]
  },
  {
   "cell_type": "code",
   "execution_count": 8,
   "metadata": {},
   "outputs": [
    {
     "name": "stdout",
     "output_type": "stream",
     "text": [
      "Valor de chi cuadrado =  2.76438804576\n",
      "Estadístico de Ji =  6.25138863117\n"
     ]
    }
   ],
   "source": [
    "#### Método chi cuadrado\n",
    "F_obse = [68,75,57,79,32,45,33,31]\n",
    "F_espe = [66.43,79.72,59.79,73.07,33.57,40.28,30.21,36.93]\n",
    "\n",
    "x2 = st.chisquare(F_obse,F_espe)\n",
    "print('Valor de chi cuadrado = ',list(x2)[0])\n",
    "\n",
    "Ji = st.chi2.ppf(q = 0.9,df=3)\n",
    "print('Estadístico de Ji = ',Ji)\n",
    "st.t.interval"
   ]
  },
  {
   "cell_type": "markdown",
   "metadata": {},
   "source": [
    "<script>\n",
    "  $(document).ready(function(){\n",
    "    $('div.prompt').hide();\n",
    "    $('div.back-to-top').hide();\n",
    "    $('nav#menubar').hide();\n",
    "    $('.breadcrumb').hide();\n",
    "    $('.hidden-print').hide();\n",
    "  });\n",
    "</script>\n",
    "\n",
    "<footer id=\"attribution\" style=\"float:right; color:#808080; background:#fff;\">\n",
    "Created with Jupyter by Oscar David Jaramillo Zuluaga.\n",
    "</footer>"
   ]
  }
 ],
 "metadata": {
  "kernelspec": {
   "display_name": "Python 3",
   "language": "python",
   "name": "python3"
  },
  "language_info": {
   "codemirror_mode": {
    "name": "ipython",
    "version": 3
   },
   "file_extension": ".py",
   "mimetype": "text/x-python",
   "name": "python",
   "nbconvert_exporter": "python",
   "pygments_lexer": "ipython3",
   "version": "3.6.2"
  }
 },
 "nbformat": 4,
 "nbformat_minor": 2
}
